{
 "cells": [
  {
   "cell_type": "markdown",
   "id": "a0fe5b07-94fd-4efc-915c-902e8c34ce75",
   "metadata": {},
   "source": [
    "# Roadtrip Route Optimizer: Data-Driven Landmark Exploration"
   ]
  },
  {
   "cell_type": "markdown",
   "id": "8d8dd8c5-a6f8-406c-a45c-58846d73367f",
   "metadata": {},
   "source": [
    "**Project Description**\n",
    "\n",
    "Generate a roadtrip route through the most picturesque and popular landmarks and natural attractions. Use available data (e.g., photo frequency, reviews) to rank stops and suggest how long to spend at each.\n",
    "\n",
    "- Build a route display with a map and scrollable landmark cards.\n",
    "- Create a visual layout highlighting landmark photos and descriptions.\n",
    "- Add filtering or sorting by popularity, type (e.g., “nature,” “architecture”), or time required.\n",
    "- Display total trip summary (e.g., distance, number of stops)."
   ]
  },
  {
   "cell_type": "code",
   "execution_count": 47,
   "id": "49f137a8-59b3-42df-b4ac-217e891aa6e5",
   "metadata": {},
   "outputs": [
    {
     "name": "stdout",
     "output_type": "stream",
     "text": [
      "Requirement already satisfied: plotly in /opt/anaconda3/lib/python3.12/site-packages (5.24.1)\n",
      "Collecting plotly\n",
      "  Downloading plotly-6.2.0-py3-none-any.whl.metadata (8.5 kB)\n",
      "Requirement already satisfied: narwhals>=1.15.1 in /opt/anaconda3/lib/python3.12/site-packages (from plotly) (1.43.0)\n",
      "Requirement already satisfied: packaging in /opt/anaconda3/lib/python3.12/site-packages (from plotly) (25.0)\n",
      "Downloading plotly-6.2.0-py3-none-any.whl (9.6 MB)\n",
      "\u001b[2K   \u001b[90m━━━━━━━━━━━━━━━━━━━━━━━━━━━━━━━━━━━━━━━━\u001b[0m \u001b[32m9.6/9.6 MB\u001b[0m \u001b[31m38.3 MB/s\u001b[0m eta \u001b[36m0:00:00\u001b[0ma \u001b[36m0:00:01\u001b[0m\n",
      "\u001b[?25hInstalling collected packages: plotly\n",
      "  Attempting uninstall: plotly\n",
      "    Found existing installation: plotly 5.24.1\n",
      "    Uninstalling plotly-5.24.1:\n",
      "      Successfully uninstalled plotly-5.24.1\n",
      "Successfully installed plotly-6.2.0\n",
      "Requirement already satisfied: haversine in /opt/anaconda3/lib/python3.12/site-packages (2.9.0)\n",
      "Requirement already satisfied: kaleido in /opt/anaconda3/lib/python3.12/site-packages (1.0.0)\n",
      "Requirement already satisfied: choreographer>=1.0.5 in /opt/anaconda3/lib/python3.12/site-packages (from kaleido) (1.0.9)\n",
      "Requirement already satisfied: logistro>=1.0.8 in /opt/anaconda3/lib/python3.12/site-packages (from kaleido) (1.1.0)\n",
      "Requirement already satisfied: orjson>=3.10.15 in /opt/anaconda3/lib/python3.12/site-packages (from kaleido) (3.11.0)\n",
      "Requirement already satisfied: packaging in /opt/anaconda3/lib/python3.12/site-packages (from kaleido) (25.0)\n",
      "Requirement already satisfied: simplejson>=3.19.3 in /opt/anaconda3/lib/python3.12/site-packages (from choreographer>=1.0.5->kaleido) (3.20.1)\n"
     ]
    }
   ],
   "source": [
    "import pandas as pd\n",
    "import pandas as pd\n",
    "\n",
    "!pip install -U plotly\n",
    "import plotly.express as px\n",
    "import plotly.graph_objects as go\n",
    "\n",
    "!pip install haversine\n",
    "from haversine import haversine\n",
    "\n",
    "!pip install -U kaleido\n",
    "import plotly.io as pio"
   ]
  },
  {
   "cell_type": "markdown",
   "id": "c96bea4c-3b28-4ebc-8548-c5050d306e9f",
   "metadata": {},
   "source": [
    "## Find and Prepare Data"
   ]
  },
  {
   "cell_type": "markdown",
   "id": "29e80793-06aa-45af-b70f-e4764d90a0ec",
   "metadata": {},
   "source": [
    "Collect data on locations;\n",
    "- Must contain longitude and latitude\n",
    "- Location name\n",
    "- Select a maximum of 9 locations to find the optimal route in a reasonable time\n",
    "- Some datasets on Kaggle"
   ]
  },
  {
   "cell_type": "markdown",
   "id": "acaa3ab3-87fb-43ea-a8e6-24de8f03e541",
   "metadata": {},
   "source": [
    "We decided to work with 5 nationally recognizable landmarks for our sightseeing project. We manually collected the data from web searches on Google."
   ]
  },
  {
   "cell_type": "code",
   "execution_count": 52,
   "id": "d675cacd-2786-4951-b051-8a1ecfa04355",
   "metadata": {},
   "outputs": [],
   "source": [
    "# Link to read the data in Sabrina's branch\n",
    "url = 'https://raw.githubusercontent.com/KRMalaGrino/butterfly-brigade/refs/heads/sabrina/data_science/Landmark_Dataset_with_Visit_Time_and_Popularity_Factors.csv'\n",
    "df = pd.read_csv(url)"
   ]
  },
  {
   "cell_type": "code",
   "execution_count": 54,
   "id": "b9a65da8-b41c-4190-831b-f4529e8b9768",
   "metadata": {},
   "outputs": [
    {
     "data": {
      "text/html": [
       "<div>\n",
       "<style scoped>\n",
       "    .dataframe tbody tr th:only-of-type {\n",
       "        vertical-align: middle;\n",
       "    }\n",
       "\n",
       "    .dataframe tbody tr th {\n",
       "        vertical-align: top;\n",
       "    }\n",
       "\n",
       "    .dataframe thead th {\n",
       "        text-align: right;\n",
       "    }\n",
       "</style>\n",
       "<table border=\"1\" class=\"dataframe\">\n",
       "  <thead>\n",
       "    <tr style=\"text-align: right;\">\n",
       "      <th></th>\n",
       "      <th>City</th>\n",
       "      <th>State</th>\n",
       "      <th>Landmark</th>\n",
       "      <th>Latitude</th>\n",
       "      <th>Longitude</th>\n",
       "      <th>Type</th>\n",
       "      <th>Visit Time (hrs)</th>\n",
       "      <th>Average User Rating</th>\n",
       "      <th>Reviews/Photos</th>\n",
       "      <th>Annual Visitors</th>\n",
       "    </tr>\n",
       "  </thead>\n",
       "  <tbody>\n",
       "    <tr>\n",
       "      <th>0</th>\n",
       "      <td>Keystone</td>\n",
       "      <td>South Dakota</td>\n",
       "      <td>Mount Rushmore</td>\n",
       "      <td>43.8791</td>\n",
       "      <td>-103.4591</td>\n",
       "      <td>Historical/Architectural</td>\n",
       "      <td>2</td>\n",
       "      <td>4.7</td>\n",
       "      <td>25000</td>\n",
       "      <td>2000000</td>\n",
       "    </tr>\n",
       "    <tr>\n",
       "      <th>1</th>\n",
       "      <td>Grand Canyon Village</td>\n",
       "      <td>Arizona</td>\n",
       "      <td>Grand Canyon</td>\n",
       "      <td>36.1069</td>\n",
       "      <td>-112.1129</td>\n",
       "      <td>Natural</td>\n",
       "      <td>8</td>\n",
       "      <td>4.9</td>\n",
       "      <td>60000</td>\n",
       "      <td>6000000</td>\n",
       "    </tr>\n",
       "    <tr>\n",
       "      <th>2</th>\n",
       "      <td>Niagara Falls</td>\n",
       "      <td>New York</td>\n",
       "      <td>Niagara Falls</td>\n",
       "      <td>43.0962</td>\n",
       "      <td>-79.0377</td>\n",
       "      <td>Natural</td>\n",
       "      <td>4</td>\n",
       "      <td>4.8</td>\n",
       "      <td>55000</td>\n",
       "      <td>9000000</td>\n",
       "    </tr>\n",
       "    <tr>\n",
       "      <th>3</th>\n",
       "      <td>New York</td>\n",
       "      <td>New York</td>\n",
       "      <td>Statue of Liberty</td>\n",
       "      <td>40.6892</td>\n",
       "      <td>-74.0445</td>\n",
       "      <td>Historical/Architectural</td>\n",
       "      <td>4</td>\n",
       "      <td>4.7</td>\n",
       "      <td>30000</td>\n",
       "      <td>4300000</td>\n",
       "    </tr>\n",
       "    <tr>\n",
       "      <th>4</th>\n",
       "      <td>St. Louis</td>\n",
       "      <td>Missouri</td>\n",
       "      <td>Gateway Arch</td>\n",
       "      <td>38.6247</td>\n",
       "      <td>-90.1848</td>\n",
       "      <td>Architectural</td>\n",
       "      <td>2</td>\n",
       "      <td>4.7</td>\n",
       "      <td>15000</td>\n",
       "      <td>2000000</td>\n",
       "    </tr>\n",
       "    <tr>\n",
       "      <th>5</th>\n",
       "      <td>Washington</td>\n",
       "      <td>District of Columbia</td>\n",
       "      <td>Lincoln Memorial</td>\n",
       "      <td>38.8893</td>\n",
       "      <td>-77.0502</td>\n",
       "      <td>Historical</td>\n",
       "      <td>1</td>\n",
       "      <td>4.8</td>\n",
       "      <td>25000</td>\n",
       "      <td>8000000</td>\n",
       "    </tr>\n",
       "    <tr>\n",
       "      <th>6</th>\n",
       "      <td>San Francisco</td>\n",
       "      <td>California</td>\n",
       "      <td>Golden Gate Bridge</td>\n",
       "      <td>37.8199</td>\n",
       "      <td>-122.4783</td>\n",
       "      <td>Architectural</td>\n",
       "      <td>2</td>\n",
       "      <td>4.8</td>\n",
       "      <td>45000</td>\n",
       "      <td>10000000</td>\n",
       "    </tr>\n",
       "    <tr>\n",
       "      <th>7</th>\n",
       "      <td>Orlando</td>\n",
       "      <td>Florida</td>\n",
       "      <td>Disney World</td>\n",
       "      <td>28.3852</td>\n",
       "      <td>-81.5639</td>\n",
       "      <td>Amusement Park</td>\n",
       "      <td>8</td>\n",
       "      <td>4.7</td>\n",
       "      <td>85000</td>\n",
       "      <td>58000000</td>\n",
       "    </tr>\n",
       "    <tr>\n",
       "      <th>8</th>\n",
       "      <td>Las Vegas</td>\n",
       "      <td>Nevada</td>\n",
       "      <td>Las Vegas Sphere</td>\n",
       "      <td>36.1699</td>\n",
       "      <td>-115.1398</td>\n",
       "      <td>Architectural/Entertainment</td>\n",
       "      <td>2</td>\n",
       "      <td>4.6</td>\n",
       "      <td>10000</td>\n",
       "      <td>3000000</td>\n",
       "    </tr>\n",
       "  </tbody>\n",
       "</table>\n",
       "</div>"
      ],
      "text/plain": [
       "                   City                 State            Landmark  Latitude  \\\n",
       "0              Keystone          South Dakota      Mount Rushmore   43.8791   \n",
       "1  Grand Canyon Village               Arizona        Grand Canyon   36.1069   \n",
       "2         Niagara Falls              New York       Niagara Falls   43.0962   \n",
       "3              New York              New York   Statue of Liberty   40.6892   \n",
       "4             St. Louis              Missouri        Gateway Arch   38.6247   \n",
       "5            Washington  District of Columbia    Lincoln Memorial   38.8893   \n",
       "6         San Francisco            California  Golden Gate Bridge   37.8199   \n",
       "7               Orlando               Florida        Disney World   28.3852   \n",
       "8             Las Vegas                Nevada    Las Vegas Sphere   36.1699   \n",
       "\n",
       "   Longitude                         Type  Visit Time (hrs)  \\\n",
       "0  -103.4591     Historical/Architectural                 2   \n",
       "1  -112.1129                      Natural                 8   \n",
       "2   -79.0377                      Natural                 4   \n",
       "3   -74.0445     Historical/Architectural                 4   \n",
       "4   -90.1848                Architectural                 2   \n",
       "5   -77.0502                   Historical                 1   \n",
       "6  -122.4783                Architectural                 2   \n",
       "7   -81.5639               Amusement Park                 8   \n",
       "8  -115.1398  Architectural/Entertainment                 2   \n",
       "\n",
       "   Average User Rating  Reviews/Photos  Annual Visitors  \n",
       "0                  4.7           25000          2000000  \n",
       "1                  4.9           60000          6000000  \n",
       "2                  4.8           55000          9000000  \n",
       "3                  4.7           30000          4300000  \n",
       "4                  4.7           15000          2000000  \n",
       "5                  4.8           25000          8000000  \n",
       "6                  4.8           45000         10000000  \n",
       "7                  4.7           85000         58000000  \n",
       "8                  4.6           10000          3000000  "
      ]
     },
     "execution_count": 54,
     "metadata": {},
     "output_type": "execute_result"
    }
   ],
   "source": [
    "# View the data \n",
    "df"
   ]
  },
  {
   "cell_type": "code",
   "execution_count": 56,
   "id": "9b75f509-5629-4264-a681-dc5ba9ceab37",
   "metadata": {},
   "outputs": [],
   "source": [
    "# Reduce  list to only 5 locations and reset the index\n",
    "df = df.drop(index=[1, 2, 5, 8], errors='ignore').reset_index(drop=True)"
   ]
  },
  {
   "cell_type": "code",
   "execution_count": 58,
   "id": "992eae5c-4c26-4697-90f6-597940b13e7e",
   "metadata": {},
   "outputs": [
    {
     "data": {
      "text/html": [
       "<div>\n",
       "<style scoped>\n",
       "    .dataframe tbody tr th:only-of-type {\n",
       "        vertical-align: middle;\n",
       "    }\n",
       "\n",
       "    .dataframe tbody tr th {\n",
       "        vertical-align: top;\n",
       "    }\n",
       "\n",
       "    .dataframe thead th {\n",
       "        text-align: right;\n",
       "    }\n",
       "</style>\n",
       "<table border=\"1\" class=\"dataframe\">\n",
       "  <thead>\n",
       "    <tr style=\"text-align: right;\">\n",
       "      <th></th>\n",
       "      <th>City</th>\n",
       "      <th>State</th>\n",
       "      <th>Landmark</th>\n",
       "      <th>Latitude</th>\n",
       "      <th>Longitude</th>\n",
       "      <th>Type</th>\n",
       "      <th>Visit Time (hrs)</th>\n",
       "      <th>Average User Rating</th>\n",
       "      <th>Reviews/Photos</th>\n",
       "      <th>Annual Visitors</th>\n",
       "    </tr>\n",
       "  </thead>\n",
       "  <tbody>\n",
       "    <tr>\n",
       "      <th>0</th>\n",
       "      <td>Keystone</td>\n",
       "      <td>South Dakota</td>\n",
       "      <td>Mount Rushmore</td>\n",
       "      <td>43.8791</td>\n",
       "      <td>-103.4591</td>\n",
       "      <td>Historical/Architectural</td>\n",
       "      <td>2</td>\n",
       "      <td>4.7</td>\n",
       "      <td>25000</td>\n",
       "      <td>2000000</td>\n",
       "    </tr>\n",
       "    <tr>\n",
       "      <th>1</th>\n",
       "      <td>New York</td>\n",
       "      <td>New York</td>\n",
       "      <td>Statue of Liberty</td>\n",
       "      <td>40.6892</td>\n",
       "      <td>-74.0445</td>\n",
       "      <td>Historical/Architectural</td>\n",
       "      <td>4</td>\n",
       "      <td>4.7</td>\n",
       "      <td>30000</td>\n",
       "      <td>4300000</td>\n",
       "    </tr>\n",
       "    <tr>\n",
       "      <th>2</th>\n",
       "      <td>St. Louis</td>\n",
       "      <td>Missouri</td>\n",
       "      <td>Gateway Arch</td>\n",
       "      <td>38.6247</td>\n",
       "      <td>-90.1848</td>\n",
       "      <td>Architectural</td>\n",
       "      <td>2</td>\n",
       "      <td>4.7</td>\n",
       "      <td>15000</td>\n",
       "      <td>2000000</td>\n",
       "    </tr>\n",
       "    <tr>\n",
       "      <th>3</th>\n",
       "      <td>San Francisco</td>\n",
       "      <td>California</td>\n",
       "      <td>Golden Gate Bridge</td>\n",
       "      <td>37.8199</td>\n",
       "      <td>-122.4783</td>\n",
       "      <td>Architectural</td>\n",
       "      <td>2</td>\n",
       "      <td>4.8</td>\n",
       "      <td>45000</td>\n",
       "      <td>10000000</td>\n",
       "    </tr>\n",
       "    <tr>\n",
       "      <th>4</th>\n",
       "      <td>Orlando</td>\n",
       "      <td>Florida</td>\n",
       "      <td>Disney World</td>\n",
       "      <td>28.3852</td>\n",
       "      <td>-81.5639</td>\n",
       "      <td>Amusement Park</td>\n",
       "      <td>8</td>\n",
       "      <td>4.7</td>\n",
       "      <td>85000</td>\n",
       "      <td>58000000</td>\n",
       "    </tr>\n",
       "  </tbody>\n",
       "</table>\n",
       "</div>"
      ],
      "text/plain": [
       "            City         State            Landmark  Latitude  Longitude  \\\n",
       "0       Keystone  South Dakota      Mount Rushmore   43.8791  -103.4591   \n",
       "1       New York      New York   Statue of Liberty   40.6892   -74.0445   \n",
       "2      St. Louis      Missouri        Gateway Arch   38.6247   -90.1848   \n",
       "3  San Francisco    California  Golden Gate Bridge   37.8199  -122.4783   \n",
       "4        Orlando       Florida        Disney World   28.3852   -81.5639   \n",
       "\n",
       "                       Type  Visit Time (hrs)  Average User Rating  \\\n",
       "0  Historical/Architectural                 2                  4.7   \n",
       "1  Historical/Architectural                 4                  4.7   \n",
       "2             Architectural                 2                  4.7   \n",
       "3             Architectural                 2                  4.8   \n",
       "4            Amusement Park                 8                  4.7   \n",
       "\n",
       "   Reviews/Photos  Annual Visitors  \n",
       "0           25000          2000000  \n",
       "1           30000          4300000  \n",
       "2           15000          2000000  \n",
       "3           45000         10000000  \n",
       "4           85000         58000000  "
      ]
     },
     "execution_count": 58,
     "metadata": {},
     "output_type": "execute_result"
    }
   ],
   "source": [
    "# Check the changes\n",
    "df"
   ]
  },
  {
   "cell_type": "code",
   "execution_count": 60,
   "id": "c269ca84-4d3b-4fce-b0bd-1f0471d8c8ae",
   "metadata": {},
   "outputs": [
    {
     "name": "stdout",
     "output_type": "stream",
     "text": [
      "<class 'pandas.core.frame.DataFrame'>\n",
      "RangeIndex: 5 entries, 0 to 4\n",
      "Data columns (total 10 columns):\n",
      " #   Column               Non-Null Count  Dtype  \n",
      "---  ------               --------------  -----  \n",
      " 0   City                 5 non-null      object \n",
      " 1   State                5 non-null      object \n",
      " 2   Landmark             5 non-null      object \n",
      " 3   Latitude             5 non-null      float64\n",
      " 4   Longitude            5 non-null      float64\n",
      " 5   Type                 5 non-null      object \n",
      " 6   Visit Time (hrs)     5 non-null      int64  \n",
      " 7   Average User Rating  5 non-null      float64\n",
      " 8   Reviews/Photos       5 non-null      int64  \n",
      " 9   Annual Visitors      5 non-null      int64  \n",
      "dtypes: float64(3), int64(3), object(4)\n",
      "memory usage: 532.0+ bytes\n"
     ]
    }
   ],
   "source": [
    "# Get an overview of the dataset\n",
    "df.info()"
   ]
  },
  {
   "cell_type": "code",
   "execution_count": 62,
   "id": "e5be3630-0a6d-49e5-b256-bcdc27adf88b",
   "metadata": {},
   "outputs": [],
   "source": [
    "# Lower case the columns and fill whitespace with underscore\n",
    "df.columns = df.columns.str.lower().str.replace(' ', '_').str.replace('/', '_')"
   ]
  },
  {
   "cell_type": "code",
   "execution_count": 64,
   "id": "d92f61c8-6fe1-4e8d-8755-bb33deac386b",
   "metadata": {},
   "outputs": [
    {
     "data": {
      "text/plain": [
       "Index(['city', 'state', 'landmark', 'latitude', 'longitude', 'type',\n",
       "       'visit_time_(hrs)', 'average_user_rating', 'reviews_photos',\n",
       "       'annual_visitors'],\n",
       "      dtype='object')"
      ]
     },
     "execution_count": 64,
     "metadata": {},
     "output_type": "execute_result"
    }
   ],
   "source": [
    "# Check changes\n",
    "df.columns"
   ]
  },
  {
   "cell_type": "code",
   "execution_count": 66,
   "id": "cd5c6436-4158-4259-9aa0-26bf23463a22",
   "metadata": {},
   "outputs": [],
   "source": [
    "# Lowercase the values, replace whitespace and / with an underscore\n",
    "df = df.map(lambda x: x.lower().replace(' ', '_').replace('/', '_') if isinstance(x, str) else x)"
   ]
  },
  {
   "cell_type": "code",
   "execution_count": 68,
   "id": "3bd6e397-8267-407b-8f83-128515a3b617",
   "metadata": {},
   "outputs": [
    {
     "data": {
      "text/html": [
       "<div>\n",
       "<style scoped>\n",
       "    .dataframe tbody tr th:only-of-type {\n",
       "        vertical-align: middle;\n",
       "    }\n",
       "\n",
       "    .dataframe tbody tr th {\n",
       "        vertical-align: top;\n",
       "    }\n",
       "\n",
       "    .dataframe thead th {\n",
       "        text-align: right;\n",
       "    }\n",
       "</style>\n",
       "<table border=\"1\" class=\"dataframe\">\n",
       "  <thead>\n",
       "    <tr style=\"text-align: right;\">\n",
       "      <th></th>\n",
       "      <th>city</th>\n",
       "      <th>state</th>\n",
       "      <th>landmark</th>\n",
       "      <th>latitude</th>\n",
       "      <th>longitude</th>\n",
       "      <th>type</th>\n",
       "      <th>visit_time_(hrs)</th>\n",
       "      <th>average_user_rating</th>\n",
       "      <th>reviews_photos</th>\n",
       "      <th>annual_visitors</th>\n",
       "    </tr>\n",
       "  </thead>\n",
       "  <tbody>\n",
       "    <tr>\n",
       "      <th>0</th>\n",
       "      <td>keystone</td>\n",
       "      <td>south_dakota</td>\n",
       "      <td>mount_rushmore</td>\n",
       "      <td>43.8791</td>\n",
       "      <td>-103.4591</td>\n",
       "      <td>historical_architectural</td>\n",
       "      <td>2</td>\n",
       "      <td>4.7</td>\n",
       "      <td>25000</td>\n",
       "      <td>2000000</td>\n",
       "    </tr>\n",
       "    <tr>\n",
       "      <th>1</th>\n",
       "      <td>new_york</td>\n",
       "      <td>new_york</td>\n",
       "      <td>statue_of_liberty</td>\n",
       "      <td>40.6892</td>\n",
       "      <td>-74.0445</td>\n",
       "      <td>historical_architectural</td>\n",
       "      <td>4</td>\n",
       "      <td>4.7</td>\n",
       "      <td>30000</td>\n",
       "      <td>4300000</td>\n",
       "    </tr>\n",
       "    <tr>\n",
       "      <th>2</th>\n",
       "      <td>st._louis</td>\n",
       "      <td>missouri</td>\n",
       "      <td>gateway_arch</td>\n",
       "      <td>38.6247</td>\n",
       "      <td>-90.1848</td>\n",
       "      <td>architectural</td>\n",
       "      <td>2</td>\n",
       "      <td>4.7</td>\n",
       "      <td>15000</td>\n",
       "      <td>2000000</td>\n",
       "    </tr>\n",
       "    <tr>\n",
       "      <th>3</th>\n",
       "      <td>san_francisco</td>\n",
       "      <td>california</td>\n",
       "      <td>golden_gate_bridge</td>\n",
       "      <td>37.8199</td>\n",
       "      <td>-122.4783</td>\n",
       "      <td>architectural</td>\n",
       "      <td>2</td>\n",
       "      <td>4.8</td>\n",
       "      <td>45000</td>\n",
       "      <td>10000000</td>\n",
       "    </tr>\n",
       "    <tr>\n",
       "      <th>4</th>\n",
       "      <td>orlando</td>\n",
       "      <td>florida</td>\n",
       "      <td>disney_world</td>\n",
       "      <td>28.3852</td>\n",
       "      <td>-81.5639</td>\n",
       "      <td>amusement_park</td>\n",
       "      <td>8</td>\n",
       "      <td>4.7</td>\n",
       "      <td>85000</td>\n",
       "      <td>58000000</td>\n",
       "    </tr>\n",
       "  </tbody>\n",
       "</table>\n",
       "</div>"
      ],
      "text/plain": [
       "            city         state            landmark  latitude  longitude  \\\n",
       "0       keystone  south_dakota      mount_rushmore   43.8791  -103.4591   \n",
       "1       new_york      new_york   statue_of_liberty   40.6892   -74.0445   \n",
       "2      st._louis      missouri        gateway_arch   38.6247   -90.1848   \n",
       "3  san_francisco    california  golden_gate_bridge   37.8199  -122.4783   \n",
       "4        orlando       florida        disney_world   28.3852   -81.5639   \n",
       "\n",
       "                       type  visit_time_(hrs)  average_user_rating  \\\n",
       "0  historical_architectural                 2                  4.7   \n",
       "1  historical_architectural                 4                  4.7   \n",
       "2             architectural                 2                  4.7   \n",
       "3             architectural                 2                  4.8   \n",
       "4            amusement_park                 8                  4.7   \n",
       "\n",
       "   reviews_photos  annual_visitors  \n",
       "0           25000          2000000  \n",
       "1           30000          4300000  \n",
       "2           15000          2000000  \n",
       "3           45000         10000000  \n",
       "4           85000         58000000  "
      ]
     },
     "execution_count": 68,
     "metadata": {},
     "output_type": "execute_result"
    }
   ],
   "source": [
    "df"
   ]
  },
  {
   "cell_type": "markdown",
   "id": "5beddb08-2993-4bf0-9b26-c5849b1ae7d9",
   "metadata": {},
   "source": [
    "### Feature Engineering"
   ]
  },
  {
   "cell_type": "markdown",
   "id": "3d3c9bcd-9cae-4d97-bfdf-83002bed1a4d",
   "metadata": {},
   "source": [
    "To summarize the average_user_rating, review_photos and annual_vistors, we are creating an additional feature to score overall 'popularity' for each landmark."
   ]
  },
  {
   "cell_type": "code",
   "execution_count": 72,
   "id": "6ce434e8-2d54-45cd-8871-1d6aae450197",
   "metadata": {},
   "outputs": [],
   "source": [
    "# Set the weights to value the degree of importance of each of the columns\n",
    "w_r = 0.40 # weight for the ratings\n",
    "w_p = 0.30 # weight for the reviews_photos\n",
    "w_v = 0.30 # weight for the visitors"
   ]
  },
  {
   "cell_type": "code",
   "execution_count": 74,
   "id": "6192e61d-a7ef-4593-b6c4-2c40522be90d",
   "metadata": {},
   "outputs": [],
   "source": [
    "# Calculate max values \n",
    "max_reviews = df['reviews_photos'].max()\n",
    "max_visitors = df['annual_visitors'].max()"
   ]
  },
  {
   "cell_type": "code",
   "execution_count": 76,
   "id": "fd8d4b5a-5668-4241-aef6-1dcf2a372f87",
   "metadata": {},
   "outputs": [],
   "source": [
    "# Feature engineering to score popularity out of 100\n",
    "df['rating_factor'] = (df['average_user_rating'] / 5) * 100\n",
    "df['reviews_factor'] = (df['reviews_photos'] / max_reviews) * 100\n",
    "df['visitors_factor'] = (df['annual_visitors'] / max_visitors) * 100"
   ]
  },
  {
   "cell_type": "code",
   "execution_count": 78,
   "id": "b3c2de5a-f2b3-4a4d-ad85-067fa8b4643f",
   "metadata": {},
   "outputs": [],
   "source": [
    "# Calculate Popularity Score\n",
    "df['popularity'] = (\n",
    "    (df['rating_factor'] * w_r) +\n",
    "    (df['reviews_factor'] * w_p) +\n",
    "    (df['visitors_factor'] * w_v)\n",
    ")"
   ]
  },
  {
   "cell_type": "code",
   "execution_count": 80,
   "id": "cdd09264-8433-46d7-80d2-d80e5b42c30a",
   "metadata": {},
   "outputs": [
    {
     "data": {
      "text/html": [
       "<div>\n",
       "<style scoped>\n",
       "    .dataframe tbody tr th:only-of-type {\n",
       "        vertical-align: middle;\n",
       "    }\n",
       "\n",
       "    .dataframe tbody tr th {\n",
       "        vertical-align: top;\n",
       "    }\n",
       "\n",
       "    .dataframe thead th {\n",
       "        text-align: right;\n",
       "    }\n",
       "</style>\n",
       "<table border=\"1\" class=\"dataframe\">\n",
       "  <thead>\n",
       "    <tr style=\"text-align: right;\">\n",
       "      <th></th>\n",
       "      <th>city</th>\n",
       "      <th>state</th>\n",
       "      <th>landmark</th>\n",
       "      <th>latitude</th>\n",
       "      <th>longitude</th>\n",
       "      <th>type</th>\n",
       "      <th>visit_time_(hrs)</th>\n",
       "      <th>average_user_rating</th>\n",
       "      <th>reviews_photos</th>\n",
       "      <th>annual_visitors</th>\n",
       "      <th>rating_factor</th>\n",
       "      <th>reviews_factor</th>\n",
       "      <th>visitors_factor</th>\n",
       "      <th>popularity</th>\n",
       "    </tr>\n",
       "  </thead>\n",
       "  <tbody>\n",
       "    <tr>\n",
       "      <th>0</th>\n",
       "      <td>keystone</td>\n",
       "      <td>south_dakota</td>\n",
       "      <td>mount_rushmore</td>\n",
       "      <td>43.8791</td>\n",
       "      <td>-103.4591</td>\n",
       "      <td>historical_architectural</td>\n",
       "      <td>2</td>\n",
       "      <td>4.7</td>\n",
       "      <td>25000</td>\n",
       "      <td>2000000</td>\n",
       "      <td>94.0</td>\n",
       "      <td>29.411765</td>\n",
       "      <td>3.448276</td>\n",
       "      <td>47.458012</td>\n",
       "    </tr>\n",
       "    <tr>\n",
       "      <th>1</th>\n",
       "      <td>new_york</td>\n",
       "      <td>new_york</td>\n",
       "      <td>statue_of_liberty</td>\n",
       "      <td>40.6892</td>\n",
       "      <td>-74.0445</td>\n",
       "      <td>historical_architectural</td>\n",
       "      <td>4</td>\n",
       "      <td>4.7</td>\n",
       "      <td>30000</td>\n",
       "      <td>4300000</td>\n",
       "      <td>94.0</td>\n",
       "      <td>35.294118</td>\n",
       "      <td>7.413793</td>\n",
       "      <td>50.412373</td>\n",
       "    </tr>\n",
       "    <tr>\n",
       "      <th>2</th>\n",
       "      <td>st._louis</td>\n",
       "      <td>missouri</td>\n",
       "      <td>gateway_arch</td>\n",
       "      <td>38.6247</td>\n",
       "      <td>-90.1848</td>\n",
       "      <td>architectural</td>\n",
       "      <td>2</td>\n",
       "      <td>4.7</td>\n",
       "      <td>15000</td>\n",
       "      <td>2000000</td>\n",
       "      <td>94.0</td>\n",
       "      <td>17.647059</td>\n",
       "      <td>3.448276</td>\n",
       "      <td>43.928600</td>\n",
       "    </tr>\n",
       "    <tr>\n",
       "      <th>3</th>\n",
       "      <td>san_francisco</td>\n",
       "      <td>california</td>\n",
       "      <td>golden_gate_bridge</td>\n",
       "      <td>37.8199</td>\n",
       "      <td>-122.4783</td>\n",
       "      <td>architectural</td>\n",
       "      <td>2</td>\n",
       "      <td>4.8</td>\n",
       "      <td>45000</td>\n",
       "      <td>10000000</td>\n",
       "      <td>96.0</td>\n",
       "      <td>52.941176</td>\n",
       "      <td>17.241379</td>\n",
       "      <td>59.454767</td>\n",
       "    </tr>\n",
       "    <tr>\n",
       "      <th>4</th>\n",
       "      <td>orlando</td>\n",
       "      <td>florida</td>\n",
       "      <td>disney_world</td>\n",
       "      <td>28.3852</td>\n",
       "      <td>-81.5639</td>\n",
       "      <td>amusement_park</td>\n",
       "      <td>8</td>\n",
       "      <td>4.7</td>\n",
       "      <td>85000</td>\n",
       "      <td>58000000</td>\n",
       "      <td>94.0</td>\n",
       "      <td>100.000000</td>\n",
       "      <td>100.000000</td>\n",
       "      <td>97.600000</td>\n",
       "    </tr>\n",
       "  </tbody>\n",
       "</table>\n",
       "</div>"
      ],
      "text/plain": [
       "            city         state            landmark  latitude  longitude  \\\n",
       "0       keystone  south_dakota      mount_rushmore   43.8791  -103.4591   \n",
       "1       new_york      new_york   statue_of_liberty   40.6892   -74.0445   \n",
       "2      st._louis      missouri        gateway_arch   38.6247   -90.1848   \n",
       "3  san_francisco    california  golden_gate_bridge   37.8199  -122.4783   \n",
       "4        orlando       florida        disney_world   28.3852   -81.5639   \n",
       "\n",
       "                       type  visit_time_(hrs)  average_user_rating  \\\n",
       "0  historical_architectural                 2                  4.7   \n",
       "1  historical_architectural                 4                  4.7   \n",
       "2             architectural                 2                  4.7   \n",
       "3             architectural                 2                  4.8   \n",
       "4            amusement_park                 8                  4.7   \n",
       "\n",
       "   reviews_photos  annual_visitors  rating_factor  reviews_factor  \\\n",
       "0           25000          2000000           94.0       29.411765   \n",
       "1           30000          4300000           94.0       35.294118   \n",
       "2           15000          2000000           94.0       17.647059   \n",
       "3           45000         10000000           96.0       52.941176   \n",
       "4           85000         58000000           94.0      100.000000   \n",
       "\n",
       "   visitors_factor  popularity  \n",
       "0         3.448276   47.458012  \n",
       "1         7.413793   50.412373  \n",
       "2         3.448276   43.928600  \n",
       "3        17.241379   59.454767  \n",
       "4       100.000000   97.600000  "
      ]
     },
     "execution_count": 80,
     "metadata": {},
     "output_type": "execute_result"
    }
   ],
   "source": [
    "# Check changes\n",
    "df"
   ]
  },
  {
   "cell_type": "code",
   "execution_count": 82,
   "id": "893ffff6-acec-4ddb-86d0-9b4edfc0d03a",
   "metadata": {},
   "outputs": [
    {
     "data": {
      "text/html": [
       "<div>\n",
       "<style scoped>\n",
       "    .dataframe tbody tr th:only-of-type {\n",
       "        vertical-align: middle;\n",
       "    }\n",
       "\n",
       "    .dataframe tbody tr th {\n",
       "        vertical-align: top;\n",
       "    }\n",
       "\n",
       "    .dataframe thead th {\n",
       "        text-align: right;\n",
       "    }\n",
       "</style>\n",
       "<table border=\"1\" class=\"dataframe\">\n",
       "  <thead>\n",
       "    <tr style=\"text-align: right;\">\n",
       "      <th></th>\n",
       "      <th>city</th>\n",
       "      <th>state</th>\n",
       "      <th>landmark</th>\n",
       "      <th>latitude</th>\n",
       "      <th>longitude</th>\n",
       "      <th>type</th>\n",
       "      <th>visit_time_(hrs)</th>\n",
       "      <th>average_user_rating</th>\n",
       "      <th>reviews_photos</th>\n",
       "      <th>annual_visitors</th>\n",
       "      <th>rating_factor</th>\n",
       "      <th>reviews_factor</th>\n",
       "      <th>visitors_factor</th>\n",
       "      <th>popularity</th>\n",
       "    </tr>\n",
       "  </thead>\n",
       "  <tbody>\n",
       "    <tr>\n",
       "      <th>0</th>\n",
       "      <td>keystone</td>\n",
       "      <td>south_dakota</td>\n",
       "      <td>mount_rushmore</td>\n",
       "      <td>43.8791</td>\n",
       "      <td>-103.4591</td>\n",
       "      <td>historical_architectural</td>\n",
       "      <td>2</td>\n",
       "      <td>4.7</td>\n",
       "      <td>25000</td>\n",
       "      <td>2000000</td>\n",
       "      <td>94.0</td>\n",
       "      <td>29.411765</td>\n",
       "      <td>3.448276</td>\n",
       "      <td>47</td>\n",
       "    </tr>\n",
       "    <tr>\n",
       "      <th>1</th>\n",
       "      <td>new_york</td>\n",
       "      <td>new_york</td>\n",
       "      <td>statue_of_liberty</td>\n",
       "      <td>40.6892</td>\n",
       "      <td>-74.0445</td>\n",
       "      <td>historical_architectural</td>\n",
       "      <td>4</td>\n",
       "      <td>4.7</td>\n",
       "      <td>30000</td>\n",
       "      <td>4300000</td>\n",
       "      <td>94.0</td>\n",
       "      <td>35.294118</td>\n",
       "      <td>7.413793</td>\n",
       "      <td>50</td>\n",
       "    </tr>\n",
       "    <tr>\n",
       "      <th>2</th>\n",
       "      <td>st._louis</td>\n",
       "      <td>missouri</td>\n",
       "      <td>gateway_arch</td>\n",
       "      <td>38.6247</td>\n",
       "      <td>-90.1848</td>\n",
       "      <td>architectural</td>\n",
       "      <td>2</td>\n",
       "      <td>4.7</td>\n",
       "      <td>15000</td>\n",
       "      <td>2000000</td>\n",
       "      <td>94.0</td>\n",
       "      <td>17.647059</td>\n",
       "      <td>3.448276</td>\n",
       "      <td>44</td>\n",
       "    </tr>\n",
       "    <tr>\n",
       "      <th>3</th>\n",
       "      <td>san_francisco</td>\n",
       "      <td>california</td>\n",
       "      <td>golden_gate_bridge</td>\n",
       "      <td>37.8199</td>\n",
       "      <td>-122.4783</td>\n",
       "      <td>architectural</td>\n",
       "      <td>2</td>\n",
       "      <td>4.8</td>\n",
       "      <td>45000</td>\n",
       "      <td>10000000</td>\n",
       "      <td>96.0</td>\n",
       "      <td>52.941176</td>\n",
       "      <td>17.241379</td>\n",
       "      <td>59</td>\n",
       "    </tr>\n",
       "    <tr>\n",
       "      <th>4</th>\n",
       "      <td>orlando</td>\n",
       "      <td>florida</td>\n",
       "      <td>disney_world</td>\n",
       "      <td>28.3852</td>\n",
       "      <td>-81.5639</td>\n",
       "      <td>amusement_park</td>\n",
       "      <td>8</td>\n",
       "      <td>4.7</td>\n",
       "      <td>85000</td>\n",
       "      <td>58000000</td>\n",
       "      <td>94.0</td>\n",
       "      <td>100.000000</td>\n",
       "      <td>100.000000</td>\n",
       "      <td>98</td>\n",
       "    </tr>\n",
       "  </tbody>\n",
       "</table>\n",
       "</div>"
      ],
      "text/plain": [
       "            city         state            landmark  latitude  longitude  \\\n",
       "0       keystone  south_dakota      mount_rushmore   43.8791  -103.4591   \n",
       "1       new_york      new_york   statue_of_liberty   40.6892   -74.0445   \n",
       "2      st._louis      missouri        gateway_arch   38.6247   -90.1848   \n",
       "3  san_francisco    california  golden_gate_bridge   37.8199  -122.4783   \n",
       "4        orlando       florida        disney_world   28.3852   -81.5639   \n",
       "\n",
       "                       type  visit_time_(hrs)  average_user_rating  \\\n",
       "0  historical_architectural                 2                  4.7   \n",
       "1  historical_architectural                 4                  4.7   \n",
       "2             architectural                 2                  4.7   \n",
       "3             architectural                 2                  4.8   \n",
       "4            amusement_park                 8                  4.7   \n",
       "\n",
       "   reviews_photos  annual_visitors  rating_factor  reviews_factor  \\\n",
       "0           25000          2000000           94.0       29.411765   \n",
       "1           30000          4300000           94.0       35.294118   \n",
       "2           15000          2000000           94.0       17.647059   \n",
       "3           45000         10000000           96.0       52.941176   \n",
       "4           85000         58000000           94.0      100.000000   \n",
       "\n",
       "   visitors_factor  popularity  \n",
       "0         3.448276          47  \n",
       "1         7.413793          50  \n",
       "2         3.448276          44  \n",
       "3        17.241379          59  \n",
       "4       100.000000          98  "
      ]
     },
     "execution_count": 82,
     "metadata": {},
     "output_type": "execute_result"
    }
   ],
   "source": [
    "# Round the 'popularity' score up to a whole number and change the type to integer\n",
    "df['popularity'] = df['popularity'].round(0).astype(int)\n",
    "df"
   ]
  },
  {
   "cell_type": "markdown",
   "id": "7d38da39-c5b0-4bc0-8ea7-b4457b9f82b0",
   "metadata": {},
   "source": [
    "Sort by Popularity (Descending)"
   ]
  },
  {
   "cell_type": "code",
   "execution_count": null,
   "id": "f8b3a797-0d11-47f6-8411-0c0b0f176b15",
   "metadata": {},
   "outputs": [],
   "source": []
  },
  {
   "cell_type": "code",
   "execution_count": null,
   "id": "d47b5d84-4c68-4007-ac58-fb5b637283c1",
   "metadata": {},
   "outputs": [],
   "source": []
  },
  {
   "cell_type": "markdown",
   "id": "7fdc5cf8-6fe3-47b3-8321-eec8269b5a91",
   "metadata": {},
   "source": [
    "### Visualizations"
   ]
  },
  {
   "cell_type": "markdown",
   "id": "c381cd20-bf6d-4032-b440-5df93d95b992",
   "metadata": {},
   "source": [
    "**Top 5 Popular Landmarks**\n",
    "\n",
    "This visualization highlights which landmarks are most popular."
   ]
  },
  {
   "cell_type": "code",
   "execution_count": 89,
   "id": "79a76f3e-67d9-4251-96d0-fc090b89d540",
   "metadata": {},
   "outputs": [
    {
     "data": {
      "application/vnd.plotly.v1+json": {
       "config": {
        "plotlyServerURL": "https://plot.ly"
       },
       "data": [
        {
         "alignmentgroup": "True",
         "customdata": [
          [
           "orlando",
           "florida",
           8
          ],
          [
           "san_francisco",
           "california",
           2
          ],
          [
           "new_york",
           "new_york",
           4
          ],
          [
           "keystone",
           "south_dakota",
           2
          ],
          [
           "st._louis",
           "missouri",
           2
          ]
         ],
         "hovertemplate": "landmark=%{x}<br>popularity=%{marker.color}<br>city=%{customdata[0]}<br>state=%{customdata[1]}<br>visit_time_(hrs)=%{customdata[2]}<extra></extra>",
         "legendgroup": "",
         "marker": {
          "color": [
           98,
           59,
           50,
           47,
           44
          ],
          "coloraxis": "coloraxis",
          "pattern": {
           "shape": ""
          }
         },
         "name": "",
         "offsetgroup": "",
         "orientation": "v",
         "showlegend": false,
         "text": [
          98,
          59,
          50,
          47,
          44
         ],
         "textposition": "auto",
         "type": "bar",
         "x": [
          "disney_world",
          "golden_gate_bridge",
          "statue_of_liberty",
          "mount_rushmore",
          "gateway_arch"
         ],
         "xaxis": "x",
         "y": [
          98,
          59,
          50,
          47,
          44
         ],
         "yaxis": "y"
        }
       ],
       "layout": {
        "autosize": true,
        "barmode": "relative",
        "coloraxis": {
         "colorbar": {
          "title": {
           "text": "popularity"
          }
         },
         "colorscale": [
          [
           0,
           "#0d0887"
          ],
          [
           0.1111111111111111,
           "#46039f"
          ],
          [
           0.2222222222222222,
           "#7201a8"
          ],
          [
           0.3333333333333333,
           "#9c179e"
          ],
          [
           0.4444444444444444,
           "#bd3786"
          ],
          [
           0.5555555555555556,
           "#d8576b"
          ],
          [
           0.6666666666666666,
           "#ed7953"
          ],
          [
           0.7777777777777778,
           "#fb9f3a"
          ],
          [
           0.8888888888888888,
           "#fdca26"
          ],
          [
           1,
           "#f0f921"
          ]
         ]
        },
        "legend": {
         "tracegroupgap": 0
        },
        "template": {
         "data": {
          "bar": [
           {
            "error_x": {
             "color": "#2a3f5f"
            },
            "error_y": {
             "color": "#2a3f5f"
            },
            "marker": {
             "line": {
              "color": "#E5ECF6",
              "width": 0.5
             },
             "pattern": {
              "fillmode": "overlay",
              "size": 10,
              "solidity": 0.2
             }
            },
            "type": "bar"
           }
          ],
          "barpolar": [
           {
            "marker": {
             "line": {
              "color": "#E5ECF6",
              "width": 0.5
             },
             "pattern": {
              "fillmode": "overlay",
              "size": 10,
              "solidity": 0.2
             }
            },
            "type": "barpolar"
           }
          ],
          "carpet": [
           {
            "aaxis": {
             "endlinecolor": "#2a3f5f",
             "gridcolor": "white",
             "linecolor": "white",
             "minorgridcolor": "white",
             "startlinecolor": "#2a3f5f"
            },
            "baxis": {
             "endlinecolor": "#2a3f5f",
             "gridcolor": "white",
             "linecolor": "white",
             "minorgridcolor": "white",
             "startlinecolor": "#2a3f5f"
            },
            "type": "carpet"
           }
          ],
          "choropleth": [
           {
            "colorbar": {
             "outlinewidth": 0,
             "ticks": ""
            },
            "type": "choropleth"
           }
          ],
          "contour": [
           {
            "colorbar": {
             "outlinewidth": 0,
             "ticks": ""
            },
            "colorscale": [
             [
              0,
              "#0d0887"
             ],
             [
              0.1111111111111111,
              "#46039f"
             ],
             [
              0.2222222222222222,
              "#7201a8"
             ],
             [
              0.3333333333333333,
              "#9c179e"
             ],
             [
              0.4444444444444444,
              "#bd3786"
             ],
             [
              0.5555555555555556,
              "#d8576b"
             ],
             [
              0.6666666666666666,
              "#ed7953"
             ],
             [
              0.7777777777777778,
              "#fb9f3a"
             ],
             [
              0.8888888888888888,
              "#fdca26"
             ],
             [
              1,
              "#f0f921"
             ]
            ],
            "type": "contour"
           }
          ],
          "contourcarpet": [
           {
            "colorbar": {
             "outlinewidth": 0,
             "ticks": ""
            },
            "type": "contourcarpet"
           }
          ],
          "heatmap": [
           {
            "colorbar": {
             "outlinewidth": 0,
             "ticks": ""
            },
            "colorscale": [
             [
              0,
              "#0d0887"
             ],
             [
              0.1111111111111111,
              "#46039f"
             ],
             [
              0.2222222222222222,
              "#7201a8"
             ],
             [
              0.3333333333333333,
              "#9c179e"
             ],
             [
              0.4444444444444444,
              "#bd3786"
             ],
             [
              0.5555555555555556,
              "#d8576b"
             ],
             [
              0.6666666666666666,
              "#ed7953"
             ],
             [
              0.7777777777777778,
              "#fb9f3a"
             ],
             [
              0.8888888888888888,
              "#fdca26"
             ],
             [
              1,
              "#f0f921"
             ]
            ],
            "type": "heatmap"
           }
          ],
          "heatmapgl": [
           {
            "colorbar": {
             "outlinewidth": 0,
             "ticks": ""
            },
            "colorscale": [
             [
              0,
              "#0d0887"
             ],
             [
              0.1111111111111111,
              "#46039f"
             ],
             [
              0.2222222222222222,
              "#7201a8"
             ],
             [
              0.3333333333333333,
              "#9c179e"
             ],
             [
              0.4444444444444444,
              "#bd3786"
             ],
             [
              0.5555555555555556,
              "#d8576b"
             ],
             [
              0.6666666666666666,
              "#ed7953"
             ],
             [
              0.7777777777777778,
              "#fb9f3a"
             ],
             [
              0.8888888888888888,
              "#fdca26"
             ],
             [
              1,
              "#f0f921"
             ]
            ],
            "type": "heatmapgl"
           }
          ],
          "histogram": [
           {
            "marker": {
             "pattern": {
              "fillmode": "overlay",
              "size": 10,
              "solidity": 0.2
             }
            },
            "type": "histogram"
           }
          ],
          "histogram2d": [
           {
            "colorbar": {
             "outlinewidth": 0,
             "ticks": ""
            },
            "colorscale": [
             [
              0,
              "#0d0887"
             ],
             [
              0.1111111111111111,
              "#46039f"
             ],
             [
              0.2222222222222222,
              "#7201a8"
             ],
             [
              0.3333333333333333,
              "#9c179e"
             ],
             [
              0.4444444444444444,
              "#bd3786"
             ],
             [
              0.5555555555555556,
              "#d8576b"
             ],
             [
              0.6666666666666666,
              "#ed7953"
             ],
             [
              0.7777777777777778,
              "#fb9f3a"
             ],
             [
              0.8888888888888888,
              "#fdca26"
             ],
             [
              1,
              "#f0f921"
             ]
            ],
            "type": "histogram2d"
           }
          ],
          "histogram2dcontour": [
           {
            "colorbar": {
             "outlinewidth": 0,
             "ticks": ""
            },
            "colorscale": [
             [
              0,
              "#0d0887"
             ],
             [
              0.1111111111111111,
              "#46039f"
             ],
             [
              0.2222222222222222,
              "#7201a8"
             ],
             [
              0.3333333333333333,
              "#9c179e"
             ],
             [
              0.4444444444444444,
              "#bd3786"
             ],
             [
              0.5555555555555556,
              "#d8576b"
             ],
             [
              0.6666666666666666,
              "#ed7953"
             ],
             [
              0.7777777777777778,
              "#fb9f3a"
             ],
             [
              0.8888888888888888,
              "#fdca26"
             ],
             [
              1,
              "#f0f921"
             ]
            ],
            "type": "histogram2dcontour"
           }
          ],
          "mesh3d": [
           {
            "colorbar": {
             "outlinewidth": 0,
             "ticks": ""
            },
            "type": "mesh3d"
           }
          ],
          "parcoords": [
           {
            "line": {
             "colorbar": {
              "outlinewidth": 0,
              "ticks": ""
             }
            },
            "type": "parcoords"
           }
          ],
          "pie": [
           {
            "automargin": true,
            "type": "pie"
           }
          ],
          "scatter": [
           {
            "fillpattern": {
             "fillmode": "overlay",
             "size": 10,
             "solidity": 0.2
            },
            "type": "scatter"
           }
          ],
          "scatter3d": [
           {
            "line": {
             "colorbar": {
              "outlinewidth": 0,
              "ticks": ""
             }
            },
            "marker": {
             "colorbar": {
              "outlinewidth": 0,
              "ticks": ""
             }
            },
            "type": "scatter3d"
           }
          ],
          "scattercarpet": [
           {
            "marker": {
             "colorbar": {
              "outlinewidth": 0,
              "ticks": ""
             }
            },
            "type": "scattercarpet"
           }
          ],
          "scattergeo": [
           {
            "marker": {
             "colorbar": {
              "outlinewidth": 0,
              "ticks": ""
             }
            },
            "type": "scattergeo"
           }
          ],
          "scattergl": [
           {
            "marker": {
             "colorbar": {
              "outlinewidth": 0,
              "ticks": ""
             }
            },
            "type": "scattergl"
           }
          ],
          "scattermapbox": [
           {
            "marker": {
             "colorbar": {
              "outlinewidth": 0,
              "ticks": ""
             }
            },
            "type": "scattermapbox"
           }
          ],
          "scatterpolar": [
           {
            "marker": {
             "colorbar": {
              "outlinewidth": 0,
              "ticks": ""
             }
            },
            "type": "scatterpolar"
           }
          ],
          "scatterpolargl": [
           {
            "marker": {
             "colorbar": {
              "outlinewidth": 0,
              "ticks": ""
             }
            },
            "type": "scatterpolargl"
           }
          ],
          "scatterternary": [
           {
            "marker": {
             "colorbar": {
              "outlinewidth": 0,
              "ticks": ""
             }
            },
            "type": "scatterternary"
           }
          ],
          "surface": [
           {
            "colorbar": {
             "outlinewidth": 0,
             "ticks": ""
            },
            "colorscale": [
             [
              0,
              "#0d0887"
             ],
             [
              0.1111111111111111,
              "#46039f"
             ],
             [
              0.2222222222222222,
              "#7201a8"
             ],
             [
              0.3333333333333333,
              "#9c179e"
             ],
             [
              0.4444444444444444,
              "#bd3786"
             ],
             [
              0.5555555555555556,
              "#d8576b"
             ],
             [
              0.6666666666666666,
              "#ed7953"
             ],
             [
              0.7777777777777778,
              "#fb9f3a"
             ],
             [
              0.8888888888888888,
              "#fdca26"
             ],
             [
              1,
              "#f0f921"
             ]
            ],
            "type": "surface"
           }
          ],
          "table": [
           {
            "cells": {
             "fill": {
              "color": "#EBF0F8"
             },
             "line": {
              "color": "white"
             }
            },
            "header": {
             "fill": {
              "color": "#C8D4E3"
             },
             "line": {
              "color": "white"
             }
            },
            "type": "table"
           }
          ]
         },
         "layout": {
          "annotationdefaults": {
           "arrowcolor": "#2a3f5f",
           "arrowhead": 0,
           "arrowwidth": 1
          },
          "autotypenumbers": "strict",
          "coloraxis": {
           "colorbar": {
            "outlinewidth": 0,
            "ticks": ""
           }
          },
          "colorscale": {
           "diverging": [
            [
             0,
             "#8e0152"
            ],
            [
             0.1,
             "#c51b7d"
            ],
            [
             0.2,
             "#de77ae"
            ],
            [
             0.3,
             "#f1b6da"
            ],
            [
             0.4,
             "#fde0ef"
            ],
            [
             0.5,
             "#f7f7f7"
            ],
            [
             0.6,
             "#e6f5d0"
            ],
            [
             0.7,
             "#b8e186"
            ],
            [
             0.8,
             "#7fbc41"
            ],
            [
             0.9,
             "#4d9221"
            ],
            [
             1,
             "#276419"
            ]
           ],
           "sequential": [
            [
             0,
             "#0d0887"
            ],
            [
             0.1111111111111111,
             "#46039f"
            ],
            [
             0.2222222222222222,
             "#7201a8"
            ],
            [
             0.3333333333333333,
             "#9c179e"
            ],
            [
             0.4444444444444444,
             "#bd3786"
            ],
            [
             0.5555555555555556,
             "#d8576b"
            ],
            [
             0.6666666666666666,
             "#ed7953"
            ],
            [
             0.7777777777777778,
             "#fb9f3a"
            ],
            [
             0.8888888888888888,
             "#fdca26"
            ],
            [
             1,
             "#f0f921"
            ]
           ],
           "sequentialminus": [
            [
             0,
             "#0d0887"
            ],
            [
             0.1111111111111111,
             "#46039f"
            ],
            [
             0.2222222222222222,
             "#7201a8"
            ],
            [
             0.3333333333333333,
             "#9c179e"
            ],
            [
             0.4444444444444444,
             "#bd3786"
            ],
            [
             0.5555555555555556,
             "#d8576b"
            ],
            [
             0.6666666666666666,
             "#ed7953"
            ],
            [
             0.7777777777777778,
             "#fb9f3a"
            ],
            [
             0.8888888888888888,
             "#fdca26"
            ],
            [
             1,
             "#f0f921"
            ]
           ]
          },
          "colorway": [
           "#636efa",
           "#EF553B",
           "#00cc96",
           "#ab63fa",
           "#FFA15A",
           "#19d3f3",
           "#FF6692",
           "#B6E880",
           "#FF97FF",
           "#FECB52"
          ],
          "font": {
           "color": "#2a3f5f"
          },
          "geo": {
           "bgcolor": "white",
           "lakecolor": "white",
           "landcolor": "#E5ECF6",
           "showlakes": true,
           "showland": true,
           "subunitcolor": "white"
          },
          "hoverlabel": {
           "align": "left"
          },
          "hovermode": "closest",
          "mapbox": {
           "style": "light"
          },
          "paper_bgcolor": "white",
          "plot_bgcolor": "#E5ECF6",
          "polar": {
           "angularaxis": {
            "gridcolor": "white",
            "linecolor": "white",
            "ticks": ""
           },
           "bgcolor": "#E5ECF6",
           "radialaxis": {
            "gridcolor": "white",
            "linecolor": "white",
            "ticks": ""
           }
          },
          "scene": {
           "xaxis": {
            "backgroundcolor": "#E5ECF6",
            "gridcolor": "white",
            "gridwidth": 2,
            "linecolor": "white",
            "showbackground": true,
            "ticks": "",
            "zerolinecolor": "white"
           },
           "yaxis": {
            "backgroundcolor": "#E5ECF6",
            "gridcolor": "white",
            "gridwidth": 2,
            "linecolor": "white",
            "showbackground": true,
            "ticks": "",
            "zerolinecolor": "white"
           },
           "zaxis": {
            "backgroundcolor": "#E5ECF6",
            "gridcolor": "white",
            "gridwidth": 2,
            "linecolor": "white",
            "showbackground": true,
            "ticks": "",
            "zerolinecolor": "white"
           }
          },
          "shapedefaults": {
           "line": {
            "color": "#2a3f5f"
           }
          },
          "ternary": {
           "aaxis": {
            "gridcolor": "white",
            "linecolor": "white",
            "ticks": ""
           },
           "baxis": {
            "gridcolor": "white",
            "linecolor": "white",
            "ticks": ""
           },
           "bgcolor": "#E5ECF6",
           "caxis": {
            "gridcolor": "white",
            "linecolor": "white",
            "ticks": ""
           }
          },
          "title": {
           "x": 0.05
          },
          "xaxis": {
           "automargin": true,
           "gridcolor": "white",
           "linecolor": "white",
           "ticks": "",
           "title": {
            "standoff": 15
           },
           "zerolinecolor": "white",
           "zerolinewidth": 2
          },
          "yaxis": {
           "automargin": true,
           "gridcolor": "white",
           "linecolor": "white",
           "ticks": "",
           "title": {
            "standoff": 15
           },
           "zerolinecolor": "white",
           "zerolinewidth": 2
          }
         }
        },
        "title": {
         "text": "Top 5 Most Popular Landmarks (Score)"
        },
        "xaxis": {
         "anchor": "y",
         "autorange": true,
         "domain": [
          0,
          1
         ],
         "range": [
          -0.5,
          4.5
         ],
         "tickangle": -45,
         "title": {
          "text": "landmark"
         },
         "type": "category"
        },
        "yaxis": {
         "anchor": "x",
         "autorange": true,
         "domain": [
          0,
          1
         ],
         "range": [
          0,
          103.15789473684211
         ],
         "title": {
          "text": "popularity"
         },
         "type": "linear"
        }
       }
      },
      "image/png": "[encoded data removed]",
      "text/html": [
       "<div>                            <div id=\"e8cdd0c2-48aa-43b0-b005-e234c91d8b6f\" class=\"plotly-graph-div\" style=\"height:525px; width:100%;\"></div>            <script type=\"text/javascript\">                require([\"plotly\"], function(Plotly) {                    window.PLOTLYENV=window.PLOTLYENV || {};                                    if (document.getElementById(\"e8cdd0c2-48aa-43b0-b005-e234c91d8b6f\")) {                    Plotly.newPlot(                        \"e8cdd0c2-48aa-43b0-b005-e234c91d8b6f\",                        [{\"alignmentgroup\":\"True\",\"customdata\":[[\"orlando\",\"florida\",8],[\"san_francisco\",\"california\",2],[\"new_york\",\"new_york\",4],[\"keystone\",\"south_dakota\",2],[\"st._louis\",\"missouri\",2]],\"hovertemplate\":\"landmark=%{x}\\u003cbr\\u003epopularity=%{marker.color}\\u003cbr\\u003ecity=%{customdata[0]}\\u003cbr\\u003estate=%{customdata[1]}\\u003cbr\\u003evisit_time_(hrs)=%{customdata[2]}\\u003cextra\\u003e\\u003c\\u002fextra\\u003e\",\"legendgroup\":\"\",\"marker\":{\"color\":[98,59,50,47,44],\"coloraxis\":\"coloraxis\",\"pattern\":{\"shape\":\"\"}},\"name\":\"\",\"offsetgroup\":\"\",\"orientation\":\"v\",\"showlegend\":false,\"text\":[98.0,59.0,50.0,47.0,44.0],\"textposition\":\"auto\",\"x\":[\"disney_world\",\"golden_gate_bridge\",\"statue_of_liberty\",\"mount_rushmore\",\"gateway_arch\"],\"xaxis\":\"x\",\"y\":[98,59,50,47,44],\"yaxis\":\"y\",\"type\":\"bar\"}],                        {\"template\":{\"data\":{\"histogram2dcontour\":[{\"type\":\"histogram2dcontour\",\"colorbar\":{\"outlinewidth\":0,\"ticks\":\"\"},\"colorscale\":[[0.0,\"#0d0887\"],[0.1111111111111111,\"#46039f\"],[0.2222222222222222,\"#7201a8\"],[0.3333333333333333,\"#9c179e\"],[0.4444444444444444,\"#bd3786\"],[0.5555555555555556,\"#d8576b\"],[0.6666666666666666,\"#ed7953\"],[0.7777777777777778,\"#fb9f3a\"],[0.8888888888888888,\"#fdca26\"],[1.0,\"#f0f921\"]]}],\"choropleth\":[{\"type\":\"choropleth\",\"colorbar\":{\"outlinewidth\":0,\"ticks\":\"\"}}],\"histogram2d\":[{\"type\":\"histogram2d\",\"colorbar\":{\"outlinewidth\":0,\"ticks\":\"\"},\"colorscale\":[[0.0,\"#0d0887\"],[0.1111111111111111,\"#46039f\"],[0.2222222222222222,\"#7201a8\"],[0.3333333333333333,\"#9c179e\"],[0.4444444444444444,\"#bd3786\"],[0.5555555555555556,\"#d8576b\"],[0.6666666666666666,\"#ed7953\"],[0.7777777777777778,\"#fb9f3a\"],[0.8888888888888888,\"#fdca26\"],[1.0,\"#f0f921\"]]}],\"heatmap\":[{\"type\":\"heatmap\",\"colorbar\":{\"outlinewidth\":0,\"ticks\":\"\"},\"colorscale\":[[0.0,\"#0d0887\"],[0.1111111111111111,\"#46039f\"],[0.2222222222222222,\"#7201a8\"],[0.3333333333333333,\"#9c179e\"],[0.4444444444444444,\"#bd3786\"],[0.5555555555555556,\"#d8576b\"],[0.6666666666666666,\"#ed7953\"],[0.7777777777777778,\"#fb9f3a\"],[0.8888888888888888,\"#fdca26\"],[1.0,\"#f0f921\"]]}],\"heatmapgl\":[{\"type\":\"heatmapgl\",\"colorbar\":{\"outlinewidth\":0,\"ticks\":\"\"},\"colorscale\":[[0.0,\"#0d0887\"],[0.1111111111111111,\"#46039f\"],[0.2222222222222222,\"#7201a8\"],[0.3333333333333333,\"#9c179e\"],[0.4444444444444444,\"#bd3786\"],[0.5555555555555556,\"#d8576b\"],[0.6666666666666666,\"#ed7953\"],[0.7777777777777778,\"#fb9f3a\"],[0.8888888888888888,\"#fdca26\"],[1.0,\"#f0f921\"]]}],\"contourcarpet\":[{\"type\":\"contourcarpet\",\"colorbar\":{\"outlinewidth\":0,\"ticks\":\"\"}}],\"contour\":[{\"type\":\"contour\",\"colorbar\":{\"outlinewidth\":0,\"ticks\":\"\"},\"colorscale\":[[0.0,\"#0d0887\"],[0.1111111111111111,\"#46039f\"],[0.2222222222222222,\"#7201a8\"],[0.3333333333333333,\"#9c179e\"],[0.4444444444444444,\"#bd3786\"],[0.5555555555555556,\"#d8576b\"],[0.6666666666666666,\"#ed7953\"],[0.7777777777777778,\"#fb9f3a\"],[0.8888888888888888,\"#fdca26\"],[1.0,\"#f0f921\"]]}],\"surface\":[{\"type\":\"surface\",\"colorbar\":{\"outlinewidth\":0,\"ticks\":\"\"},\"colorscale\":[[0.0,\"#0d0887\"],[0.1111111111111111,\"#46039f\"],[0.2222222222222222,\"#7201a8\"],[0.3333333333333333,\"#9c179e\"],[0.4444444444444444,\"#bd3786\"],[0.5555555555555556,\"#d8576b\"],[0.6666666666666666,\"#ed7953\"],[0.7777777777777778,\"#fb9f3a\"],[0.8888888888888888,\"#fdca26\"],[1.0,\"#f0f921\"]]}],\"mesh3d\":[{\"type\":\"mesh3d\",\"colorbar\":{\"outlinewidth\":0,\"ticks\":\"\"}}],\"scatter\":[{\"fillpattern\":{\"fillmode\":\"overlay\",\"size\":10,\"solidity\":0.2},\"type\":\"scatter\"}],\"parcoords\":[{\"type\":\"parcoords\",\"line\":{\"colorbar\":{\"outlinewidth\":0,\"ticks\":\"\"}}}],\"scatterpolargl\":[{\"type\":\"scatterpolargl\",\"marker\":{\"colorbar\":{\"outlinewidth\":0,\"ticks\":\"\"}}}],\"bar\":[{\"error_x\":{\"color\":\"#2a3f5f\"},\"error_y\":{\"color\":\"#2a3f5f\"},\"marker\":{\"line\":{\"color\":\"#E5ECF6\",\"width\":0.5},\"pattern\":{\"fillmode\":\"overlay\",\"size\":10,\"solidity\":0.2}},\"type\":\"bar\"}],\"scattergeo\":[{\"type\":\"scattergeo\",\"marker\":{\"colorbar\":{\"outlinewidth\":0,\"ticks\":\"\"}}}],\"scatterpolar\":[{\"type\":\"scatterpolar\",\"marker\":{\"colorbar\":{\"outlinewidth\":0,\"ticks\":\"\"}}}],\"histogram\":[{\"marker\":{\"pattern\":{\"fillmode\":\"overlay\",\"size\":10,\"solidity\":0.2}},\"type\":\"histogram\"}],\"scattergl\":[{\"type\":\"scattergl\",\"marker\":{\"colorbar\":{\"outlinewidth\":0,\"ticks\":\"\"}}}],\"scatter3d\":[{\"type\":\"scatter3d\",\"line\":{\"colorbar\":{\"outlinewidth\":0,\"ticks\":\"\"}},\"marker\":{\"colorbar\":{\"outlinewidth\":0,\"ticks\":\"\"}}}],\"scattermapbox\":[{\"type\":\"scattermapbox\",\"marker\":{\"colorbar\":{\"outlinewidth\":0,\"ticks\":\"\"}}}],\"scatterternary\":[{\"type\":\"scatterternary\",\"marker\":{\"colorbar\":{\"outlinewidth\":0,\"ticks\":\"\"}}}],\"scattercarpet\":[{\"type\":\"scattercarpet\",\"marker\":{\"colorbar\":{\"outlinewidth\":0,\"ticks\":\"\"}}}],\"carpet\":[{\"aaxis\":{\"endlinecolor\":\"#2a3f5f\",\"gridcolor\":\"white\",\"linecolor\":\"white\",\"minorgridcolor\":\"white\",\"startlinecolor\":\"#2a3f5f\"},\"baxis\":{\"endlinecolor\":\"#2a3f5f\",\"gridcolor\":\"white\",\"linecolor\":\"white\",\"minorgridcolor\":\"white\",\"startlinecolor\":\"#2a3f5f\"},\"type\":\"carpet\"}],\"table\":[{\"cells\":{\"fill\":{\"color\":\"#EBF0F8\"},\"line\":{\"color\":\"white\"}},\"header\":{\"fill\":{\"color\":\"#C8D4E3\"},\"line\":{\"color\":\"white\"}},\"type\":\"table\"}],\"barpolar\":[{\"marker\":{\"line\":{\"color\":\"#E5ECF6\",\"width\":0.5},\"pattern\":{\"fillmode\":\"overlay\",\"size\":10,\"solidity\":0.2}},\"type\":\"barpolar\"}],\"pie\":[{\"automargin\":true,\"type\":\"pie\"}]},\"layout\":{\"autotypenumbers\":\"strict\",\"colorway\":[\"#636efa\",\"#EF553B\",\"#00cc96\",\"#ab63fa\",\"#FFA15A\",\"#19d3f3\",\"#FF6692\",\"#B6E880\",\"#FF97FF\",\"#FECB52\"],\"font\":{\"color\":\"#2a3f5f\"},\"hovermode\":\"closest\",\"hoverlabel\":{\"align\":\"left\"},\"paper_bgcolor\":\"white\",\"plot_bgcolor\":\"#E5ECF6\",\"polar\":{\"bgcolor\":\"#E5ECF6\",\"angularaxis\":{\"gridcolor\":\"white\",\"linecolor\":\"white\",\"ticks\":\"\"},\"radialaxis\":{\"gridcolor\":\"white\",\"linecolor\":\"white\",\"ticks\":\"\"}},\"ternary\":{\"bgcolor\":\"#E5ECF6\",\"aaxis\":{\"gridcolor\":\"white\",\"linecolor\":\"white\",\"ticks\":\"\"},\"baxis\":{\"gridcolor\":\"white\",\"linecolor\":\"white\",\"ticks\":\"\"},\"caxis\":{\"gridcolor\":\"white\",\"linecolor\":\"white\",\"ticks\":\"\"}},\"coloraxis\":{\"colorbar\":{\"outlinewidth\":0,\"ticks\":\"\"}},\"colorscale\":{\"sequential\":[[0.0,\"#0d0887\"],[0.1111111111111111,\"#46039f\"],[0.2222222222222222,\"#7201a8\"],[0.3333333333333333,\"#9c179e\"],[0.4444444444444444,\"#bd3786\"],[0.5555555555555556,\"#d8576b\"],[0.6666666666666666,\"#ed7953\"],[0.7777777777777778,\"#fb9f3a\"],[0.8888888888888888,\"#fdca26\"],[1.0,\"#f0f921\"]],\"sequentialminus\":[[0.0,\"#0d0887\"],[0.1111111111111111,\"#46039f\"],[0.2222222222222222,\"#7201a8\"],[0.3333333333333333,\"#9c179e\"],[0.4444444444444444,\"#bd3786\"],[0.5555555555555556,\"#d8576b\"],[0.6666666666666666,\"#ed7953\"],[0.7777777777777778,\"#fb9f3a\"],[0.8888888888888888,\"#fdca26\"],[1.0,\"#f0f921\"]],\"diverging\":[[0,\"#8e0152\"],[0.1,\"#c51b7d\"],[0.2,\"#de77ae\"],[0.3,\"#f1b6da\"],[0.4,\"#fde0ef\"],[0.5,\"#f7f7f7\"],[0.6,\"#e6f5d0\"],[0.7,\"#b8e186\"],[0.8,\"#7fbc41\"],[0.9,\"#4d9221\"],[1,\"#276419\"]]},\"xaxis\":{\"gridcolor\":\"white\",\"linecolor\":\"white\",\"ticks\":\"\",\"title\":{\"standoff\":15},\"zerolinecolor\":\"white\",\"automargin\":true,\"zerolinewidth\":2},\"yaxis\":{\"gridcolor\":\"white\",\"linecolor\":\"white\",\"ticks\":\"\",\"title\":{\"standoff\":15},\"zerolinecolor\":\"white\",\"automargin\":true,\"zerolinewidth\":2},\"scene\":{\"xaxis\":{\"backgroundcolor\":\"#E5ECF6\",\"gridcolor\":\"white\",\"linecolor\":\"white\",\"showbackground\":true,\"ticks\":\"\",\"zerolinecolor\":\"white\",\"gridwidth\":2},\"yaxis\":{\"backgroundcolor\":\"#E5ECF6\",\"gridcolor\":\"white\",\"linecolor\":\"white\",\"showbackground\":true,\"ticks\":\"\",\"zerolinecolor\":\"white\",\"gridwidth\":2},\"zaxis\":{\"backgroundcolor\":\"#E5ECF6\",\"gridcolor\":\"white\",\"linecolor\":\"white\",\"showbackground\":true,\"ticks\":\"\",\"zerolinecolor\":\"white\",\"gridwidth\":2}},\"shapedefaults\":{\"line\":{\"color\":\"#2a3f5f\"}},\"annotationdefaults\":{\"arrowcolor\":\"#2a3f5f\",\"arrowhead\":0,\"arrowwidth\":1},\"geo\":{\"bgcolor\":\"white\",\"landcolor\":\"#E5ECF6\",\"subunitcolor\":\"white\",\"showland\":true,\"showlakes\":true,\"lakecolor\":\"white\"},\"title\":{\"x\":0.05},\"mapbox\":{\"style\":\"light\"}}},\"xaxis\":{\"anchor\":\"y\",\"domain\":[0.0,1.0],\"title\":{\"text\":\"landmark\"},\"tickangle\":-45},\"yaxis\":{\"anchor\":\"x\",\"domain\":[0.0,1.0],\"title\":{\"text\":\"popularity\"}},\"coloraxis\":{\"colorbar\":{\"title\":{\"text\":\"popularity\"}},\"colorscale\":[[0.0,\"#0d0887\"],[0.1111111111111111,\"#46039f\"],[0.2222222222222222,\"#7201a8\"],[0.3333333333333333,\"#9c179e\"],[0.4444444444444444,\"#bd3786\"],[0.5555555555555556,\"#d8576b\"],[0.6666666666666666,\"#ed7953\"],[0.7777777777777778,\"#fb9f3a\"],[0.8888888888888888,\"#fdca26\"],[1.0,\"#f0f921\"]]},\"legend\":{\"tracegroupgap\":0},\"title\":{\"text\":\"Top 5 Most Popular Landmarks (Score)\"},\"barmode\":\"relative\"},                        {\"responsive\": true}                    ).then(function(){\n",
       "                            \n",
       "var gd = document.getElementById('e8cdd0c2-48aa-43b0-b005-e234c91d8b6f');\n",
       "var x = new MutationObserver(function (mutations, observer) {{\n",
       "        var display = window.getComputedStyle(gd).display;\n",
       "        if (!display || display === 'none') {{\n",
       "            console.log([gd, 'removed!']);\n",
       "            Plotly.purge(gd);\n",
       "            observer.disconnect();\n",
       "        }}\n",
       "}});\n",
       "\n",
       "// Listen for the removal of the full notebook cells\n",
       "var notebookContainer = gd.closest('#notebook-container');\n",
       "if (notebookContainer) {{\n",
       "    x.observe(notebookContainer, {childList: true});\n",
       "}}\n",
       "\n",
       "// Listen for the clearing of the current output cell\n",
       "var outputEl = gd.closest('.output');\n",
       "if (outputEl) {{\n",
       "    x.observe(outputEl, {childList: true});\n",
       "}}\n",
       "\n",
       "                        })                };                });            </script>        </div>"
      ]
     },
     "metadata": {},
     "output_type": "display_data"
    },
    {
     "ename": "ValueError",
     "evalue": "\nImage export using the \"kaleido\" engine requires the kaleido package,\nwhich can be installed using pip:\n    $ pip install -U kaleido\n",
     "output_type": "error",
     "traceback": [
      "\u001b[0;31m---------------------------------------------------------------------------\u001b[0m",
      "\u001b[0;31mValueError\u001b[0m                                Traceback (most recent call last)",
      "Cell \u001b[0;32mIn[89], line 20\u001b[0m\n\u001b[1;32m     17\u001b[0m fig\u001b[38;5;241m.\u001b[39mshow() \u001b[38;5;66;03m# display the chart\u001b[39;00m\n\u001b[1;32m     19\u001b[0m \u001b[38;5;66;03m# Save the figure as PNG\u001b[39;00m\n\u001b[0;32m---> 20\u001b[0m pio\u001b[38;5;241m.\u001b[39mwrite_image(fig, \u001b[38;5;124m\"\u001b[39m\u001b[38;5;124mpopular_landmarks.png\u001b[39m\u001b[38;5;124m\"\u001b[39m, width\u001b[38;5;241m=\u001b[39m\u001b[38;5;241m1200\u001b[39m, height\u001b[38;5;241m=\u001b[39m\u001b[38;5;241m800\u001b[39m)\n",
      "File \u001b[0;32m/opt/anaconda3/lib/python3.12/site-packages/plotly/io/_kaleido.py:266\u001b[0m, in \u001b[0;36mwrite_image\u001b[0;34m(fig, file, format, scale, width, height, validate, engine)\u001b[0m\n\u001b[1;32m    250\u001b[0m             \u001b[38;5;28;01mraise\u001b[39;00m \u001b[38;5;167;01mValueError\u001b[39;00m(\n\u001b[1;32m    251\u001b[0m \u001b[38;5;250m                \u001b[39m\u001b[38;5;124;03m\"\"\"\u001b[39;00m\n\u001b[1;32m    252\u001b[0m \u001b[38;5;124;03mCannot infer image type from output path '{file}'.\u001b[39;00m\n\u001b[0;32m   (...)\u001b[0m\n\u001b[1;32m    260\u001b[0m                 )\n\u001b[1;32m    261\u001b[0m             )\n\u001b[1;32m    263\u001b[0m     \u001b[38;5;66;03m# Request image\u001b[39;00m\n\u001b[1;32m    264\u001b[0m     \u001b[38;5;66;03m# -------------\u001b[39;00m\n\u001b[1;32m    265\u001b[0m     \u001b[38;5;66;03m# Do this first so we don't create a file if image conversion fails\u001b[39;00m\n\u001b[0;32m--> 266\u001b[0m     img_data \u001b[38;5;241m=\u001b[39m to_image(\n\u001b[1;32m    267\u001b[0m         fig,\n\u001b[1;32m    268\u001b[0m         \u001b[38;5;28mformat\u001b[39m\u001b[38;5;241m=\u001b[39m\u001b[38;5;28mformat\u001b[39m,\n\u001b[1;32m    269\u001b[0m         scale\u001b[38;5;241m=\u001b[39mscale,\n\u001b[1;32m    270\u001b[0m         width\u001b[38;5;241m=\u001b[39mwidth,\n\u001b[1;32m    271\u001b[0m         height\u001b[38;5;241m=\u001b[39mheight,\n\u001b[1;32m    272\u001b[0m         validate\u001b[38;5;241m=\u001b[39mvalidate,\n\u001b[1;32m    273\u001b[0m         engine\u001b[38;5;241m=\u001b[39mengine,\n\u001b[1;32m    274\u001b[0m     )\n\u001b[1;32m    276\u001b[0m     \u001b[38;5;66;03m# Open file\u001b[39;00m\n\u001b[1;32m    277\u001b[0m     \u001b[38;5;66;03m# ---------\u001b[39;00m\n\u001b[1;32m    278\u001b[0m     \u001b[38;5;28;01mif\u001b[39;00m path \u001b[38;5;129;01mis\u001b[39;00m \u001b[38;5;28;01mNone\u001b[39;00m:\n\u001b[1;32m    279\u001b[0m         \u001b[38;5;66;03m# We previously failed to make sense of `file` as a pathlib object.\u001b[39;00m\n\u001b[1;32m    280\u001b[0m         \u001b[38;5;66;03m# Attempt to write to `file` as an open file descriptor.\u001b[39;00m\n",
      "File \u001b[0;32m/opt/anaconda3/lib/python3.12/site-packages/plotly/io/_kaleido.py:132\u001b[0m, in \u001b[0;36mto_image\u001b[0;34m(fig, format, width, height, scale, validate, engine)\u001b[0m\n\u001b[1;32m    130\u001b[0m     \u001b[38;5;66;03m# Raise informative error message if Kaleido is not installed\u001b[39;00m\n\u001b[1;32m    131\u001b[0m     \u001b[38;5;28;01mif\u001b[39;00m scope \u001b[38;5;129;01mis\u001b[39;00m \u001b[38;5;28;01mNone\u001b[39;00m:\n\u001b[0;32m--> 132\u001b[0m         \u001b[38;5;28;01mraise\u001b[39;00m \u001b[38;5;167;01mValueError\u001b[39;00m(\n\u001b[1;32m    133\u001b[0m \u001b[38;5;250m            \u001b[39m\u001b[38;5;124;03m\"\"\"\u001b[39;00m\n\u001b[1;32m    134\u001b[0m \u001b[38;5;124;03mImage export using the \"kaleido\" engine requires the kaleido package,\u001b[39;00m\n\u001b[1;32m    135\u001b[0m \u001b[38;5;124;03mwhich can be installed using pip:\u001b[39;00m\n\u001b[1;32m    136\u001b[0m \u001b[38;5;124;03m    $ pip install -U kaleido\u001b[39;00m\n\u001b[1;32m    137\u001b[0m \u001b[38;5;124;03m\"\"\"\u001b[39;00m\n\u001b[1;32m    138\u001b[0m         )\n\u001b[1;32m    140\u001b[0m     \u001b[38;5;66;03m# Validate figure\u001b[39;00m\n\u001b[1;32m    141\u001b[0m     \u001b[38;5;66;03m# ---------------\u001b[39;00m\n\u001b[1;32m    142\u001b[0m     fig_dict \u001b[38;5;241m=\u001b[39m validate_coerce_fig_to_dict(fig, validate)\n",
      "\u001b[0;31mValueError\u001b[0m: \nImage export using the \"kaleido\" engine requires the kaleido package,\nwhich can be installed using pip:\n    $ pip install -U kaleido\n"
     ]
    }
   ],
   "source": [
    "# Get the top 5 landmarks based on popularity score\n",
    "top10 = df.sort_values(by='popularity', ascending=False).head(10)\n",
    "\n",
    "# Create a bar chart\n",
    "fig = px.bar(\n",
    "    top10,\n",
    "    x='landmark', # landmark names on x-axis\n",
    "    y='popularity', # popularity score on y-axis\n",
    "    color='popularity', # color code based on the score\n",
    "    title='Top 5 Most Popular Landmarks (Score)',\n",
    "    hover_data=['city', 'state', 'visit_time_(hrs)'], # show details on the hover\n",
    "    text='popularity' # show scores as text on the bars\n",
    ")\n",
    "\n",
    "fig.update_layout(xaxis_tickangle=-45) # rotate text on x-axis\n",
    "\n",
    "fig.show() # display the chart\n",
    "\n",
    "# Save the figure as PNG\n",
    "pio.write_image(fig, \"popular_landmarks.png\", width=1200, height=800)"
   ]
  },
  {
   "cell_type": "markdown",
   "id": "59c00e54-0cd8-4199-b297-010237879c81",
   "metadata": {},
   "source": [
    "**Map Route for Visiting Most Popular Destinations in Order**\n",
    "\n",
    "This map helps visualize the route based on geography."
   ]
  },
  {
   "cell_type": "code",
   "execution_count": null,
   "id": "fded7a68-86de-4166-b698-29c6d73d1f07",
   "metadata": {},
   "outputs": [],
   "source": [
    "# Copy data \n",
    "map_df = df.copy()\n",
    "\n",
    "# Sort based on popularity score\n",
    "map_df = map_df.sort_values(by='popularity', ascending=False).reset_index(drop=True)\n",
    "\n",
    "# Create mapbox scatter with lines\n",
    "fig = go.Figure()\n",
    "\n",
    "# Add route line to connect based off sorted popularity score\n",
    "fig.add_trace(go.Scattermapbox(\n",
    "    mode=\"lines+markers+text\", # show lines, markers and text\n",
    "    lon=map_df['longitude'], # longitude data\n",
    "    lat=map_df['latitude'],  # latitude data\n",
    "    text=map_df['landmark'] + '<br>Popularity: ' + map_df['popularity'].astype(str), # hover text\n",
    "    marker={'size': 10}, # marker size for landmarks\n",
    "    line={'width': 2}, # line width\n",
    "    hoverinfo='text' # show text on hover only\n",
    "))\n",
    "\n",
    "# Map layout based on landmark coordinates\n",
    "fig.update_layout(\n",
    "    mapbox_style=\"open-street-map\",\n",
    "    mapbox_zoom=3,\n",
    "    mapbox_center={\"lat\": map_df['latitude'].mean(), \"lon\": map_df['longitude'].mean()},\n",
    "    title=\"Landmark Route Based on Popularity\",\n",
    "    height=600\n",
    ")\n",
    "\n",
    "fig.show() # show the interactive map"
   ]
  },
  {
   "cell_type": "markdown",
   "id": "0b0b7a49-f866-436e-876b-058b02d2dd82",
   "metadata": {},
   "source": [
    "**Visit Time Vs. Popularity**\n",
    "\n",
    "This plot shows the trade off between visit time and popularity."
   ]
  },
  {
   "cell_type": "code",
   "execution_count": null,
   "id": "62214a12-de33-4221-874e-1a4145d081d1",
   "metadata": {},
   "outputs": [],
   "source": [
    "# Create a scatter plot to compare the relationship between visit time and popularity\n",
    "fig = px.scatter(\n",
    "    df,\n",
    "    x='visit_time_(hrs)', # visit time on the x-axis\n",
    "    y='popularity', # popularity score on the y-axis\n",
    "    color='type', # color based on landmark type\n",
    "    hover_name='landmark', # show landmark name on hover\n",
    "    title='Visit Time vs Popularity Score', \n",
    "    size='reviews_photos', # bubble size represents number of reviews_photos\n",
    "    size_max=20 # max size for the bubbles\n",
    ")\n",
    "\n",
    "fig.show()"
   ]
  },
  {
   "cell_type": "markdown",
   "id": "22b721c8-9147-4b81-94be-616673fcf5b4",
   "metadata": {},
   "source": [
    "## Modeling"
   ]
  },
  {
   "cell_type": "markdown",
   "id": "8e2514f9-50ad-44d5-b2fb-9c6ee62dec47",
   "metadata": {},
   "source": [
    "**BASELINE MODEL**\n",
    "-Create a first route and visualize it\n",
    "-Select the next location randomly\n",
    "\n",
    "-Each route point should be visited only once\n",
    "-Compute the total distance after visiting all locations (it would allow you to evaluate the improvement of the route by your optimization model).\n",
    "\n",
    "To calculate the shortest distance between two points on the surface of a sphere, given their latitude and longitude, we will use the haversine formula. We have incorporated the formula into our 'compute_total_distance function' for easier use in the future."
   ]
  },
  {
   "cell_type": "code",
   "execution_count": null,
   "id": "22fc62c6-9d35-423e-983f-6e9958f7c467",
   "metadata": {},
   "outputs": [],
   "source": [
    "# Shuffle the data \n",
    "baseline_route = df.sample(frac=1, random_state=42).reset_index(drop=True)"
   ]
  },
  {
   "cell_type": "code",
   "execution_count": null,
   "id": "371d3e8f-f95c-49ad-a690-cb9458ba3a40",
   "metadata": {},
   "outputs": [],
   "source": [
    "# View the baseline route\n",
    "baseline_route"
   ]
  },
  {
   "cell_type": "code",
   "execution_count": null,
   "id": "2ca432bc-d958-406e-bd57-a3c86f0283f3",
   "metadata": {},
   "outputs": [],
   "source": [
    "# Create an empty list \n",
    "distance_list = []\n",
    "\n",
    "# Loop through each pair of consecutive landmarks for the baseline route\n",
    "for i in range(len(baseline_route) - 1):\n",
    "    landmark_from = baseline_route.loc[i, 'landmark']\n",
    "    landmark_to = baseline_route.loc[i + 1, 'landmark']\n",
    "    \n",
    "    loc1 = (baseline_route.loc[i, 'latitude'], baseline_route.loc[i, 'longitude'])\n",
    "    loc2 = (baseline_route.loc[i + 1, 'latitude'], baseline_route.loc[i + 1, 'longitude'])\n",
    "    \n",
    "    distance_km = haversine(loc1, loc2)\n",
    "    \n",
    "    # Append results as a dictionary\n",
    "    distance_list.append({\n",
    "        'From': landmark_from,\n",
    "        'To': landmark_to,\n",
    "        'Distance (km)': round(distance_km, 2)\n",
    "    })\n",
    "\n",
    "# Convert the list to a DataFrame\n",
    "baseline_distances_df = pd.DataFrame(distance_list)\n",
    "\n",
    "# Display the DataFrame\n",
    "baseline_distances_df"
   ]
  },
  {
   "cell_type": "code",
   "execution_count": null,
   "id": "32eda82b-ff7c-46be-9bd4-7367a0687efb",
   "metadata": {},
   "outputs": [],
   "source": [
    "# Define a function to compute total distance for a given route\n",
    "def compute_total_distance(route_df):\n",
    "    total_distance = 0  #initialize total distance\n",
    "\n",
    "    # Loop through each pair of consecutive locations in the route\n",
    "    for i in range(len(route_df) - 1):\n",
    "        loc1 = (route_df.loc[i, 'latitude'], route_df.loc[i, 'longitude']) # Get the coordinates for the current location\n",
    "        loc2 = (route_df.loc[i+1, 'latitude'], route_df.loc[i+1, 'longitude']) # Get the coordinates of the next location in the route\n",
    "        total_distance += haversine(loc1, loc2) # Calculate the distance between loc1 and loc2 using haversine formula\n",
    "    return total_distance  # Return total accumulated distance for the route\n",
    "    "
   ]
  },
  {
   "cell_type": "code",
   "execution_count": null,
   "id": "71f4d65b-f1fb-49a3-940a-844cd058f101",
   "metadata": {},
   "outputs": [],
   "source": [
    "# Calculate distance for the random baseline route\n",
    "baseline_distance = compute_total_distance(baseline_route)\n",
    "\n",
    "print(f\"Baseline Random Route Total Distance: {baseline_distance:.2f} km\")"
   ]
  },
  {
   "cell_type": "markdown",
   "id": "9be5961a-4607-4847-96a5-99d960fdd97a",
   "metadata": {},
   "source": [
    "After your baseline model (random) is established, you need to develop an approach to optimize your route. \n",
    "- i.e., find the route with the shortest total distance.\n",
    "- The total distance is the objective function, which should be minimized\n",
    "- The task to find the optimal distance is a little bit different from usual ML modeling, which we talked about a lot on the platform\n",
    "- To minimize the distance, you need to come up with an algorithm that selects the next location to visit in such a way that the total distance is minimized (and no location is visited twice).\n",
    "\n",
    "After your model is created and run, please \n",
    "- Calculate the total distance for the optimized route\n",
    "- Time needed to find this optimal route.\n",
    "- It would be nice if both your baseline and optimized solutions were visible on the screen for comparison."
   ]
  },
  {
   "cell_type": "code",
   "execution_count": null,
   "id": "f6507f7b-2569-4150-897c-b8f55655f821",
   "metadata": {},
   "outputs": [],
   "source": []
  },
  {
   "cell_type": "code",
   "execution_count": null,
   "id": "88c2da3e-2d87-41a4-8dde-8745c98a2e92",
   "metadata": {},
   "outputs": [],
   "source": []
  },
  {
   "cell_type": "code",
   "execution_count": null,
   "id": "2e2555ba-45f1-420a-9b12-1b1a9d7508ec",
   "metadata": {},
   "outputs": [],
   "source": []
  },
  {
   "cell_type": "markdown",
   "id": "0b2533f0-e98e-421f-995b-fd8fb4768d9a",
   "metadata": {},
   "source": [
    "## Visualizations"
   ]
  },
  {
   "cell_type": "markdown",
   "id": "8a6002ba-ad55-4ff9-a70b-340730c3726d",
   "metadata": {},
   "source": [
    "The visualizations should be interactive\n",
    "\t- What elements will be interactive\n",
    "\t- How the end-user should interact with it\n",
    "\n",
    "Visualizations you can use libraries such as plotly \n",
    "- Example: https://plotly.com/python/maps/\n",
    "- More examples https://python-graph-gallery.com/\n",
    "  \n",
    "Visualize \n",
    "- Statistics for locations or travel times\n",
    "- Include a map with locations and the optimal route on this map\n",
    "- Initial and optimized total distance and time needed for the model to calculate the optimal route."
   ]
  },
  {
   "cell_type": "markdown",
   "id": "f9fb818f-c634-4a2b-b38c-151850719c65",
   "metadata": {},
   "source": [
    "**Baseline Route Visualization**"
   ]
  },
  {
   "cell_type": "code",
   "execution_count": null,
   "id": "36dedb3b-83fb-4fb6-a32d-ca478ff9b9d6",
   "metadata": {
    "scrolled": true
   },
   "outputs": [],
   "source": [
    "# Make a copy of the baseline route DataFrame \n",
    "route_map = baseline_route.copy()\n",
    "\n",
    "# Initialize plotly figure\n",
    "fig = go.Figure()\n",
    "\n",
    "# Add a trace (layer) to the figure for the route line and markers\n",
    "fig.add_trace(go.Scattermapbox(\n",
    "    mode=\"lines+markers+text\",  # Show lines connecting points, markers, and text labels\n",
    "    lon=route_map['longitude'],  # Longitude values for the map points\n",
    "    lat=route_map['latitude'],   # Latitude values for the map points\n",
    "    text=route_map['landmark'],  # Landmark names appear on hover\n",
    "    marker={'size': 10, 'color': 'blue'},  # Marker appearance \n",
    "    line={'width': 2, 'color': 'blue'},    # Line appearance \n",
    "    hoverinfo='text',  # Show text on hover\n",
    "    name='Random Route'  # Legend name\n",
    "))\n",
    "\n",
    "# Add line segments with hover text showing the distance\n",
    "for i in range(len(route_map) - 1):\n",
    "    loc1 = (route_map.loc[i, 'latitude'], route_map.loc[i, 'longitude'])\n",
    "    loc2 = (route_map.loc[i + 1, 'latitude'], route_map.loc[i + 1, 'longitude'])\n",
    "    \n",
    "    distance_km = haversine(loc1, loc2)\n",
    "    \n",
    "    fig.add_trace(go.Scattermapbox(\n",
    "        mode=\"lines\",\n",
    "        lon=[loc1[1], loc2[1]],\n",
    "        lat=[loc1[0], loc2[0]],\n",
    "        line={'width': 2, 'color': 'blue'},\n",
    "        text=[f\"{route_map.loc[i, 'landmark']} → {route_map.loc[i + 1, 'landmark']}<br>Distance: {distance_km:.2f} km\"],\n",
    "        hoverinfo='text',\n",
    "        showlegend=False\n",
    "    ))\n",
    "\n",
    "# Update the map layout\n",
    "fig.update_layout(\n",
    "    mapbox_style=\"open-street-map\",  # The base map style\n",
    "    mapbox_zoom=3,  # Set initial zoom level\n",
    "    mapbox_center={  # Center the map based on average of all latitudes and longitudes\n",
    "        \"lat\": route_map['latitude'].mean(),\n",
    "        \"lon\": route_map['longitude'].mean()\n",
    "    },\n",
    "    title=f\"Baseline Random Route — Total Distance: {baseline_distance:.2f} km\",  # Title includes total distance\n",
    "    height=600  # Set figure height\n",
    ")\n",
    "\n",
    "# Display the interactive map\n",
    "fig.show()"
   ]
  },
  {
   "cell_type": "code",
   "execution_count": null,
   "id": "d6e1a061-f1e7-48ac-aa77-03d83c9ba0ee",
   "metadata": {},
   "outputs": [],
   "source": []
  },
  {
   "cell_type": "markdown",
   "id": "ecde856a-2f42-49f4-bcce-8cb0c44b6c22",
   "metadata": {},
   "source": [
    "## Conclusion"
   ]
  },
  {
   "cell_type": "code",
   "execution_count": null,
   "id": "199fa008-cea0-45a9-8b56-d06a7ef75ee9",
   "metadata": {},
   "outputs": [],
   "source": []
  }
 ],
 "metadata": {
  "kernelspec": {
   "display_name": "Python [conda env:base] *",
   "language": "python",
   "name": "conda-base-py"
  },
  "language_info": {
   "codemirror_mode": {
    "name": "ipython",
    "version": 3
   },
   "file_extension": ".py",
   "mimetype": "text/x-python",
   "name": "python",
   "nbconvert_exporter": "python",
   "pygments_lexer": "ipython3",
   "version": "3.12.7"
  }
 },
 "nbformat": 4,
 "nbformat_minor": 5
}
