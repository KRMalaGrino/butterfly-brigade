{
 "cells": [
  {
   "cell_type": "markdown",
   "id": "a0fe5b07-94fd-4efc-915c-902e8c34ce75",
   "metadata": {},
   "source": [
    "# Roadtrip Route Optimizer: Data-Driven Landmark Exploration"
   ]
  },
  {
   "cell_type": "markdown",
   "id": "8d8dd8c5-a6f8-406c-a45c-58846d73367f",
   "metadata": {},
   "source": [
    "Our project focuses on creating a dynamic road trip experience by mapping out a route that passes through some of the most scenic and popular landmarks and natural attractions. We use real-world data—like the number of photos shared and reviews posted—to rank each stop and recommend how much time travelers might want to spend at each location.\n",
    "\n",
    "The experience comes together with an interactive map and scrollable landmark cards, giving users a visual way to explore their trip. Each landmark is paired with photos and descriptions that bring it to life. We’ve also made it easy to sort or filter stops based on popularity, type of attraction—like nature spots or architectural sites—or the amount of time needed for a visit.\n",
    "\n",
    "At the end, users get a full trip summary, showing the total distance they’ll cover and the number of landmarks included in their adventure."
   ]
  },
  {
   "cell_type": "code",
   "execution_count": 379,
   "id": "49f137a8-59b3-42df-b4ac-217e891aa6e5",
   "metadata": {},
   "outputs": [],
   "source": [
    "import pandas as pd\n",
    "import plotly.express as px\n",
    "import plotly.graph_objects as go\n",
    "import time\n",
    "\n",
    "import itertools\n",
    "import math\n",
    "\n",
    "from geopy.geocoders import Nominatim\n",
    "\n",
    "from IPython.display import FileLink, display"
   ]
  },
  {
   "cell_type": "markdown",
   "id": "c96bea4c-3b28-4ebc-8548-c5050d306e9f",
   "metadata": {},
   "source": [
    "## 1. Introduction into the Dataset and Data Preparation"
   ]
  },
  {
   "cell_type": "markdown",
   "id": "acaa3ab3-87fb-43ea-a8e6-24de8f03e541",
   "metadata": {},
   "source": [
    "For this project, we manually collected data on well-known landmarks across the United States by conducting web searches on platforms like Google. The dataset originally contained nine columns, capturing details such as city, state, landmark name, latitude, longitude, landmark type, estimated visit time, average user rating, number of reviews or photos, and annual visitor counts. However, for the purpose of this sightseeing route optimization project, we narrowed our focus to five nationally recognizable landmarks. This decision allowed us to build a model that could thoroughly analyze a manageable set of high-profile destinations while keeping computational efficiency in mind.\n",
    "\n",
    "To prepare the data for analysis, we standardized the dataset for consistency and usability. All string values were converted to lowercase, and we replaced whitespaces and slashes with underscores to ensure uniform formatting across column names and data entries. Beyond basic cleaning, we engineered a new feature called the \"popularity score\" — a weighted metric that summarizes average user ratings, the volume of reviews or photos, and annual visitor numbers. This score provided a single value to help rank landmarks in terms of visitor interest and relevance, serving as a key factor in both our analysis and route optimization.\n",
    "\n",
    "The final cleaned and feature-engineered dataset gave us a solid foundation for building models that analyze travel distances, landmark popularity, and optimal sightseeing routes, all designed to enhance both the technical and practical aspects of travel planning."
   ]
  },
  {
   "cell_type": "code",
   "execution_count": 203,
   "id": "d675cacd-2786-4951-b051-8a1ecfa04355",
   "metadata": {},
   "outputs": [],
   "source": [
    "# Link to read the data in Sabrina's branch\n",
    "url = 'https://raw.githubusercontent.com/KRMalaGrino/butterfly-brigade/refs/heads/sabrina/data_science/Landmark_Dataset_with_Visit_Time_and_Popularity_Factors.csv'\n",
    "df = pd.read_csv(url)"
   ]
  },
  {
   "cell_type": "code",
   "execution_count": 204,
   "id": "b9a65da8-b41c-4190-831b-f4529e8b9768",
   "metadata": {},
   "outputs": [
    {
     "data": {
      "text/html": [
       "<div>\n",
       "<style scoped>\n",
       "    .dataframe tbody tr th:only-of-type {\n",
       "        vertical-align: middle;\n",
       "    }\n",
       "\n",
       "    .dataframe tbody tr th {\n",
       "        vertical-align: top;\n",
       "    }\n",
       "\n",
       "    .dataframe thead th {\n",
       "        text-align: right;\n",
       "    }\n",
       "</style>\n",
       "<table border=\"1\" class=\"dataframe\">\n",
       "  <thead>\n",
       "    <tr style=\"text-align: right;\">\n",
       "      <th></th>\n",
       "      <th>City</th>\n",
       "      <th>State</th>\n",
       "      <th>Landmark</th>\n",
       "      <th>Latitude</th>\n",
       "      <th>Longitude</th>\n",
       "      <th>Type</th>\n",
       "      <th>Visit Time (hrs)</th>\n",
       "      <th>Average User Rating</th>\n",
       "      <th>Reviews/Photos</th>\n",
       "      <th>Annual Visitors</th>\n",
       "    </tr>\n",
       "  </thead>\n",
       "  <tbody>\n",
       "    <tr>\n",
       "      <th>0</th>\n",
       "      <td>Keystone</td>\n",
       "      <td>South Dakota</td>\n",
       "      <td>Mount Rushmore</td>\n",
       "      <td>43.8791</td>\n",
       "      <td>-103.4591</td>\n",
       "      <td>Historical/Architectural</td>\n",
       "      <td>2</td>\n",
       "      <td>4.7</td>\n",
       "      <td>25000</td>\n",
       "      <td>2000000</td>\n",
       "    </tr>\n",
       "    <tr>\n",
       "      <th>1</th>\n",
       "      <td>Grand Canyon Village</td>\n",
       "      <td>Arizona</td>\n",
       "      <td>Grand Canyon</td>\n",
       "      <td>36.1069</td>\n",
       "      <td>-112.1129</td>\n",
       "      <td>Natural</td>\n",
       "      <td>8</td>\n",
       "      <td>4.9</td>\n",
       "      <td>60000</td>\n",
       "      <td>6000000</td>\n",
       "    </tr>\n",
       "    <tr>\n",
       "      <th>2</th>\n",
       "      <td>Niagara Falls</td>\n",
       "      <td>New York</td>\n",
       "      <td>Niagara Falls</td>\n",
       "      <td>43.0962</td>\n",
       "      <td>-79.0377</td>\n",
       "      <td>Natural</td>\n",
       "      <td>4</td>\n",
       "      <td>4.8</td>\n",
       "      <td>55000</td>\n",
       "      <td>9000000</td>\n",
       "    </tr>\n",
       "    <tr>\n",
       "      <th>3</th>\n",
       "      <td>New York</td>\n",
       "      <td>New York</td>\n",
       "      <td>Statue of Liberty</td>\n",
       "      <td>40.6892</td>\n",
       "      <td>-74.0445</td>\n",
       "      <td>Historical/Architectural</td>\n",
       "      <td>4</td>\n",
       "      <td>4.7</td>\n",
       "      <td>30000</td>\n",
       "      <td>4300000</td>\n",
       "    </tr>\n",
       "    <tr>\n",
       "      <th>4</th>\n",
       "      <td>St. Louis</td>\n",
       "      <td>Missouri</td>\n",
       "      <td>Gateway Arch</td>\n",
       "      <td>38.6247</td>\n",
       "      <td>-90.1848</td>\n",
       "      <td>Architectural</td>\n",
       "      <td>2</td>\n",
       "      <td>4.7</td>\n",
       "      <td>15000</td>\n",
       "      <td>2000000</td>\n",
       "    </tr>\n",
       "    <tr>\n",
       "      <th>5</th>\n",
       "      <td>Washington</td>\n",
       "      <td>District of Columbia</td>\n",
       "      <td>Lincoln Memorial</td>\n",
       "      <td>38.8893</td>\n",
       "      <td>-77.0502</td>\n",
       "      <td>Historical</td>\n",
       "      <td>1</td>\n",
       "      <td>4.8</td>\n",
       "      <td>25000</td>\n",
       "      <td>8000000</td>\n",
       "    </tr>\n",
       "    <tr>\n",
       "      <th>6</th>\n",
       "      <td>San Francisco</td>\n",
       "      <td>California</td>\n",
       "      <td>Golden Gate Bridge</td>\n",
       "      <td>37.8199</td>\n",
       "      <td>-122.4783</td>\n",
       "      <td>Architectural</td>\n",
       "      <td>2</td>\n",
       "      <td>4.8</td>\n",
       "      <td>45000</td>\n",
       "      <td>10000000</td>\n",
       "    </tr>\n",
       "    <tr>\n",
       "      <th>7</th>\n",
       "      <td>Orlando</td>\n",
       "      <td>Florida</td>\n",
       "      <td>Disney World</td>\n",
       "      <td>28.3852</td>\n",
       "      <td>-81.5639</td>\n",
       "      <td>Amusement Park</td>\n",
       "      <td>8</td>\n",
       "      <td>4.7</td>\n",
       "      <td>85000</td>\n",
       "      <td>58000000</td>\n",
       "    </tr>\n",
       "    <tr>\n",
       "      <th>8</th>\n",
       "      <td>Las Vegas</td>\n",
       "      <td>Nevada</td>\n",
       "      <td>Las Vegas Sphere</td>\n",
       "      <td>36.1699</td>\n",
       "      <td>-115.1398</td>\n",
       "      <td>Architectural/Entertainment</td>\n",
       "      <td>2</td>\n",
       "      <td>4.6</td>\n",
       "      <td>10000</td>\n",
       "      <td>3000000</td>\n",
       "    </tr>\n",
       "  </tbody>\n",
       "</table>\n",
       "</div>"
      ],
      "text/plain": [
       "                   City                 State            Landmark  Latitude  \\\n",
       "0              Keystone          South Dakota      Mount Rushmore   43.8791   \n",
       "1  Grand Canyon Village               Arizona        Grand Canyon   36.1069   \n",
       "2         Niagara Falls              New York       Niagara Falls   43.0962   \n",
       "3              New York              New York   Statue of Liberty   40.6892   \n",
       "4             St. Louis              Missouri        Gateway Arch   38.6247   \n",
       "5            Washington  District of Columbia    Lincoln Memorial   38.8893   \n",
       "6         San Francisco            California  Golden Gate Bridge   37.8199   \n",
       "7               Orlando               Florida        Disney World   28.3852   \n",
       "8             Las Vegas                Nevada    Las Vegas Sphere   36.1699   \n",
       "\n",
       "   Longitude                         Type  Visit Time (hrs)  \\\n",
       "0  -103.4591     Historical/Architectural                 2   \n",
       "1  -112.1129                      Natural                 8   \n",
       "2   -79.0377                      Natural                 4   \n",
       "3   -74.0445     Historical/Architectural                 4   \n",
       "4   -90.1848                Architectural                 2   \n",
       "5   -77.0502                   Historical                 1   \n",
       "6  -122.4783                Architectural                 2   \n",
       "7   -81.5639               Amusement Park                 8   \n",
       "8  -115.1398  Architectural/Entertainment                 2   \n",
       "\n",
       "   Average User Rating  Reviews/Photos  Annual Visitors  \n",
       "0                  4.7           25000          2000000  \n",
       "1                  4.9           60000          6000000  \n",
       "2                  4.8           55000          9000000  \n",
       "3                  4.7           30000          4300000  \n",
       "4                  4.7           15000          2000000  \n",
       "5                  4.8           25000          8000000  \n",
       "6                  4.8           45000         10000000  \n",
       "7                  4.7           85000         58000000  \n",
       "8                  4.6           10000          3000000  "
      ]
     },
     "execution_count": 204,
     "metadata": {},
     "output_type": "execute_result"
    }
   ],
   "source": [
    "# View the data \n",
    "df"
   ]
  },
  {
   "cell_type": "code",
   "execution_count": 205,
   "id": "9b75f509-5629-4264-a681-dc5ba9ceab37",
   "metadata": {},
   "outputs": [],
   "source": [
    "# Reduce  list to only 5 locations and reset the index\n",
    "df = df.drop(index=[1, 2, 5, 8], errors='ignore').reset_index(drop=True)"
   ]
  },
  {
   "cell_type": "code",
   "execution_count": 206,
   "id": "992eae5c-4c26-4697-90f6-597940b13e7e",
   "metadata": {},
   "outputs": [
    {
     "data": {
      "text/html": [
       "<div>\n",
       "<style scoped>\n",
       "    .dataframe tbody tr th:only-of-type {\n",
       "        vertical-align: middle;\n",
       "    }\n",
       "\n",
       "    .dataframe tbody tr th {\n",
       "        vertical-align: top;\n",
       "    }\n",
       "\n",
       "    .dataframe thead th {\n",
       "        text-align: right;\n",
       "    }\n",
       "</style>\n",
       "<table border=\"1\" class=\"dataframe\">\n",
       "  <thead>\n",
       "    <tr style=\"text-align: right;\">\n",
       "      <th></th>\n",
       "      <th>City</th>\n",
       "      <th>State</th>\n",
       "      <th>Landmark</th>\n",
       "      <th>Latitude</th>\n",
       "      <th>Longitude</th>\n",
       "      <th>Type</th>\n",
       "      <th>Visit Time (hrs)</th>\n",
       "      <th>Average User Rating</th>\n",
       "      <th>Reviews/Photos</th>\n",
       "      <th>Annual Visitors</th>\n",
       "    </tr>\n",
       "  </thead>\n",
       "  <tbody>\n",
       "    <tr>\n",
       "      <th>0</th>\n",
       "      <td>Keystone</td>\n",
       "      <td>South Dakota</td>\n",
       "      <td>Mount Rushmore</td>\n",
       "      <td>43.8791</td>\n",
       "      <td>-103.4591</td>\n",
       "      <td>Historical/Architectural</td>\n",
       "      <td>2</td>\n",
       "      <td>4.7</td>\n",
       "      <td>25000</td>\n",
       "      <td>2000000</td>\n",
       "    </tr>\n",
       "    <tr>\n",
       "      <th>1</th>\n",
       "      <td>New York</td>\n",
       "      <td>New York</td>\n",
       "      <td>Statue of Liberty</td>\n",
       "      <td>40.6892</td>\n",
       "      <td>-74.0445</td>\n",
       "      <td>Historical/Architectural</td>\n",
       "      <td>4</td>\n",
       "      <td>4.7</td>\n",
       "      <td>30000</td>\n",
       "      <td>4300000</td>\n",
       "    </tr>\n",
       "    <tr>\n",
       "      <th>2</th>\n",
       "      <td>St. Louis</td>\n",
       "      <td>Missouri</td>\n",
       "      <td>Gateway Arch</td>\n",
       "      <td>38.6247</td>\n",
       "      <td>-90.1848</td>\n",
       "      <td>Architectural</td>\n",
       "      <td>2</td>\n",
       "      <td>4.7</td>\n",
       "      <td>15000</td>\n",
       "      <td>2000000</td>\n",
       "    </tr>\n",
       "    <tr>\n",
       "      <th>3</th>\n",
       "      <td>San Francisco</td>\n",
       "      <td>California</td>\n",
       "      <td>Golden Gate Bridge</td>\n",
       "      <td>37.8199</td>\n",
       "      <td>-122.4783</td>\n",
       "      <td>Architectural</td>\n",
       "      <td>2</td>\n",
       "      <td>4.8</td>\n",
       "      <td>45000</td>\n",
       "      <td>10000000</td>\n",
       "    </tr>\n",
       "    <tr>\n",
       "      <th>4</th>\n",
       "      <td>Orlando</td>\n",
       "      <td>Florida</td>\n",
       "      <td>Disney World</td>\n",
       "      <td>28.3852</td>\n",
       "      <td>-81.5639</td>\n",
       "      <td>Amusement Park</td>\n",
       "      <td>8</td>\n",
       "      <td>4.7</td>\n",
       "      <td>85000</td>\n",
       "      <td>58000000</td>\n",
       "    </tr>\n",
       "  </tbody>\n",
       "</table>\n",
       "</div>"
      ],
      "text/plain": [
       "            City         State            Landmark  Latitude  Longitude  \\\n",
       "0       Keystone  South Dakota      Mount Rushmore   43.8791  -103.4591   \n",
       "1       New York      New York   Statue of Liberty   40.6892   -74.0445   \n",
       "2      St. Louis      Missouri        Gateway Arch   38.6247   -90.1848   \n",
       "3  San Francisco    California  Golden Gate Bridge   37.8199  -122.4783   \n",
       "4        Orlando       Florida        Disney World   28.3852   -81.5639   \n",
       "\n",
       "                       Type  Visit Time (hrs)  Average User Rating  \\\n",
       "0  Historical/Architectural                 2                  4.7   \n",
       "1  Historical/Architectural                 4                  4.7   \n",
       "2             Architectural                 2                  4.7   \n",
       "3             Architectural                 2                  4.8   \n",
       "4            Amusement Park                 8                  4.7   \n",
       "\n",
       "   Reviews/Photos  Annual Visitors  \n",
       "0           25000          2000000  \n",
       "1           30000          4300000  \n",
       "2           15000          2000000  \n",
       "3           45000         10000000  \n",
       "4           85000         58000000  "
      ]
     },
     "execution_count": 206,
     "metadata": {},
     "output_type": "execute_result"
    }
   ],
   "source": [
    "# Check the changes\n",
    "df"
   ]
  },
  {
   "cell_type": "code",
   "execution_count": 207,
   "id": "c269ca84-4d3b-4fce-b0bd-1f0471d8c8ae",
   "metadata": {},
   "outputs": [
    {
     "name": "stdout",
     "output_type": "stream",
     "text": [
      "<class 'pandas.core.frame.DataFrame'>\n",
      "RangeIndex: 5 entries, 0 to 4\n",
      "Data columns (total 10 columns):\n",
      " #   Column               Non-Null Count  Dtype  \n",
      "---  ------               --------------  -----  \n",
      " 0   City                 5 non-null      object \n",
      " 1   State                5 non-null      object \n",
      " 2   Landmark             5 non-null      object \n",
      " 3   Latitude             5 non-null      float64\n",
      " 4   Longitude            5 non-null      float64\n",
      " 5   Type                 5 non-null      object \n",
      " 6   Visit Time (hrs)     5 non-null      int64  \n",
      " 7   Average User Rating  5 non-null      float64\n",
      " 8   Reviews/Photos       5 non-null      int64  \n",
      " 9   Annual Visitors      5 non-null      int64  \n",
      "dtypes: float64(3), int64(3), object(4)\n",
      "memory usage: 532.0+ bytes\n"
     ]
    }
   ],
   "source": [
    "# Get an overview of the dataset\n",
    "df.info()"
   ]
  },
  {
   "cell_type": "code",
   "execution_count": 208,
   "id": "e5be3630-0a6d-49e5-b256-bcdc27adf88b",
   "metadata": {},
   "outputs": [],
   "source": [
    "# Lower case the columns and fill whitespace with underscore\n",
    "df.columns = df.columns.str.lower().str.replace(' ', '_').str.replace('/', '_')"
   ]
  },
  {
   "cell_type": "code",
   "execution_count": 209,
   "id": "d92f61c8-6fe1-4e8d-8755-bb33deac386b",
   "metadata": {},
   "outputs": [
    {
     "data": {
      "text/plain": [
       "Index(['city', 'state', 'landmark', 'latitude', 'longitude', 'type',\n",
       "       'visit_time_(hrs)', 'average_user_rating', 'reviews_photos',\n",
       "       'annual_visitors'],\n",
       "      dtype='object')"
      ]
     },
     "execution_count": 209,
     "metadata": {},
     "output_type": "execute_result"
    }
   ],
   "source": [
    "# Check changes\n",
    "df.columns"
   ]
  },
  {
   "cell_type": "code",
   "execution_count": 210,
   "id": "cd5c6436-4158-4259-9aa0-26bf23463a22",
   "metadata": {},
   "outputs": [],
   "source": [
    "# Lowercase the values, replace whitespace and / with an underscore\n",
    "df = df.map(lambda x: x.lower().replace(' ', '_').replace('/', '_') if isinstance(x, str) else x)"
   ]
  },
  {
   "cell_type": "code",
   "execution_count": 211,
   "id": "3bd6e397-8267-407b-8f83-128515a3b617",
   "metadata": {},
   "outputs": [
    {
     "data": {
      "text/html": [
       "<div>\n",
       "<style scoped>\n",
       "    .dataframe tbody tr th:only-of-type {\n",
       "        vertical-align: middle;\n",
       "    }\n",
       "\n",
       "    .dataframe tbody tr th {\n",
       "        vertical-align: top;\n",
       "    }\n",
       "\n",
       "    .dataframe thead th {\n",
       "        text-align: right;\n",
       "    }\n",
       "</style>\n",
       "<table border=\"1\" class=\"dataframe\">\n",
       "  <thead>\n",
       "    <tr style=\"text-align: right;\">\n",
       "      <th></th>\n",
       "      <th>city</th>\n",
       "      <th>state</th>\n",
       "      <th>landmark</th>\n",
       "      <th>latitude</th>\n",
       "      <th>longitude</th>\n",
       "      <th>type</th>\n",
       "      <th>visit_time_(hrs)</th>\n",
       "      <th>average_user_rating</th>\n",
       "      <th>reviews_photos</th>\n",
       "      <th>annual_visitors</th>\n",
       "    </tr>\n",
       "  </thead>\n",
       "  <tbody>\n",
       "    <tr>\n",
       "      <th>0</th>\n",
       "      <td>keystone</td>\n",
       "      <td>south_dakota</td>\n",
       "      <td>mount_rushmore</td>\n",
       "      <td>43.8791</td>\n",
       "      <td>-103.4591</td>\n",
       "      <td>historical_architectural</td>\n",
       "      <td>2</td>\n",
       "      <td>4.7</td>\n",
       "      <td>25000</td>\n",
       "      <td>2000000</td>\n",
       "    </tr>\n",
       "    <tr>\n",
       "      <th>1</th>\n",
       "      <td>new_york</td>\n",
       "      <td>new_york</td>\n",
       "      <td>statue_of_liberty</td>\n",
       "      <td>40.6892</td>\n",
       "      <td>-74.0445</td>\n",
       "      <td>historical_architectural</td>\n",
       "      <td>4</td>\n",
       "      <td>4.7</td>\n",
       "      <td>30000</td>\n",
       "      <td>4300000</td>\n",
       "    </tr>\n",
       "    <tr>\n",
       "      <th>2</th>\n",
       "      <td>st._louis</td>\n",
       "      <td>missouri</td>\n",
       "      <td>gateway_arch</td>\n",
       "      <td>38.6247</td>\n",
       "      <td>-90.1848</td>\n",
       "      <td>architectural</td>\n",
       "      <td>2</td>\n",
       "      <td>4.7</td>\n",
       "      <td>15000</td>\n",
       "      <td>2000000</td>\n",
       "    </tr>\n",
       "    <tr>\n",
       "      <th>3</th>\n",
       "      <td>san_francisco</td>\n",
       "      <td>california</td>\n",
       "      <td>golden_gate_bridge</td>\n",
       "      <td>37.8199</td>\n",
       "      <td>-122.4783</td>\n",
       "      <td>architectural</td>\n",
       "      <td>2</td>\n",
       "      <td>4.8</td>\n",
       "      <td>45000</td>\n",
       "      <td>10000000</td>\n",
       "    </tr>\n",
       "    <tr>\n",
       "      <th>4</th>\n",
       "      <td>orlando</td>\n",
       "      <td>florida</td>\n",
       "      <td>disney_world</td>\n",
       "      <td>28.3852</td>\n",
       "      <td>-81.5639</td>\n",
       "      <td>amusement_park</td>\n",
       "      <td>8</td>\n",
       "      <td>4.7</td>\n",
       "      <td>85000</td>\n",
       "      <td>58000000</td>\n",
       "    </tr>\n",
       "  </tbody>\n",
       "</table>\n",
       "</div>"
      ],
      "text/plain": [
       "            city         state            landmark  latitude  longitude  \\\n",
       "0       keystone  south_dakota      mount_rushmore   43.8791  -103.4591   \n",
       "1       new_york      new_york   statue_of_liberty   40.6892   -74.0445   \n",
       "2      st._louis      missouri        gateway_arch   38.6247   -90.1848   \n",
       "3  san_francisco    california  golden_gate_bridge   37.8199  -122.4783   \n",
       "4        orlando       florida        disney_world   28.3852   -81.5639   \n",
       "\n",
       "                       type  visit_time_(hrs)  average_user_rating  \\\n",
       "0  historical_architectural                 2                  4.7   \n",
       "1  historical_architectural                 4                  4.7   \n",
       "2             architectural                 2                  4.7   \n",
       "3             architectural                 2                  4.8   \n",
       "4            amusement_park                 8                  4.7   \n",
       "\n",
       "   reviews_photos  annual_visitors  \n",
       "0           25000          2000000  \n",
       "1           30000          4300000  \n",
       "2           15000          2000000  \n",
       "3           45000         10000000  \n",
       "4           85000         58000000  "
      ]
     },
     "execution_count": 211,
     "metadata": {},
     "output_type": "execute_result"
    }
   ],
   "source": [
    "df"
   ]
  },
  {
   "cell_type": "markdown",
   "id": "5beddb08-2993-4bf0-9b26-c5849b1ae7d9",
   "metadata": {},
   "source": [
    "### 1.1 Feature Engineering"
   ]
  },
  {
   "cell_type": "markdown",
   "id": "3d3c9bcd-9cae-4d97-bfdf-83002bed1a4d",
   "metadata": {},
   "source": [
    "To summarize the average_user_rating, review_photos and annual_vistors, we are creating an additional feature to score overall 'popularity' for each landmark."
   ]
  },
  {
   "cell_type": "code",
   "execution_count": 214,
   "id": "6ce434e8-2d54-45cd-8871-1d6aae450197",
   "metadata": {},
   "outputs": [],
   "source": [
    "# Set the weights to value the degree of importance of each of the columns\n",
    "w_r = 0.40 # weight for the ratings\n",
    "w_p = 0.30 # weight for the reviews_photos\n",
    "w_v = 0.30 # weight for the visitors"
   ]
  },
  {
   "cell_type": "code",
   "execution_count": 215,
   "id": "6192e61d-a7ef-4593-b6c4-2c40522be90d",
   "metadata": {},
   "outputs": [],
   "source": [
    "# Calculate max values \n",
    "max_reviews = df['reviews_photos'].max()\n",
    "max_visitors = df['annual_visitors'].max()"
   ]
  },
  {
   "cell_type": "code",
   "execution_count": 216,
   "id": "fd8d4b5a-5668-4241-aef6-1dcf2a372f87",
   "metadata": {},
   "outputs": [],
   "source": [
    "# Feature engineering to score popularity out of 100\n",
    "df['rating_factor'] = (df['average_user_rating'] / 5) * 100\n",
    "df['reviews_factor'] = (df['reviews_photos'] / max_reviews) * 100\n",
    "df['visitors_factor'] = (df['annual_visitors'] / max_visitors) * 100"
   ]
  },
  {
   "cell_type": "code",
   "execution_count": 217,
   "id": "b3c2de5a-f2b3-4a4d-ad85-067fa8b4643f",
   "metadata": {},
   "outputs": [],
   "source": [
    "# Calculate Popularity Score\n",
    "df['popularity'] = (\n",
    "    (df['rating_factor'] * w_r) +\n",
    "    (df['reviews_factor'] * w_p) +\n",
    "    (df['visitors_factor'] * w_v)\n",
    ")"
   ]
  },
  {
   "cell_type": "code",
   "execution_count": 218,
   "id": "cdd09264-8433-46d7-80d2-d80e5b42c30a",
   "metadata": {},
   "outputs": [
    {
     "data": {
      "text/html": [
       "<div>\n",
       "<style scoped>\n",
       "    .dataframe tbody tr th:only-of-type {\n",
       "        vertical-align: middle;\n",
       "    }\n",
       "\n",
       "    .dataframe tbody tr th {\n",
       "        vertical-align: top;\n",
       "    }\n",
       "\n",
       "    .dataframe thead th {\n",
       "        text-align: right;\n",
       "    }\n",
       "</style>\n",
       "<table border=\"1\" class=\"dataframe\">\n",
       "  <thead>\n",
       "    <tr style=\"text-align: right;\">\n",
       "      <th></th>\n",
       "      <th>city</th>\n",
       "      <th>state</th>\n",
       "      <th>landmark</th>\n",
       "      <th>latitude</th>\n",
       "      <th>longitude</th>\n",
       "      <th>type</th>\n",
       "      <th>visit_time_(hrs)</th>\n",
       "      <th>average_user_rating</th>\n",
       "      <th>reviews_photos</th>\n",
       "      <th>annual_visitors</th>\n",
       "      <th>rating_factor</th>\n",
       "      <th>reviews_factor</th>\n",
       "      <th>visitors_factor</th>\n",
       "      <th>popularity</th>\n",
       "    </tr>\n",
       "  </thead>\n",
       "  <tbody>\n",
       "    <tr>\n",
       "      <th>0</th>\n",
       "      <td>keystone</td>\n",
       "      <td>south_dakota</td>\n",
       "      <td>mount_rushmore</td>\n",
       "      <td>43.8791</td>\n",
       "      <td>-103.4591</td>\n",
       "      <td>historical_architectural</td>\n",
       "      <td>2</td>\n",
       "      <td>4.7</td>\n",
       "      <td>25000</td>\n",
       "      <td>2000000</td>\n",
       "      <td>94.0</td>\n",
       "      <td>29.411765</td>\n",
       "      <td>3.448276</td>\n",
       "      <td>47.458012</td>\n",
       "    </tr>\n",
       "    <tr>\n",
       "      <th>1</th>\n",
       "      <td>new_york</td>\n",
       "      <td>new_york</td>\n",
       "      <td>statue_of_liberty</td>\n",
       "      <td>40.6892</td>\n",
       "      <td>-74.0445</td>\n",
       "      <td>historical_architectural</td>\n",
       "      <td>4</td>\n",
       "      <td>4.7</td>\n",
       "      <td>30000</td>\n",
       "      <td>4300000</td>\n",
       "      <td>94.0</td>\n",
       "      <td>35.294118</td>\n",
       "      <td>7.413793</td>\n",
       "      <td>50.412373</td>\n",
       "    </tr>\n",
       "    <tr>\n",
       "      <th>2</th>\n",
       "      <td>st._louis</td>\n",
       "      <td>missouri</td>\n",
       "      <td>gateway_arch</td>\n",
       "      <td>38.6247</td>\n",
       "      <td>-90.1848</td>\n",
       "      <td>architectural</td>\n",
       "      <td>2</td>\n",
       "      <td>4.7</td>\n",
       "      <td>15000</td>\n",
       "      <td>2000000</td>\n",
       "      <td>94.0</td>\n",
       "      <td>17.647059</td>\n",
       "      <td>3.448276</td>\n",
       "      <td>43.928600</td>\n",
       "    </tr>\n",
       "    <tr>\n",
       "      <th>3</th>\n",
       "      <td>san_francisco</td>\n",
       "      <td>california</td>\n",
       "      <td>golden_gate_bridge</td>\n",
       "      <td>37.8199</td>\n",
       "      <td>-122.4783</td>\n",
       "      <td>architectural</td>\n",
       "      <td>2</td>\n",
       "      <td>4.8</td>\n",
       "      <td>45000</td>\n",
       "      <td>10000000</td>\n",
       "      <td>96.0</td>\n",
       "      <td>52.941176</td>\n",
       "      <td>17.241379</td>\n",
       "      <td>59.454767</td>\n",
       "    </tr>\n",
       "    <tr>\n",
       "      <th>4</th>\n",
       "      <td>orlando</td>\n",
       "      <td>florida</td>\n",
       "      <td>disney_world</td>\n",
       "      <td>28.3852</td>\n",
       "      <td>-81.5639</td>\n",
       "      <td>amusement_park</td>\n",
       "      <td>8</td>\n",
       "      <td>4.7</td>\n",
       "      <td>85000</td>\n",
       "      <td>58000000</td>\n",
       "      <td>94.0</td>\n",
       "      <td>100.000000</td>\n",
       "      <td>100.000000</td>\n",
       "      <td>97.600000</td>\n",
       "    </tr>\n",
       "  </tbody>\n",
       "</table>\n",
       "</div>"
      ],
      "text/plain": [
       "            city         state            landmark  latitude  longitude  \\\n",
       "0       keystone  south_dakota      mount_rushmore   43.8791  -103.4591   \n",
       "1       new_york      new_york   statue_of_liberty   40.6892   -74.0445   \n",
       "2      st._louis      missouri        gateway_arch   38.6247   -90.1848   \n",
       "3  san_francisco    california  golden_gate_bridge   37.8199  -122.4783   \n",
       "4        orlando       florida        disney_world   28.3852   -81.5639   \n",
       "\n",
       "                       type  visit_time_(hrs)  average_user_rating  \\\n",
       "0  historical_architectural                 2                  4.7   \n",
       "1  historical_architectural                 4                  4.7   \n",
       "2             architectural                 2                  4.7   \n",
       "3             architectural                 2                  4.8   \n",
       "4            amusement_park                 8                  4.7   \n",
       "\n",
       "   reviews_photos  annual_visitors  rating_factor  reviews_factor  \\\n",
       "0           25000          2000000           94.0       29.411765   \n",
       "1           30000          4300000           94.0       35.294118   \n",
       "2           15000          2000000           94.0       17.647059   \n",
       "3           45000         10000000           96.0       52.941176   \n",
       "4           85000         58000000           94.0      100.000000   \n",
       "\n",
       "   visitors_factor  popularity  \n",
       "0         3.448276   47.458012  \n",
       "1         7.413793   50.412373  \n",
       "2         3.448276   43.928600  \n",
       "3        17.241379   59.454767  \n",
       "4       100.000000   97.600000  "
      ]
     },
     "execution_count": 218,
     "metadata": {},
     "output_type": "execute_result"
    }
   ],
   "source": [
    "# Check changes\n",
    "df"
   ]
  },
  {
   "cell_type": "code",
   "execution_count": 219,
   "id": "893ffff6-acec-4ddb-86d0-9b4edfc0d03a",
   "metadata": {},
   "outputs": [
    {
     "data": {
      "text/html": [
       "<div>\n",
       "<style scoped>\n",
       "    .dataframe tbody tr th:only-of-type {\n",
       "        vertical-align: middle;\n",
       "    }\n",
       "\n",
       "    .dataframe tbody tr th {\n",
       "        vertical-align: top;\n",
       "    }\n",
       "\n",
       "    .dataframe thead th {\n",
       "        text-align: right;\n",
       "    }\n",
       "</style>\n",
       "<table border=\"1\" class=\"dataframe\">\n",
       "  <thead>\n",
       "    <tr style=\"text-align: right;\">\n",
       "      <th></th>\n",
       "      <th>city</th>\n",
       "      <th>state</th>\n",
       "      <th>landmark</th>\n",
       "      <th>latitude</th>\n",
       "      <th>longitude</th>\n",
       "      <th>type</th>\n",
       "      <th>visit_time_(hrs)</th>\n",
       "      <th>average_user_rating</th>\n",
       "      <th>reviews_photos</th>\n",
       "      <th>annual_visitors</th>\n",
       "      <th>rating_factor</th>\n",
       "      <th>reviews_factor</th>\n",
       "      <th>visitors_factor</th>\n",
       "      <th>popularity</th>\n",
       "    </tr>\n",
       "  </thead>\n",
       "  <tbody>\n",
       "    <tr>\n",
       "      <th>0</th>\n",
       "      <td>keystone</td>\n",
       "      <td>south_dakota</td>\n",
       "      <td>mount_rushmore</td>\n",
       "      <td>43.8791</td>\n",
       "      <td>-103.4591</td>\n",
       "      <td>historical_architectural</td>\n",
       "      <td>2</td>\n",
       "      <td>4.7</td>\n",
       "      <td>25000</td>\n",
       "      <td>2000000</td>\n",
       "      <td>94.0</td>\n",
       "      <td>29.411765</td>\n",
       "      <td>3.448276</td>\n",
       "      <td>47</td>\n",
       "    </tr>\n",
       "    <tr>\n",
       "      <th>1</th>\n",
       "      <td>new_york</td>\n",
       "      <td>new_york</td>\n",
       "      <td>statue_of_liberty</td>\n",
       "      <td>40.6892</td>\n",
       "      <td>-74.0445</td>\n",
       "      <td>historical_architectural</td>\n",
       "      <td>4</td>\n",
       "      <td>4.7</td>\n",
       "      <td>30000</td>\n",
       "      <td>4300000</td>\n",
       "      <td>94.0</td>\n",
       "      <td>35.294118</td>\n",
       "      <td>7.413793</td>\n",
       "      <td>50</td>\n",
       "    </tr>\n",
       "    <tr>\n",
       "      <th>2</th>\n",
       "      <td>st._louis</td>\n",
       "      <td>missouri</td>\n",
       "      <td>gateway_arch</td>\n",
       "      <td>38.6247</td>\n",
       "      <td>-90.1848</td>\n",
       "      <td>architectural</td>\n",
       "      <td>2</td>\n",
       "      <td>4.7</td>\n",
       "      <td>15000</td>\n",
       "      <td>2000000</td>\n",
       "      <td>94.0</td>\n",
       "      <td>17.647059</td>\n",
       "      <td>3.448276</td>\n",
       "      <td>44</td>\n",
       "    </tr>\n",
       "    <tr>\n",
       "      <th>3</th>\n",
       "      <td>san_francisco</td>\n",
       "      <td>california</td>\n",
       "      <td>golden_gate_bridge</td>\n",
       "      <td>37.8199</td>\n",
       "      <td>-122.4783</td>\n",
       "      <td>architectural</td>\n",
       "      <td>2</td>\n",
       "      <td>4.8</td>\n",
       "      <td>45000</td>\n",
       "      <td>10000000</td>\n",
       "      <td>96.0</td>\n",
       "      <td>52.941176</td>\n",
       "      <td>17.241379</td>\n",
       "      <td>59</td>\n",
       "    </tr>\n",
       "    <tr>\n",
       "      <th>4</th>\n",
       "      <td>orlando</td>\n",
       "      <td>florida</td>\n",
       "      <td>disney_world</td>\n",
       "      <td>28.3852</td>\n",
       "      <td>-81.5639</td>\n",
       "      <td>amusement_park</td>\n",
       "      <td>8</td>\n",
       "      <td>4.7</td>\n",
       "      <td>85000</td>\n",
       "      <td>58000000</td>\n",
       "      <td>94.0</td>\n",
       "      <td>100.000000</td>\n",
       "      <td>100.000000</td>\n",
       "      <td>98</td>\n",
       "    </tr>\n",
       "  </tbody>\n",
       "</table>\n",
       "</div>"
      ],
      "text/plain": [
       "            city         state            landmark  latitude  longitude  \\\n",
       "0       keystone  south_dakota      mount_rushmore   43.8791  -103.4591   \n",
       "1       new_york      new_york   statue_of_liberty   40.6892   -74.0445   \n",
       "2      st._louis      missouri        gateway_arch   38.6247   -90.1848   \n",
       "3  san_francisco    california  golden_gate_bridge   37.8199  -122.4783   \n",
       "4        orlando       florida        disney_world   28.3852   -81.5639   \n",
       "\n",
       "                       type  visit_time_(hrs)  average_user_rating  \\\n",
       "0  historical_architectural                 2                  4.7   \n",
       "1  historical_architectural                 4                  4.7   \n",
       "2             architectural                 2                  4.7   \n",
       "3             architectural                 2                  4.8   \n",
       "4            amusement_park                 8                  4.7   \n",
       "\n",
       "   reviews_photos  annual_visitors  rating_factor  reviews_factor  \\\n",
       "0           25000          2000000           94.0       29.411765   \n",
       "1           30000          4300000           94.0       35.294118   \n",
       "2           15000          2000000           94.0       17.647059   \n",
       "3           45000         10000000           96.0       52.941176   \n",
       "4           85000         58000000           94.0      100.000000   \n",
       "\n",
       "   visitors_factor  popularity  \n",
       "0         3.448276          47  \n",
       "1         7.413793          50  \n",
       "2         3.448276          44  \n",
       "3        17.241379          59  \n",
       "4       100.000000          98  "
      ]
     },
     "execution_count": 219,
     "metadata": {},
     "output_type": "execute_result"
    }
   ],
   "source": [
    "# Round the 'popularity' score up to a whole number and change the type to integer\n",
    "df['popularity'] = df['popularity'].round(0).astype(int)\n",
    "df"
   ]
  },
  {
   "cell_type": "markdown",
   "id": "ac09a41a-6c16-4cf7-8b4e-69bdc8880913",
   "metadata": {},
   "source": [
    "Prepare a clean dataset thats downloadable for the software engineers."
   ]
  },
  {
   "cell_type": "code",
   "execution_count": 221,
   "id": "db107e30-4de5-4971-9ab7-69583abdb5be",
   "metadata": {},
   "outputs": [],
   "source": [
    "landmarks = df.copy()"
   ]
  },
  {
   "cell_type": "code",
   "execution_count": 222,
   "id": "1948cd9b-0201-4b7a-ae62-60651e404348",
   "metadata": {},
   "outputs": [],
   "source": [
    "# Remove multiple columns\n",
    "landmarks = landmarks.drop(columns=['average_user_rating', 'reviews_photos', 'annual_visitors', 'rating_factor', 'reviews_factor', 'visitors_factor'])"
   ]
  },
  {
   "cell_type": "code",
   "execution_count": 223,
   "id": "e972ad0b-174e-4f45-9d5d-88661b98bfb8",
   "metadata": {},
   "outputs": [],
   "source": [
    "# Lower case the columns and fill whitespace with underscore\n",
    "landmarks.columns = landmarks.columns.str.replace('_', ' ')"
   ]
  },
  {
   "cell_type": "code",
   "execution_count": 224,
   "id": "0a8fdc79-77de-4fa9-9800-f8b643907499",
   "metadata": {},
   "outputs": [],
   "source": [
    "# Replace underscore with whitespace\n",
    "landmarks = landmarks.map(lambda x: x.replace('_', ' ') if isinstance(x, str) else x)"
   ]
  },
  {
   "cell_type": "code",
   "execution_count": 225,
   "id": "d93f4ea1-cc9f-49a7-b58c-044beeec8a4f",
   "metadata": {},
   "outputs": [
    {
     "data": {
      "text/html": [
       "<div>\n",
       "<style scoped>\n",
       "    .dataframe tbody tr th:only-of-type {\n",
       "        vertical-align: middle;\n",
       "    }\n",
       "\n",
       "    .dataframe tbody tr th {\n",
       "        vertical-align: top;\n",
       "    }\n",
       "\n",
       "    .dataframe thead th {\n",
       "        text-align: right;\n",
       "    }\n",
       "</style>\n",
       "<table border=\"1\" class=\"dataframe\">\n",
       "  <thead>\n",
       "    <tr style=\"text-align: right;\">\n",
       "      <th></th>\n",
       "      <th>city</th>\n",
       "      <th>state</th>\n",
       "      <th>landmark</th>\n",
       "      <th>latitude</th>\n",
       "      <th>longitude</th>\n",
       "      <th>type</th>\n",
       "      <th>visit time (hrs)</th>\n",
       "      <th>popularity</th>\n",
       "    </tr>\n",
       "  </thead>\n",
       "  <tbody>\n",
       "    <tr>\n",
       "      <th>0</th>\n",
       "      <td>keystone</td>\n",
       "      <td>south dakota</td>\n",
       "      <td>mount rushmore</td>\n",
       "      <td>43.8791</td>\n",
       "      <td>-103.4591</td>\n",
       "      <td>historical architectural</td>\n",
       "      <td>2</td>\n",
       "      <td>47</td>\n",
       "    </tr>\n",
       "    <tr>\n",
       "      <th>1</th>\n",
       "      <td>new york</td>\n",
       "      <td>new york</td>\n",
       "      <td>statue of liberty</td>\n",
       "      <td>40.6892</td>\n",
       "      <td>-74.0445</td>\n",
       "      <td>historical architectural</td>\n",
       "      <td>4</td>\n",
       "      <td>50</td>\n",
       "    </tr>\n",
       "    <tr>\n",
       "      <th>2</th>\n",
       "      <td>st. louis</td>\n",
       "      <td>missouri</td>\n",
       "      <td>gateway arch</td>\n",
       "      <td>38.6247</td>\n",
       "      <td>-90.1848</td>\n",
       "      <td>architectural</td>\n",
       "      <td>2</td>\n",
       "      <td>44</td>\n",
       "    </tr>\n",
       "    <tr>\n",
       "      <th>3</th>\n",
       "      <td>san francisco</td>\n",
       "      <td>california</td>\n",
       "      <td>golden gate bridge</td>\n",
       "      <td>37.8199</td>\n",
       "      <td>-122.4783</td>\n",
       "      <td>architectural</td>\n",
       "      <td>2</td>\n",
       "      <td>59</td>\n",
       "    </tr>\n",
       "    <tr>\n",
       "      <th>4</th>\n",
       "      <td>orlando</td>\n",
       "      <td>florida</td>\n",
       "      <td>disney world</td>\n",
       "      <td>28.3852</td>\n",
       "      <td>-81.5639</td>\n",
       "      <td>amusement park</td>\n",
       "      <td>8</td>\n",
       "      <td>98</td>\n",
       "    </tr>\n",
       "  </tbody>\n",
       "</table>\n",
       "</div>"
      ],
      "text/plain": [
       "            city         state            landmark  latitude  longitude  \\\n",
       "0       keystone  south dakota      mount rushmore   43.8791  -103.4591   \n",
       "1       new york      new york   statue of liberty   40.6892   -74.0445   \n",
       "2      st. louis      missouri        gateway arch   38.6247   -90.1848   \n",
       "3  san francisco    california  golden gate bridge   37.8199  -122.4783   \n",
       "4        orlando       florida        disney world   28.3852   -81.5639   \n",
       "\n",
       "                       type  visit time (hrs)  popularity  \n",
       "0  historical architectural                 2          47  \n",
       "1  historical architectural                 4          50  \n",
       "2             architectural                 2          44  \n",
       "3             architectural                 2          59  \n",
       "4            amusement park                 8          98  "
      ]
     },
     "execution_count": 225,
     "metadata": {},
     "output_type": "execute_result"
    }
   ],
   "source": [
    "landmarks"
   ]
  },
  {
   "cell_type": "code",
   "execution_count": 226,
   "id": "54946cb0-654f-421e-9478-6c70c17a741b",
   "metadata": {},
   "outputs": [
    {
     "data": {
      "text/html": [
       "<a href='landmarks.csv' target='_blank'>landmarks.csv</a><br>"
      ],
      "text/plain": [
       "/Users/sabrinamcfield/Desktop/DSprojects/butterfly-brigade/data_science/landmarks.csv"
      ]
     },
     "metadata": {},
     "output_type": "display_data"
    }
   ],
   "source": [
    "# Save to CSV\n",
    "landmarks.to_csv('landmarks.csv', index=False)\n",
    "\n",
    "# Display download link\n",
    "display(FileLink('landmarks.csv'))"
   ]
  },
  {
   "cell_type": "markdown",
   "id": "8ebcedf0-90ce-4af8-ac33-29b74d540cdc",
   "metadata": {},
   "source": [
    "### 1.2 Filtering by Preferences"
   ]
  },
  {
   "cell_type": "markdown",
   "id": "9d99b7cd-6a6e-4b45-9876-ecc636b0001f",
   "metadata": {},
   "source": [
    "This function allows the user to pass any combination of filters — if they skip one, it simply won’t be applied."
   ]
  },
  {
   "cell_type": "code",
   "execution_count": 358,
   "id": "0178ef99-6aaa-45cb-8955-003c827f292c",
   "metadata": {},
   "outputs": [],
   "source": [
    "def filter_landmarks(df, landmark_type=None, min_popularity=None, max_visit_time=None):\n",
    "    \"\"\"\n",
    "    Filters the landmarks DataFrame based on any combination of:\n",
    "    - landmark_type (exact match, case-insensitive)\n",
    "    - minimum popularity score\n",
    "    - maximum visit time in hours\n",
    "    \n",
    "    Users can pass one, two, or all three filters. If a filter is not provided, it will be ignored.\n",
    "    \n",
    "    Parameters:\n",
    "        df (DataFrame): The landmarks DataFrame.\n",
    "        landmark_type (str, optional): Type of landmark to filter by.\n",
    "        min_popularity (float, optional): Minimum popularity score.\n",
    "        max_visit_time (float, optional): Maximum visit time in hours.\n",
    "    \n",
    "    Returns:\n",
    "        DataFrame: The filtered DataFrame.\n",
    "    \"\"\"\n",
    "    filtered_df = landmarks.copy()\n",
    "    \n",
    "    if landmark_type:\n",
    "        filtered_df = filtered_df[filtered_df['type'].str.lower() == landmark_type.lower()]\n",
    "    \n",
    "    if min_popularity is not None:\n",
    "        filtered_df = filtered_df[filtered_df['popularity'] >= min_popularity]\n",
    "    \n",
    "    if max_visit_time is not None:\n",
    "        filtered_df = filtered_df[filtered_df['visit time (hrs)'] <= max_visit_time]\n",
    "    \n",
    "    return filtered_df.reset_index(drop=True)"
   ]
  },
  {
   "cell_type": "markdown",
   "id": "a4603e71-e595-49d3-ac39-1ee0c7c6991d",
   "metadata": {},
   "source": [
    "### 1.2.1 Examples"
   ]
  },
  {
   "cell_type": "code",
   "execution_count": 361,
   "id": "de322b34-ffb2-46e5-b53d-e626eed7cc81",
   "metadata": {},
   "outputs": [
    {
     "data": {
      "text/html": [
       "<div>\n",
       "<style scoped>\n",
       "    .dataframe tbody tr th:only-of-type {\n",
       "        vertical-align: middle;\n",
       "    }\n",
       "\n",
       "    .dataframe tbody tr th {\n",
       "        vertical-align: top;\n",
       "    }\n",
       "\n",
       "    .dataframe thead th {\n",
       "        text-align: right;\n",
       "    }\n",
       "</style>\n",
       "<table border=\"1\" class=\"dataframe\">\n",
       "  <thead>\n",
       "    <tr style=\"text-align: right;\">\n",
       "      <th></th>\n",
       "      <th>city</th>\n",
       "      <th>state</th>\n",
       "      <th>landmark</th>\n",
       "      <th>latitude</th>\n",
       "      <th>longitude</th>\n",
       "      <th>type</th>\n",
       "      <th>visit time (hrs)</th>\n",
       "      <th>popularity</th>\n",
       "    </tr>\n",
       "  </thead>\n",
       "  <tbody>\n",
       "    <tr>\n",
       "      <th>0</th>\n",
       "      <td>st. louis</td>\n",
       "      <td>missouri</td>\n",
       "      <td>gateway arch</td>\n",
       "      <td>38.6247</td>\n",
       "      <td>-90.1848</td>\n",
       "      <td>architectural</td>\n",
       "      <td>2</td>\n",
       "      <td>44</td>\n",
       "    </tr>\n",
       "    <tr>\n",
       "      <th>1</th>\n",
       "      <td>san francisco</td>\n",
       "      <td>california</td>\n",
       "      <td>golden gate bridge</td>\n",
       "      <td>37.8199</td>\n",
       "      <td>-122.4783</td>\n",
       "      <td>architectural</td>\n",
       "      <td>2</td>\n",
       "      <td>59</td>\n",
       "    </tr>\n",
       "  </tbody>\n",
       "</table>\n",
       "</div>"
      ],
      "text/plain": [
       "            city       state            landmark  latitude  longitude  \\\n",
       "0      st. louis    missouri        gateway arch   38.6247   -90.1848   \n",
       "1  san francisco  california  golden gate bridge   37.8199  -122.4783   \n",
       "\n",
       "            type  visit time (hrs)  popularity  \n",
       "0  architectural                 2          44  \n",
       "1  architectural                 2          59  "
      ]
     },
     "execution_count": 361,
     "metadata": {},
     "output_type": "execute_result"
    }
   ],
   "source": [
    "# Filter by type only\n",
    "filter_landmarks(landmarks, landmark_type='architectural')"
   ]
  },
  {
   "cell_type": "code",
   "execution_count": 363,
   "id": "359dd8cf-1191-4554-83e9-775d0b4f38db",
   "metadata": {},
   "outputs": [
    {
     "data": {
      "text/html": [
       "<div>\n",
       "<style scoped>\n",
       "    .dataframe tbody tr th:only-of-type {\n",
       "        vertical-align: middle;\n",
       "    }\n",
       "\n",
       "    .dataframe tbody tr th {\n",
       "        vertical-align: top;\n",
       "    }\n",
       "\n",
       "    .dataframe thead th {\n",
       "        text-align: right;\n",
       "    }\n",
       "</style>\n",
       "<table border=\"1\" class=\"dataframe\">\n",
       "  <thead>\n",
       "    <tr style=\"text-align: right;\">\n",
       "      <th></th>\n",
       "      <th>city</th>\n",
       "      <th>state</th>\n",
       "      <th>landmark</th>\n",
       "      <th>latitude</th>\n",
       "      <th>longitude</th>\n",
       "      <th>type</th>\n",
       "      <th>visit time (hrs)</th>\n",
       "      <th>popularity</th>\n",
       "    </tr>\n",
       "  </thead>\n",
       "  <tbody>\n",
       "    <tr>\n",
       "      <th>0</th>\n",
       "      <td>orlando</td>\n",
       "      <td>florida</td>\n",
       "      <td>disney world</td>\n",
       "      <td>28.3852</td>\n",
       "      <td>-81.5639</td>\n",
       "      <td>amusement park</td>\n",
       "      <td>8</td>\n",
       "      <td>98</td>\n",
       "    </tr>\n",
       "  </tbody>\n",
       "</table>\n",
       "</div>"
      ],
      "text/plain": [
       "      city    state      landmark  latitude  longitude            type  \\\n",
       "0  orlando  florida  disney world   28.3852   -81.5639  amusement park   \n",
       "\n",
       "   visit time (hrs)  popularity  \n",
       "0                 8          98  "
      ]
     },
     "execution_count": 363,
     "metadata": {},
     "output_type": "execute_result"
    }
   ],
   "source": [
    "# Filter by popularity only\n",
    "filter_landmarks(landmarks, min_popularity=70)"
   ]
  },
  {
   "cell_type": "code",
   "execution_count": 365,
   "id": "0bcac6d9-951e-48c2-a177-0bc524115feb",
   "metadata": {},
   "outputs": [
    {
     "data": {
      "text/html": [
       "<div>\n",
       "<style scoped>\n",
       "    .dataframe tbody tr th:only-of-type {\n",
       "        vertical-align: middle;\n",
       "    }\n",
       "\n",
       "    .dataframe tbody tr th {\n",
       "        vertical-align: top;\n",
       "    }\n",
       "\n",
       "    .dataframe thead th {\n",
       "        text-align: right;\n",
       "    }\n",
       "</style>\n",
       "<table border=\"1\" class=\"dataframe\">\n",
       "  <thead>\n",
       "    <tr style=\"text-align: right;\">\n",
       "      <th></th>\n",
       "      <th>city</th>\n",
       "      <th>state</th>\n",
       "      <th>landmark</th>\n",
       "      <th>latitude</th>\n",
       "      <th>longitude</th>\n",
       "      <th>type</th>\n",
       "      <th>visit time (hrs)</th>\n",
       "      <th>popularity</th>\n",
       "    </tr>\n",
       "  </thead>\n",
       "  <tbody>\n",
       "    <tr>\n",
       "      <th>0</th>\n",
       "      <td>keystone</td>\n",
       "      <td>south dakota</td>\n",
       "      <td>mount rushmore</td>\n",
       "      <td>43.8791</td>\n",
       "      <td>-103.4591</td>\n",
       "      <td>historical architectural</td>\n",
       "      <td>2</td>\n",
       "      <td>47</td>\n",
       "    </tr>\n",
       "    <tr>\n",
       "      <th>1</th>\n",
       "      <td>st. louis</td>\n",
       "      <td>missouri</td>\n",
       "      <td>gateway arch</td>\n",
       "      <td>38.6247</td>\n",
       "      <td>-90.1848</td>\n",
       "      <td>architectural</td>\n",
       "      <td>2</td>\n",
       "      <td>44</td>\n",
       "    </tr>\n",
       "    <tr>\n",
       "      <th>2</th>\n",
       "      <td>san francisco</td>\n",
       "      <td>california</td>\n",
       "      <td>golden gate bridge</td>\n",
       "      <td>37.8199</td>\n",
       "      <td>-122.4783</td>\n",
       "      <td>architectural</td>\n",
       "      <td>2</td>\n",
       "      <td>59</td>\n",
       "    </tr>\n",
       "  </tbody>\n",
       "</table>\n",
       "</div>"
      ],
      "text/plain": [
       "            city         state            landmark  latitude  longitude  \\\n",
       "0       keystone  south dakota      mount rushmore   43.8791  -103.4591   \n",
       "1      st. louis      missouri        gateway arch   38.6247   -90.1848   \n",
       "2  san francisco    california  golden gate bridge   37.8199  -122.4783   \n",
       "\n",
       "                       type  visit time (hrs)  popularity  \n",
       "0  historical architectural                 2          47  \n",
       "1             architectural                 2          44  \n",
       "2             architectural                 2          59  "
      ]
     },
     "execution_count": 365,
     "metadata": {},
     "output_type": "execute_result"
    }
   ],
   "source": [
    "# Filter by visit time only\n",
    "filter_landmarks(landmarks, max_visit_time=3)"
   ]
  },
  {
   "cell_type": "code",
   "execution_count": 373,
   "id": "f1819557-1dcf-49e9-b565-ad109303cd78",
   "metadata": {},
   "outputs": [
    {
     "data": {
      "text/html": [
       "<div>\n",
       "<style scoped>\n",
       "    .dataframe tbody tr th:only-of-type {\n",
       "        vertical-align: middle;\n",
       "    }\n",
       "\n",
       "    .dataframe tbody tr th {\n",
       "        vertical-align: top;\n",
       "    }\n",
       "\n",
       "    .dataframe thead th {\n",
       "        text-align: right;\n",
       "    }\n",
       "</style>\n",
       "<table border=\"1\" class=\"dataframe\">\n",
       "  <thead>\n",
       "    <tr style=\"text-align: right;\">\n",
       "      <th></th>\n",
       "      <th>city</th>\n",
       "      <th>state</th>\n",
       "      <th>landmark</th>\n",
       "      <th>latitude</th>\n",
       "      <th>longitude</th>\n",
       "      <th>type</th>\n",
       "      <th>visit time (hrs)</th>\n",
       "      <th>popularity</th>\n",
       "    </tr>\n",
       "  </thead>\n",
       "  <tbody>\n",
       "    <tr>\n",
       "      <th>0</th>\n",
       "      <td>st. louis</td>\n",
       "      <td>missouri</td>\n",
       "      <td>gateway arch</td>\n",
       "      <td>38.6247</td>\n",
       "      <td>-90.1848</td>\n",
       "      <td>architectural</td>\n",
       "      <td>2</td>\n",
       "      <td>44</td>\n",
       "    </tr>\n",
       "    <tr>\n",
       "      <th>1</th>\n",
       "      <td>san francisco</td>\n",
       "      <td>california</td>\n",
       "      <td>golden gate bridge</td>\n",
       "      <td>37.8199</td>\n",
       "      <td>-122.4783</td>\n",
       "      <td>architectural</td>\n",
       "      <td>2</td>\n",
       "      <td>59</td>\n",
       "    </tr>\n",
       "  </tbody>\n",
       "</table>\n",
       "</div>"
      ],
      "text/plain": [
       "            city       state            landmark  latitude  longitude  \\\n",
       "0      st. louis    missouri        gateway arch   38.6247   -90.1848   \n",
       "1  san francisco  california  golden gate bridge   37.8199  -122.4783   \n",
       "\n",
       "            type  visit time (hrs)  popularity  \n",
       "0  architectural                 2          44  \n",
       "1  architectural                 2          59  "
      ]
     },
     "execution_count": 373,
     "metadata": {},
     "output_type": "execute_result"
    }
   ],
   "source": [
    "# Filter by type and popularity\n",
    "filter_landmarks(landmarks, landmark_type='architectural', min_popularity=40)"
   ]
  },
  {
   "cell_type": "code",
   "execution_count": 377,
   "id": "d67ce550-b6d9-450e-b41e-50a83aa2a816",
   "metadata": {},
   "outputs": [
    {
     "data": {
      "text/html": [
       "<div>\n",
       "<style scoped>\n",
       "    .dataframe tbody tr th:only-of-type {\n",
       "        vertical-align: middle;\n",
       "    }\n",
       "\n",
       "    .dataframe tbody tr th {\n",
       "        vertical-align: top;\n",
       "    }\n",
       "\n",
       "    .dataframe thead th {\n",
       "        text-align: right;\n",
       "    }\n",
       "</style>\n",
       "<table border=\"1\" class=\"dataframe\">\n",
       "  <thead>\n",
       "    <tr style=\"text-align: right;\">\n",
       "      <th></th>\n",
       "      <th>city</th>\n",
       "      <th>state</th>\n",
       "      <th>landmark</th>\n",
       "      <th>latitude</th>\n",
       "      <th>longitude</th>\n",
       "      <th>type</th>\n",
       "      <th>visit time (hrs)</th>\n",
       "      <th>popularity</th>\n",
       "    </tr>\n",
       "  </thead>\n",
       "  <tbody>\n",
       "    <tr>\n",
       "      <th>0</th>\n",
       "      <td>orlando</td>\n",
       "      <td>florida</td>\n",
       "      <td>disney world</td>\n",
       "      <td>28.3852</td>\n",
       "      <td>-81.5639</td>\n",
       "      <td>amusement park</td>\n",
       "      <td>8</td>\n",
       "      <td>98</td>\n",
       "    </tr>\n",
       "  </tbody>\n",
       "</table>\n",
       "</div>"
      ],
      "text/plain": [
       "      city    state      landmark  latitude  longitude            type  \\\n",
       "0  orlando  florida  disney world   28.3852   -81.5639  amusement park   \n",
       "\n",
       "   visit time (hrs)  popularity  \n",
       "0                 8          98  "
      ]
     },
     "execution_count": 377,
     "metadata": {},
     "output_type": "execute_result"
    }
   ],
   "source": [
    "# Filter by all three\n",
    "filter_landmarks(landmarks, landmark_type='amusement park', min_popularity=80, max_visit_time=8)"
   ]
  },
  {
   "cell_type": "markdown",
   "id": "7fdc5cf8-6fe3-47b3-8321-eec8269b5a91",
   "metadata": {},
   "source": [
    "### 1.2 Exploratory Data Analysis Visualizations"
   ]
  },
  {
   "cell_type": "markdown",
   "id": "6757fa7e-15f6-4afe-8f8b-d99d2cd8a132",
   "metadata": {},
   "source": [
    "The \"Top 5 Popular Landmarks\" visualization highlights the landmarks in order of popularity. The Disney World Amusement Park is the obvious winner in popularity, with the Golden Gate Bridge coming in second. The Gateway Arch is the least popular among the five destinations. The \"Map Route For Visiting Popular Most Destinations in Order\" helps visualize the route based on popularity in descending order. The \"Visit Time vs. Popularity\" plot helps visualize the route based on popularity, in descending order."
   ]
  },
  {
   "cell_type": "markdown",
   "id": "c381cd20-bf6d-4032-b440-5df93d95b992",
   "metadata": {},
   "source": [
    "**1.2.1 Top 5 Popular Landmarks**\n",
    "\n",
    "The “Top 5 Popular Landmarks” bar chart ranks the selected landmarks by their calculated popularity score. This visualization makes it easy to compare how each destination stands in relation to the others based on visitor interest and engagement. Disney World Amusement Park ranks as the most popular landmark by a significant margin, followed by the Golden Gate Bridge. The Gateway Arch ranks lowest among the five, indicating it may attract fewer visitors or generate less engagement online. This chart provides a straightforward way to assess which landmarks are likely to be the biggest attractions for travelers."
   ]
  },
  {
   "cell_type": "code",
   "execution_count": 230,
   "id": "79a76f3e-67d9-4251-96d0-fc090b89d540",
   "metadata": {},
   "outputs": [
    {
     "data": {
      "application/vnd.plotly.v1+json": {
       "config": {
        "plotlyServerURL": "https://plot.ly"
       },
       "data": [
        {
         "customdata": [
          [
           "orlando",
           "florida",
           8
          ],
          [
           "san_francisco",
           "california",
           2
          ],
          [
           "new_york",
           "new_york",
           4
          ],
          [
           "keystone",
           "south_dakota",
           2
          ],
          [
           "st._louis",
           "missouri",
           2
          ]
         ],
         "hovertemplate": "landmark=%{x}<br>popularity=%{marker.color}<br>city=%{customdata[0]}<br>state=%{customdata[1]}<br>visit_time_(hrs)=%{customdata[2]}<extra></extra>",
         "legendgroup": "",
         "marker": {
          "color": {
           "_inputArray": {
            "0": 98,
            "1": 59,
            "2": 50,
            "3": 47,
            "4": 44,
            "bdata": "YjsyLyw=",
            "dtype": "i1",
            "shape": "5"
           },
           "bdata": "YjsyLyw=",
           "dtype": "i1"
          },
          "coloraxis": "coloraxis",
          "pattern": {
           "shape": ""
          }
         },
         "name": "",
         "orientation": "v",
         "showlegend": false,
         "text": {
          "_inputArray": {
           "0": 98,
           "1": 59,
           "2": 50,
           "3": 47,
           "4": 44,
           "bdata": "AAAAAACAWEAAAAAAAIBNQAAAAAAAAElAAAAAAACAR0AAAAAAAABGQA==",
           "dtype": "f8",
           "shape": "5"
          },
          "bdata": "AAAAAACAWEAAAAAAAIBNQAAAAAAAAElAAAAAAACAR0AAAAAAAABGQA==",
          "dtype": "f8"
         },
         "textposition": "auto",
         "type": "bar",
         "x": [
          "disney_world",
          "golden_gate_bridge",
          "statue_of_liberty",
          "mount_rushmore",
          "gateway_arch"
         ],
         "xaxis": "x",
         "y": {
          "_inputArray": {
           "0": 98,
           "1": 59,
           "2": 50,
           "3": 47,
           "4": 44,
           "bdata": "YjsyLyw=",
           "dtype": "i1",
           "shape": "5"
          },
          "bdata": "YjsyLyw=",
          "dtype": "i1"
         },
         "yaxis": "y"
        }
       ],
       "layout": {
        "autosize": true,
        "barmode": "relative",
        "coloraxis": {
         "colorbar": {
          "title": {
           "text": "popularity"
          }
         },
         "colorscale": [
          [
           0,
           "#0d0887"
          ],
          [
           0.1111111111111111,
           "#46039f"
          ],
          [
           0.2222222222222222,
           "#7201a8"
          ],
          [
           0.3333333333333333,
           "#9c179e"
          ],
          [
           0.4444444444444444,
           "#bd3786"
          ],
          [
           0.5555555555555556,
           "#d8576b"
          ],
          [
           0.6666666666666666,
           "#ed7953"
          ],
          [
           0.7777777777777778,
           "#fb9f3a"
          ],
          [
           0.8888888888888888,
           "#fdca26"
          ],
          [
           1,
           "#f0f921"
          ]
         ]
        },
        "legend": {
         "tracegroupgap": 0
        },
        "template": {
         "data": {
          "bar": [
           {
            "error_x": {
             "color": "#2a3f5f"
            },
            "error_y": {
             "color": "#2a3f5f"
            },
            "marker": {
             "line": {
              "color": "#E5ECF6",
              "width": 0.5
             },
             "pattern": {
              "fillmode": "overlay",
              "size": 10,
              "solidity": 0.2
             }
            },
            "type": "bar"
           }
          ],
          "barpolar": [
           {
            "marker": {
             "line": {
              "color": "#E5ECF6",
              "width": 0.5
             },
             "pattern": {
              "fillmode": "overlay",
              "size": 10,
              "solidity": 0.2
             }
            },
            "type": "barpolar"
           }
          ],
          "carpet": [
           {
            "aaxis": {
             "endlinecolor": "#2a3f5f",
             "gridcolor": "white",
             "linecolor": "white",
             "minorgridcolor": "white",
             "startlinecolor": "#2a3f5f"
            },
            "baxis": {
             "endlinecolor": "#2a3f5f",
             "gridcolor": "white",
             "linecolor": "white",
             "minorgridcolor": "white",
             "startlinecolor": "#2a3f5f"
            },
            "type": "carpet"
           }
          ],
          "choropleth": [
           {
            "colorbar": {
             "outlinewidth": 0,
             "ticks": ""
            },
            "type": "choropleth"
           }
          ],
          "contour": [
           {
            "colorbar": {
             "outlinewidth": 0,
             "ticks": ""
            },
            "colorscale": [
             [
              0,
              "#0d0887"
             ],
             [
              0.1111111111111111,
              "#46039f"
             ],
             [
              0.2222222222222222,
              "#7201a8"
             ],
             [
              0.3333333333333333,
              "#9c179e"
             ],
             [
              0.4444444444444444,
              "#bd3786"
             ],
             [
              0.5555555555555556,
              "#d8576b"
             ],
             [
              0.6666666666666666,
              "#ed7953"
             ],
             [
              0.7777777777777778,
              "#fb9f3a"
             ],
             [
              0.8888888888888888,
              "#fdca26"
             ],
             [
              1,
              "#f0f921"
             ]
            ],
            "type": "contour"
           }
          ],
          "contourcarpet": [
           {
            "colorbar": {
             "outlinewidth": 0,
             "ticks": ""
            },
            "type": "contourcarpet"
           }
          ],
          "heatmap": [
           {
            "colorbar": {
             "outlinewidth": 0,
             "ticks": ""
            },
            "colorscale": [
             [
              0,
              "#0d0887"
             ],
             [
              0.1111111111111111,
              "#46039f"
             ],
             [
              0.2222222222222222,
              "#7201a8"
             ],
             [
              0.3333333333333333,
              "#9c179e"
             ],
             [
              0.4444444444444444,
              "#bd3786"
             ],
             [
              0.5555555555555556,
              "#d8576b"
             ],
             [
              0.6666666666666666,
              "#ed7953"
             ],
             [
              0.7777777777777778,
              "#fb9f3a"
             ],
             [
              0.8888888888888888,
              "#fdca26"
             ],
             [
              1,
              "#f0f921"
             ]
            ],
            "type": "heatmap"
           }
          ],
          "histogram": [
           {
            "marker": {
             "pattern": {
              "fillmode": "overlay",
              "size": 10,
              "solidity": 0.2
             }
            },
            "type": "histogram"
           }
          ],
          "histogram2d": [
           {
            "colorbar": {
             "outlinewidth": 0,
             "ticks": ""
            },
            "colorscale": [
             [
              0,
              "#0d0887"
             ],
             [
              0.1111111111111111,
              "#46039f"
             ],
             [
              0.2222222222222222,
              "#7201a8"
             ],
             [
              0.3333333333333333,
              "#9c179e"
             ],
             [
              0.4444444444444444,
              "#bd3786"
             ],
             [
              0.5555555555555556,
              "#d8576b"
             ],
             [
              0.6666666666666666,
              "#ed7953"
             ],
             [
              0.7777777777777778,
              "#fb9f3a"
             ],
             [
              0.8888888888888888,
              "#fdca26"
             ],
             [
              1,
              "#f0f921"
             ]
            ],
            "type": "histogram2d"
           }
          ],
          "histogram2dcontour": [
           {
            "colorbar": {
             "outlinewidth": 0,
             "ticks": ""
            },
            "colorscale": [
             [
              0,
              "#0d0887"
             ],
             [
              0.1111111111111111,
              "#46039f"
             ],
             [
              0.2222222222222222,
              "#7201a8"
             ],
             [
              0.3333333333333333,
              "#9c179e"
             ],
             [
              0.4444444444444444,
              "#bd3786"
             ],
             [
              0.5555555555555556,
              "#d8576b"
             ],
             [
              0.6666666666666666,
              "#ed7953"
             ],
             [
              0.7777777777777778,
              "#fb9f3a"
             ],
             [
              0.8888888888888888,
              "#fdca26"
             ],
             [
              1,
              "#f0f921"
             ]
            ],
            "type": "histogram2dcontour"
           }
          ],
          "mesh3d": [
           {
            "colorbar": {
             "outlinewidth": 0,
             "ticks": ""
            },
            "type": "mesh3d"
           }
          ],
          "parcoords": [
           {
            "line": {
             "colorbar": {
              "outlinewidth": 0,
              "ticks": ""
             }
            },
            "type": "parcoords"
           }
          ],
          "pie": [
           {
            "automargin": true,
            "type": "pie"
           }
          ],
          "scatter": [
           {
            "fillpattern": {
             "fillmode": "overlay",
             "size": 10,
             "solidity": 0.2
            },
            "type": "scatter"
           }
          ],
          "scatter3d": [
           {
            "line": {
             "colorbar": {
              "outlinewidth": 0,
              "ticks": ""
             }
            },
            "marker": {
             "colorbar": {
              "outlinewidth": 0,
              "ticks": ""
             }
            },
            "type": "scatter3d"
           }
          ],
          "scattercarpet": [
           {
            "marker": {
             "colorbar": {
              "outlinewidth": 0,
              "ticks": ""
             }
            },
            "type": "scattercarpet"
           }
          ],
          "scattergeo": [
           {
            "marker": {
             "colorbar": {
              "outlinewidth": 0,
              "ticks": ""
             }
            },
            "type": "scattergeo"
           }
          ],
          "scattergl": [
           {
            "marker": {
             "colorbar": {
              "outlinewidth": 0,
              "ticks": ""
             }
            },
            "type": "scattergl"
           }
          ],
          "scattermap": [
           {
            "marker": {
             "colorbar": {
              "outlinewidth": 0,
              "ticks": ""
             }
            },
            "type": "scattermap"
           }
          ],
          "scattermapbox": [
           {
            "marker": {
             "colorbar": {
              "outlinewidth": 0,
              "ticks": ""
             }
            },
            "type": "scattermapbox"
           }
          ],
          "scatterpolar": [
           {
            "marker": {
             "colorbar": {
              "outlinewidth": 0,
              "ticks": ""
             }
            },
            "type": "scatterpolar"
           }
          ],
          "scatterpolargl": [
           {
            "marker": {
             "colorbar": {
              "outlinewidth": 0,
              "ticks": ""
             }
            },
            "type": "scatterpolargl"
           }
          ],
          "scatterternary": [
           {
            "marker": {
             "colorbar": {
              "outlinewidth": 0,
              "ticks": ""
             }
            },
            "type": "scatterternary"
           }
          ],
          "surface": [
           {
            "colorbar": {
             "outlinewidth": 0,
             "ticks": ""
            },
            "colorscale": [
             [
              0,
              "#0d0887"
             ],
             [
              0.1111111111111111,
              "#46039f"
             ],
             [
              0.2222222222222222,
              "#7201a8"
             ],
             [
              0.3333333333333333,
              "#9c179e"
             ],
             [
              0.4444444444444444,
              "#bd3786"
             ],
             [
              0.5555555555555556,
              "#d8576b"
             ],
             [
              0.6666666666666666,
              "#ed7953"
             ],
             [
              0.7777777777777778,
              "#fb9f3a"
             ],
             [
              0.8888888888888888,
              "#fdca26"
             ],
             [
              1,
              "#f0f921"
             ]
            ],
            "type": "surface"
           }
          ],
          "table": [
           {
            "cells": {
             "fill": {
              "color": "#EBF0F8"
             },
             "line": {
              "color": "white"
             }
            },
            "header": {
             "fill": {
              "color": "#C8D4E3"
             },
             "line": {
              "color": "white"
             }
            },
            "type": "table"
           }
          ]
         },
         "layout": {
          "annotationdefaults": {
           "arrowcolor": "#2a3f5f",
           "arrowhead": 0,
           "arrowwidth": 1
          },
          "autotypenumbers": "strict",
          "coloraxis": {
           "colorbar": {
            "outlinewidth": 0,
            "ticks": ""
           }
          },
          "colorscale": {
           "diverging": [
            [
             0,
             "#8e0152"
            ],
            [
             0.1,
             "#c51b7d"
            ],
            [
             0.2,
             "#de77ae"
            ],
            [
             0.3,
             "#f1b6da"
            ],
            [
             0.4,
             "#fde0ef"
            ],
            [
             0.5,
             "#f7f7f7"
            ],
            [
             0.6,
             "#e6f5d0"
            ],
            [
             0.7,
             "#b8e186"
            ],
            [
             0.8,
             "#7fbc41"
            ],
            [
             0.9,
             "#4d9221"
            ],
            [
             1,
             "#276419"
            ]
           ],
           "sequential": [
            [
             0,
             "#0d0887"
            ],
            [
             0.1111111111111111,
             "#46039f"
            ],
            [
             0.2222222222222222,
             "#7201a8"
            ],
            [
             0.3333333333333333,
             "#9c179e"
            ],
            [
             0.4444444444444444,
             "#bd3786"
            ],
            [
             0.5555555555555556,
             "#d8576b"
            ],
            [
             0.6666666666666666,
             "#ed7953"
            ],
            [
             0.7777777777777778,
             "#fb9f3a"
            ],
            [
             0.8888888888888888,
             "#fdca26"
            ],
            [
             1,
             "#f0f921"
            ]
           ],
           "sequentialminus": [
            [
             0,
             "#0d0887"
            ],
            [
             0.1111111111111111,
             "#46039f"
            ],
            [
             0.2222222222222222,
             "#7201a8"
            ],
            [
             0.3333333333333333,
             "#9c179e"
            ],
            [
             0.4444444444444444,
             "#bd3786"
            ],
            [
             0.5555555555555556,
             "#d8576b"
            ],
            [
             0.6666666666666666,
             "#ed7953"
            ],
            [
             0.7777777777777778,
             "#fb9f3a"
            ],
            [
             0.8888888888888888,
             "#fdca26"
            ],
            [
             1,
             "#f0f921"
            ]
           ]
          },
          "colorway": [
           "#636efa",
           "#EF553B",
           "#00cc96",
           "#ab63fa",
           "#FFA15A",
           "#19d3f3",
           "#FF6692",
           "#B6E880",
           "#FF97FF",
           "#FECB52"
          ],
          "font": {
           "color": "#2a3f5f"
          },
          "geo": {
           "bgcolor": "white",
           "lakecolor": "white",
           "landcolor": "#E5ECF6",
           "showlakes": true,
           "showland": true,
           "subunitcolor": "white"
          },
          "hoverlabel": {
           "align": "left"
          },
          "hovermode": "closest",
          "mapbox": {
           "style": "light"
          },
          "paper_bgcolor": "white",
          "plot_bgcolor": "#E5ECF6",
          "polar": {
           "angularaxis": {
            "gridcolor": "white",
            "linecolor": "white",
            "ticks": ""
           },
           "bgcolor": "#E5ECF6",
           "radialaxis": {
            "gridcolor": "white",
            "linecolor": "white",
            "ticks": ""
           }
          },
          "scene": {
           "xaxis": {
            "backgroundcolor": "#E5ECF6",
            "gridcolor": "white",
            "gridwidth": 2,
            "linecolor": "white",
            "showbackground": true,
            "ticks": "",
            "zerolinecolor": "white"
           },
           "yaxis": {
            "backgroundcolor": "#E5ECF6",
            "gridcolor": "white",
            "gridwidth": 2,
            "linecolor": "white",
            "showbackground": true,
            "ticks": "",
            "zerolinecolor": "white"
           },
           "zaxis": {
            "backgroundcolor": "#E5ECF6",
            "gridcolor": "white",
            "gridwidth": 2,
            "linecolor": "white",
            "showbackground": true,
            "ticks": "",
            "zerolinecolor": "white"
           }
          },
          "shapedefaults": {
           "line": {
            "color": "#2a3f5f"
           }
          },
          "ternary": {
           "aaxis": {
            "gridcolor": "white",
            "linecolor": "white",
            "ticks": ""
           },
           "baxis": {
            "gridcolor": "white",
            "linecolor": "white",
            "ticks": ""
           },
           "bgcolor": "#E5ECF6",
           "caxis": {
            "gridcolor": "white",
            "linecolor": "white",
            "ticks": ""
           }
          },
          "title": {
           "x": 0.05
          },
          "xaxis": {
           "automargin": true,
           "gridcolor": "white",
           "linecolor": "white",
           "ticks": "",
           "title": {
            "standoff": 15
           },
           "zerolinecolor": "white",
           "zerolinewidth": 2
          },
          "yaxis": {
           "automargin": true,
           "gridcolor": "white",
           "linecolor": "white",
           "ticks": "",
           "title": {
            "standoff": 15
           },
           "zerolinecolor": "white",
           "zerolinewidth": 2
          }
         }
        },
        "title": {
         "text": "Top 5 Most Popular Landmarks (Score)"
        },
        "xaxis": {
         "anchor": "y",
         "autorange": true,
         "domain": [
          0,
          1
         ],
         "range": [
          -0.5,
          4.5
         ],
         "tickangle": -45,
         "title": {
          "text": "landmark"
         },
         "type": "category"
        },
        "yaxis": {
         "anchor": "x",
         "autorange": true,
         "domain": [
          0,
          1
         ],
         "range": [
          0,
          103.15789473684211
         ],
         "title": {
          "text": "popularity"
         },
         "type": "linear"
        }
       }
      }
     },
     "metadata": {},
     "output_type": "display_data"
    }
   ],
   "source": [
    "# Get the top 5 landmarks based on popularity score\n",
    "top10 = df.sort_values(by='popularity', ascending=False).head(10)\n",
    "\n",
    "# Create a bar chart\n",
    "fig = px.bar(\n",
    "    top10,\n",
    "    x='landmark', # landmark names on x-axis\n",
    "    y='popularity', # popularity score on y-axis\n",
    "    color='popularity', # color code based on the score\n",
    "    title='Top 5 Most Popular Landmarks (Score)',\n",
    "    hover_data=['city', 'state', 'visit_time_(hrs)'], # show details on the hover\n",
    "    text='popularity' # show scores as text on the bars\n",
    ")\n",
    "\n",
    "fig.update_layout(xaxis_tickangle=-45) # rotate text on x-axis\n",
    "\n",
    "fig.show() # display the chart\n",
    "\n",
    "# Save the figure as PNG\n",
    "fig.write_image('top5landmarks.png')"
   ]
  },
  {
   "cell_type": "markdown",
   "id": "59c00e54-0cd8-4199-b297-010237879c81",
   "metadata": {},
   "source": [
    "**1.2.2 Map Route for Visiting Most Popular Destinations in Order**\n",
    "\n",
    "The “Map Route for Visiting Most Popular Destinations in Order” presents a geographic visualization of the landmarks plotted on a map, connected in the order of their popularity from highest to lowest. By arranging the landmarks this way, the map helps illustrate how a traveler might plan a sightseeing route if they prioritized visiting the most popular destinations first. This visual not only shows the geographical spread of the landmarks but also offers insight into the practicality of a popularity-based travel route."
   ]
  },
  {
   "cell_type": "code",
   "execution_count": 232,
   "id": "fded7a68-86de-4166-b698-29c6d73d1f07",
   "metadata": {
    "scrolled": true
   },
   "outputs": [
    {
     "data": {
      "application/vnd.plotly.v1+json": {
       "config": {
        "plotlyServerURL": "https://plot.ly"
       },
       "data": [
        {
         "hoverinfo": "text",
         "lat": {
          "_inputArray": {
           "0": 28.3852,
           "1": 37.8199,
           "2": 40.6892,
           "3": 43.8791,
           "4": 38.6247,
           "bdata": "UWuad5xiPEDF/rJ78uhCQJwzorQ3WERA8fRKWYbwRUDV52or9k9DQA==",
           "dtype": "f8",
           "shape": "5"
          },
          "bdata": "UWuad5xiPEDF/rJ78uhCQJwzorQ3WERA8fRKWYbwRUDV52or9k9DQA==",
          "dtype": "f8"
         },
         "line": {
          "width": 2
         },
         "lon": {
          "_inputArray": {
           "0": -81.5639,
           "1": -122.4783,
           "2": -74.0445,
           "3": -103.4591,
           "4": -90.1848,
           "bdata": "uY0G8BZkVMBRa5p3nJ5ewAIrhxbZglLA/mX35GHdWcBAE2HD04tWwA==",
           "dtype": "f8",
           "shape": "5"
          },
          "bdata": "uY0G8BZkVMBRa5p3nJ5ewAIrhxbZglLA/mX35GHdWcBAE2HD04tWwA==",
          "dtype": "f8"
         },
         "marker": {
          "size": 10
         },
         "mode": "lines+markers+text",
         "text": [
          "disney_world<br>Popularity: 98",
          "golden_gate_bridge<br>Popularity: 59",
          "statue_of_liberty<br>Popularity: 50",
          "mount_rushmore<br>Popularity: 47",
          "gateway_arch<br>Popularity: 44"
         ],
         "type": "scattermap"
        }
       ],
       "layout": {
        "autosize": true,
        "map": {},
        "mapbox": {
         "center": {
          "lat": 37.87962,
          "lon": -94.34612
         },
         "style": "open-street-map",
         "zoom": 3
        },
        "template": {
         "data": {
          "bar": [
           {
            "error_x": {
             "color": "#2a3f5f"
            },
            "error_y": {
             "color": "#2a3f5f"
            },
            "marker": {
             "line": {
              "color": "#E5ECF6",
              "width": 0.5
             },
             "pattern": {
              "fillmode": "overlay",
              "size": 10,
              "solidity": 0.2
             }
            },
            "type": "bar"
           }
          ],
          "barpolar": [
           {
            "marker": {
             "line": {
              "color": "#E5ECF6",
              "width": 0.5
             },
             "pattern": {
              "fillmode": "overlay",
              "size": 10,
              "solidity": 0.2
             }
            },
            "type": "barpolar"
           }
          ],
          "carpet": [
           {
            "aaxis": {
             "endlinecolor": "#2a3f5f",
             "gridcolor": "white",
             "linecolor": "white",
             "minorgridcolor": "white",
             "startlinecolor": "#2a3f5f"
            },
            "baxis": {
             "endlinecolor": "#2a3f5f",
             "gridcolor": "white",
             "linecolor": "white",
             "minorgridcolor": "white",
             "startlinecolor": "#2a3f5f"
            },
            "type": "carpet"
           }
          ],
          "choropleth": [
           {
            "colorbar": {
             "outlinewidth": 0,
             "ticks": ""
            },
            "type": "choropleth"
           }
          ],
          "contour": [
           {
            "colorbar": {
             "outlinewidth": 0,
             "ticks": ""
            },
            "colorscale": [
             [
              0,
              "#0d0887"
             ],
             [
              0.1111111111111111,
              "#46039f"
             ],
             [
              0.2222222222222222,
              "#7201a8"
             ],
             [
              0.3333333333333333,
              "#9c179e"
             ],
             [
              0.4444444444444444,
              "#bd3786"
             ],
             [
              0.5555555555555556,
              "#d8576b"
             ],
             [
              0.6666666666666666,
              "#ed7953"
             ],
             [
              0.7777777777777778,
              "#fb9f3a"
             ],
             [
              0.8888888888888888,
              "#fdca26"
             ],
             [
              1,
              "#f0f921"
             ]
            ],
            "type": "contour"
           }
          ],
          "contourcarpet": [
           {
            "colorbar": {
             "outlinewidth": 0,
             "ticks": ""
            },
            "type": "contourcarpet"
           }
          ],
          "heatmap": [
           {
            "colorbar": {
             "outlinewidth": 0,
             "ticks": ""
            },
            "colorscale": [
             [
              0,
              "#0d0887"
             ],
             [
              0.1111111111111111,
              "#46039f"
             ],
             [
              0.2222222222222222,
              "#7201a8"
             ],
             [
              0.3333333333333333,
              "#9c179e"
             ],
             [
              0.4444444444444444,
              "#bd3786"
             ],
             [
              0.5555555555555556,
              "#d8576b"
             ],
             [
              0.6666666666666666,
              "#ed7953"
             ],
             [
              0.7777777777777778,
              "#fb9f3a"
             ],
             [
              0.8888888888888888,
              "#fdca26"
             ],
             [
              1,
              "#f0f921"
             ]
            ],
            "type": "heatmap"
           }
          ],
          "histogram": [
           {
            "marker": {
             "pattern": {
              "fillmode": "overlay",
              "size": 10,
              "solidity": 0.2
             }
            },
            "type": "histogram"
           }
          ],
          "histogram2d": [
           {
            "colorbar": {
             "outlinewidth": 0,
             "ticks": ""
            },
            "colorscale": [
             [
              0,
              "#0d0887"
             ],
             [
              0.1111111111111111,
              "#46039f"
             ],
             [
              0.2222222222222222,
              "#7201a8"
             ],
             [
              0.3333333333333333,
              "#9c179e"
             ],
             [
              0.4444444444444444,
              "#bd3786"
             ],
             [
              0.5555555555555556,
              "#d8576b"
             ],
             [
              0.6666666666666666,
              "#ed7953"
             ],
             [
              0.7777777777777778,
              "#fb9f3a"
             ],
             [
              0.8888888888888888,
              "#fdca26"
             ],
             [
              1,
              "#f0f921"
             ]
            ],
            "type": "histogram2d"
           }
          ],
          "histogram2dcontour": [
           {
            "colorbar": {
             "outlinewidth": 0,
             "ticks": ""
            },
            "colorscale": [
             [
              0,
              "#0d0887"
             ],
             [
              0.1111111111111111,
              "#46039f"
             ],
             [
              0.2222222222222222,
              "#7201a8"
             ],
             [
              0.3333333333333333,
              "#9c179e"
             ],
             [
              0.4444444444444444,
              "#bd3786"
             ],
             [
              0.5555555555555556,
              "#d8576b"
             ],
             [
              0.6666666666666666,
              "#ed7953"
             ],
             [
              0.7777777777777778,
              "#fb9f3a"
             ],
             [
              0.8888888888888888,
              "#fdca26"
             ],
             [
              1,
              "#f0f921"
             ]
            ],
            "type": "histogram2dcontour"
           }
          ],
          "mesh3d": [
           {
            "colorbar": {
             "outlinewidth": 0,
             "ticks": ""
            },
            "type": "mesh3d"
           }
          ],
          "parcoords": [
           {
            "line": {
             "colorbar": {
              "outlinewidth": 0,
              "ticks": ""
             }
            },
            "type": "parcoords"
           }
          ],
          "pie": [
           {
            "automargin": true,
            "type": "pie"
           }
          ],
          "scatter": [
           {
            "fillpattern": {
             "fillmode": "overlay",
             "size": 10,
             "solidity": 0.2
            },
            "type": "scatter"
           }
          ],
          "scatter3d": [
           {
            "line": {
             "colorbar": {
              "outlinewidth": 0,
              "ticks": ""
             }
            },
            "marker": {
             "colorbar": {
              "outlinewidth": 0,
              "ticks": ""
             }
            },
            "type": "scatter3d"
           }
          ],
          "scattercarpet": [
           {
            "marker": {
             "colorbar": {
              "outlinewidth": 0,
              "ticks": ""
             }
            },
            "type": "scattercarpet"
           }
          ],
          "scattergeo": [
           {
            "marker": {
             "colorbar": {
              "outlinewidth": 0,
              "ticks": ""
             }
            },
            "type": "scattergeo"
           }
          ],
          "scattergl": [
           {
            "marker": {
             "colorbar": {
              "outlinewidth": 0,
              "ticks": ""
             }
            },
            "type": "scattergl"
           }
          ],
          "scattermap": [
           {
            "marker": {
             "colorbar": {
              "outlinewidth": 0,
              "ticks": ""
             }
            },
            "type": "scattermap"
           }
          ],
          "scattermapbox": [
           {
            "marker": {
             "colorbar": {
              "outlinewidth": 0,
              "ticks": ""
             }
            },
            "type": "scattermapbox"
           }
          ],
          "scatterpolar": [
           {
            "marker": {
             "colorbar": {
              "outlinewidth": 0,
              "ticks": ""
             }
            },
            "type": "scatterpolar"
           }
          ],
          "scatterpolargl": [
           {
            "marker": {
             "colorbar": {
              "outlinewidth": 0,
              "ticks": ""
             }
            },
            "type": "scatterpolargl"
           }
          ],
          "scatterternary": [
           {
            "marker": {
             "colorbar": {
              "outlinewidth": 0,
              "ticks": ""
             }
            },
            "type": "scatterternary"
           }
          ],
          "surface": [
           {
            "colorbar": {
             "outlinewidth": 0,
             "ticks": ""
            },
            "colorscale": [
             [
              0,
              "#0d0887"
             ],
             [
              0.1111111111111111,
              "#46039f"
             ],
             [
              0.2222222222222222,
              "#7201a8"
             ],
             [
              0.3333333333333333,
              "#9c179e"
             ],
             [
              0.4444444444444444,
              "#bd3786"
             ],
             [
              0.5555555555555556,
              "#d8576b"
             ],
             [
              0.6666666666666666,
              "#ed7953"
             ],
             [
              0.7777777777777778,
              "#fb9f3a"
             ],
             [
              0.8888888888888888,
              "#fdca26"
             ],
             [
              1,
              "#f0f921"
             ]
            ],
            "type": "surface"
           }
          ],
          "table": [
           {
            "cells": {
             "fill": {
              "color": "#EBF0F8"
             },
             "line": {
              "color": "white"
             }
            },
            "header": {
             "fill": {
              "color": "#C8D4E3"
             },
             "line": {
              "color": "white"
             }
            },
            "type": "table"
           }
          ]
         },
         "layout": {
          "annotationdefaults": {
           "arrowcolor": "#2a3f5f",
           "arrowhead": 0,
           "arrowwidth": 1
          },
          "autotypenumbers": "strict",
          "coloraxis": {
           "colorbar": {
            "outlinewidth": 0,
            "ticks": ""
           }
          },
          "colorscale": {
           "diverging": [
            [
             0,
             "#8e0152"
            ],
            [
             0.1,
             "#c51b7d"
            ],
            [
             0.2,
             "#de77ae"
            ],
            [
             0.3,
             "#f1b6da"
            ],
            [
             0.4,
             "#fde0ef"
            ],
            [
             0.5,
             "#f7f7f7"
            ],
            [
             0.6,
             "#e6f5d0"
            ],
            [
             0.7,
             "#b8e186"
            ],
            [
             0.8,
             "#7fbc41"
            ],
            [
             0.9,
             "#4d9221"
            ],
            [
             1,
             "#276419"
            ]
           ],
           "sequential": [
            [
             0,
             "#0d0887"
            ],
            [
             0.1111111111111111,
             "#46039f"
            ],
            [
             0.2222222222222222,
             "#7201a8"
            ],
            [
             0.3333333333333333,
             "#9c179e"
            ],
            [
             0.4444444444444444,
             "#bd3786"
            ],
            [
             0.5555555555555556,
             "#d8576b"
            ],
            [
             0.6666666666666666,
             "#ed7953"
            ],
            [
             0.7777777777777778,
             "#fb9f3a"
            ],
            [
             0.8888888888888888,
             "#fdca26"
            ],
            [
             1,
             "#f0f921"
            ]
           ],
           "sequentialminus": [
            [
             0,
             "#0d0887"
            ],
            [
             0.1111111111111111,
             "#46039f"
            ],
            [
             0.2222222222222222,
             "#7201a8"
            ],
            [
             0.3333333333333333,
             "#9c179e"
            ],
            [
             0.4444444444444444,
             "#bd3786"
            ],
            [
             0.5555555555555556,
             "#d8576b"
            ],
            [
             0.6666666666666666,
             "#ed7953"
            ],
            [
             0.7777777777777778,
             "#fb9f3a"
            ],
            [
             0.8888888888888888,
             "#fdca26"
            ],
            [
             1,
             "#f0f921"
            ]
           ]
          },
          "colorway": [
           "#636efa",
           "#EF553B",
           "#00cc96",
           "#ab63fa",
           "#FFA15A",
           "#19d3f3",
           "#FF6692",
           "#B6E880",
           "#FF97FF",
           "#FECB52"
          ],
          "font": {
           "color": "#2a3f5f"
          },
          "geo": {
           "bgcolor": "white",
           "lakecolor": "white",
           "landcolor": "#E5ECF6",
           "showlakes": true,
           "showland": true,
           "subunitcolor": "white"
          },
          "hoverlabel": {
           "align": "left"
          },
          "hovermode": "closest",
          "mapbox": {
           "style": "light"
          },
          "paper_bgcolor": "white",
          "plot_bgcolor": "#E5ECF6",
          "polar": {
           "angularaxis": {
            "gridcolor": "white",
            "linecolor": "white",
            "ticks": ""
           },
           "bgcolor": "#E5ECF6",
           "radialaxis": {
            "gridcolor": "white",
            "linecolor": "white",
            "ticks": ""
           }
          },
          "scene": {
           "xaxis": {
            "backgroundcolor": "#E5ECF6",
            "gridcolor": "white",
            "gridwidth": 2,
            "linecolor": "white",
            "showbackground": true,
            "ticks": "",
            "zerolinecolor": "white"
           },
           "yaxis": {
            "backgroundcolor": "#E5ECF6",
            "gridcolor": "white",
            "gridwidth": 2,
            "linecolor": "white",
            "showbackground": true,
            "ticks": "",
            "zerolinecolor": "white"
           },
           "zaxis": {
            "backgroundcolor": "#E5ECF6",
            "gridcolor": "white",
            "gridwidth": 2,
            "linecolor": "white",
            "showbackground": true,
            "ticks": "",
            "zerolinecolor": "white"
           }
          },
          "shapedefaults": {
           "line": {
            "color": "#2a3f5f"
           }
          },
          "ternary": {
           "aaxis": {
            "gridcolor": "white",
            "linecolor": "white",
            "ticks": ""
           },
           "baxis": {
            "gridcolor": "white",
            "linecolor": "white",
            "ticks": ""
           },
           "bgcolor": "#E5ECF6",
           "caxis": {
            "gridcolor": "white",
            "linecolor": "white",
            "ticks": ""
           }
          },
          "title": {
           "x": 0.05
          },
          "xaxis": {
           "automargin": true,
           "gridcolor": "white",
           "linecolor": "white",
           "ticks": "",
           "title": {
            "standoff": 15
           },
           "zerolinecolor": "white",
           "zerolinewidth": 2
          },
          "yaxis": {
           "automargin": true,
           "gridcolor": "white",
           "linecolor": "white",
           "ticks": "",
           "title": {
            "standoff": 15
           },
           "zerolinecolor": "white",
           "zerolinewidth": 2
          }
         }
        },
        "title": {
         "text": "Landmark Route Based on Popularity"
        }
       }
      }
     },
     "metadata": {},
     "output_type": "display_data"
    }
   ],
   "source": [
    "# Copy data \n",
    "map_df = df.copy()\n",
    "\n",
    "# Sort based on popularity score\n",
    "map_df = map_df.sort_values(by='popularity', ascending=False).reset_index(drop=True)\n",
    "\n",
    "# Create mapbox scatter with lines\n",
    "fig = go.Figure()\n",
    "\n",
    "# Add route line to connect based off sorted popularity score\n",
    "fig.add_trace(go.Scattermap(\n",
    "    mode=\"lines+markers+text\", # show lines, markers and text\n",
    "    lon=map_df['longitude'], # longitude data\n",
    "    lat=map_df['latitude'],  # latitude data\n",
    "    text=map_df['landmark'] + '<br>Popularity: ' + map_df['popularity'].astype(str), # hover text\n",
    "    marker={'size': 10}, # marker size for landmarks\n",
    "    line={'width': 2}, # line width\n",
    "    hoverinfo='text' # show text on hover only\n",
    "))\n",
    "\n",
    "# Map layout based on landmark coordinates\n",
    "fig.update_layout(\n",
    "    mapbox_style=\"open-street-map\",\n",
    "    mapbox_zoom=3,\n",
    "    mapbox_center={\"lat\": map_df['latitude'].mean(), \"lon\": map_df['longitude'].mean()},\n",
    "    title=\"Landmark Route Based on Popularity\",\n",
    "    height=600\n",
    ")\n",
    "\n",
    "fig.show() # show the interactive map\n",
    "\n",
    "# Save the figure as PNG\n",
    "fig.write_image('popular_route.png')"
   ]
  },
  {
   "cell_type": "markdown",
   "id": "0b0b7a49-f866-436e-876b-058b02d2dd82",
   "metadata": {},
   "source": [
    "**1.2.3 Visit Time Vs. Popularity**\n",
    "\n",
    "The “Visit Time vs. Popularity” scatter plot shows how long visitors typically spend at each landmark compared to its popularity score. Each bubble represents a landmark, positioned by visit time and popularity, with bubble size reflecting engagement factors like reviews and color indicating the landmark type—such as historical, architectural, or amusement park. This visualization highlights patterns in visitor behavior, showing how popularity and visit duration relate across different types of attractions and helping identify which landmarks attract significant attention despite shorter or longer visit times."
   ]
  },
  {
   "cell_type": "code",
   "execution_count": 234,
   "id": "62214a12-de33-4221-874e-1a4145d081d1",
   "metadata": {},
   "outputs": [
    {
     "data": {
      "application/vnd.plotly.v1+json": {
       "config": {
        "plotlyServerURL": "https://plot.ly"
       },
       "data": [
        {
         "hovertemplate": "<b>%{hovertext}</b><br><br>type=historical_architectural<br>visit_time_(hrs)=%{x}<br>popularity=%{y}<br>reviews_photos=%{marker.size}<extra></extra>",
         "hovertext": [
          "mount_rushmore",
          "statue_of_liberty"
         ],
         "legendgroup": "historical_architectural",
         "marker": {
          "color": "#636efa",
          "size": {
           "_inputArray": {
            "0": 25000,
            "1": 30000,
            "bdata": "qGEwdQ==",
            "dtype": "i2",
            "shape": "2"
           },
           "bdata": "qGEwdQ==",
           "dtype": "i2"
          },
          "sizemode": "area",
          "sizeref": 212.5,
          "symbol": "circle"
         },
         "mode": "markers",
         "name": "historical_architectural",
         "orientation": "v",
         "showlegend": true,
         "type": "scatter",
         "x": {
          "_inputArray": {
           "0": 2,
           "1": 4,
           "bdata": "AgQ=",
           "dtype": "i1",
           "shape": "2"
          },
          "bdata": "AgQ=",
          "dtype": "i1"
         },
         "xaxis": "x",
         "y": {
          "_inputArray": {
           "0": 47,
           "1": 50,
           "bdata": "LzI=",
           "dtype": "i1",
           "shape": "2"
          },
          "bdata": "LzI=",
          "dtype": "i1"
         },
         "yaxis": "y"
        },
        {
         "hovertemplate": "<b>%{hovertext}</b><br><br>type=architectural<br>visit_time_(hrs)=%{x}<br>popularity=%{y}<br>reviews_photos=%{marker.size}<extra></extra>",
         "hovertext": [
          "gateway_arch",
          "golden_gate_bridge"
         ],
         "legendgroup": "architectural",
         "marker": {
          "color": "#EF553B",
          "size": {
           "_inputArray": {
            "0": 15000,
            "1": 45000,
            "bdata": "mDoAAMivAAA=",
            "dtype": "i4",
            "shape": "2"
           },
           "bdata": "mDoAAMivAAA=",
           "dtype": "i4"
          },
          "sizemode": "area",
          "sizeref": 212.5,
          "symbol": "circle"
         },
         "mode": "markers",
         "name": "architectural",
         "orientation": "v",
         "showlegend": true,
         "type": "scatter",
         "x": {
          "_inputArray": {
           "0": 2,
           "1": 2,
           "bdata": "AgI=",
           "dtype": "i1",
           "shape": "2"
          },
          "bdata": "AgI=",
          "dtype": "i1"
         },
         "xaxis": "x",
         "y": {
          "_inputArray": {
           "0": 44,
           "1": 59,
           "bdata": "LDs=",
           "dtype": "i1",
           "shape": "2"
          },
          "bdata": "LDs=",
          "dtype": "i1"
         },
         "yaxis": "y"
        },
        {
         "hovertemplate": "<b>%{hovertext}</b><br><br>type=amusement_park<br>visit_time_(hrs)=%{x}<br>popularity=%{y}<br>reviews_photos=%{marker.size}<extra></extra>",
         "hovertext": [
          "disney_world"
         ],
         "legendgroup": "amusement_park",
         "marker": {
          "color": "#00cc96",
          "size": {
           "_inputArray": {
            "0": 85000,
            "bdata": "CEwBAA==",
            "dtype": "i4",
            "shape": "1"
           },
           "bdata": "CEwBAA==",
           "dtype": "i4"
          },
          "sizemode": "area",
          "sizeref": 212.5,
          "symbol": "circle"
         },
         "mode": "markers",
         "name": "amusement_park",
         "orientation": "v",
         "showlegend": true,
         "type": "scatter",
         "x": {
          "_inputArray": {
           "0": 8,
           "bdata": "CA==",
           "dtype": "i1",
           "shape": "1"
          },
          "bdata": "CA==",
          "dtype": "i1"
         },
         "xaxis": "x",
         "y": {
          "_inputArray": {
           "0": 98,
           "bdata": "Yg==",
           "dtype": "i1",
           "shape": "1"
          },
          "bdata": "Yg==",
          "dtype": "i1"
         },
         "yaxis": "y"
        }
       ],
       "layout": {
        "autosize": true,
        "legend": {
         "itemsizing": "constant",
         "title": {
          "text": "type"
         },
         "tracegroupgap": 0
        },
        "template": {
         "data": {
          "bar": [
           {
            "error_x": {
             "color": "#2a3f5f"
            },
            "error_y": {
             "color": "#2a3f5f"
            },
            "marker": {
             "line": {
              "color": "#E5ECF6",
              "width": 0.5
             },
             "pattern": {
              "fillmode": "overlay",
              "size": 10,
              "solidity": 0.2
             }
            },
            "type": "bar"
           }
          ],
          "barpolar": [
           {
            "marker": {
             "line": {
              "color": "#E5ECF6",
              "width": 0.5
             },
             "pattern": {
              "fillmode": "overlay",
              "size": 10,
              "solidity": 0.2
             }
            },
            "type": "barpolar"
           }
          ],
          "carpet": [
           {
            "aaxis": {
             "endlinecolor": "#2a3f5f",
             "gridcolor": "white",
             "linecolor": "white",
             "minorgridcolor": "white",
             "startlinecolor": "#2a3f5f"
            },
            "baxis": {
             "endlinecolor": "#2a3f5f",
             "gridcolor": "white",
             "linecolor": "white",
             "minorgridcolor": "white",
             "startlinecolor": "#2a3f5f"
            },
            "type": "carpet"
           }
          ],
          "choropleth": [
           {
            "colorbar": {
             "outlinewidth": 0,
             "ticks": ""
            },
            "type": "choropleth"
           }
          ],
          "contour": [
           {
            "colorbar": {
             "outlinewidth": 0,
             "ticks": ""
            },
            "colorscale": [
             [
              0,
              "#0d0887"
             ],
             [
              0.1111111111111111,
              "#46039f"
             ],
             [
              0.2222222222222222,
              "#7201a8"
             ],
             [
              0.3333333333333333,
              "#9c179e"
             ],
             [
              0.4444444444444444,
              "#bd3786"
             ],
             [
              0.5555555555555556,
              "#d8576b"
             ],
             [
              0.6666666666666666,
              "#ed7953"
             ],
             [
              0.7777777777777778,
              "#fb9f3a"
             ],
             [
              0.8888888888888888,
              "#fdca26"
             ],
             [
              1,
              "#f0f921"
             ]
            ],
            "type": "contour"
           }
          ],
          "contourcarpet": [
           {
            "colorbar": {
             "outlinewidth": 0,
             "ticks": ""
            },
            "type": "contourcarpet"
           }
          ],
          "heatmap": [
           {
            "colorbar": {
             "outlinewidth": 0,
             "ticks": ""
            },
            "colorscale": [
             [
              0,
              "#0d0887"
             ],
             [
              0.1111111111111111,
              "#46039f"
             ],
             [
              0.2222222222222222,
              "#7201a8"
             ],
             [
              0.3333333333333333,
              "#9c179e"
             ],
             [
              0.4444444444444444,
              "#bd3786"
             ],
             [
              0.5555555555555556,
              "#d8576b"
             ],
             [
              0.6666666666666666,
              "#ed7953"
             ],
             [
              0.7777777777777778,
              "#fb9f3a"
             ],
             [
              0.8888888888888888,
              "#fdca26"
             ],
             [
              1,
              "#f0f921"
             ]
            ],
            "type": "heatmap"
           }
          ],
          "histogram": [
           {
            "marker": {
             "pattern": {
              "fillmode": "overlay",
              "size": 10,
              "solidity": 0.2
             }
            },
            "type": "histogram"
           }
          ],
          "histogram2d": [
           {
            "colorbar": {
             "outlinewidth": 0,
             "ticks": ""
            },
            "colorscale": [
             [
              0,
              "#0d0887"
             ],
             [
              0.1111111111111111,
              "#46039f"
             ],
             [
              0.2222222222222222,
              "#7201a8"
             ],
             [
              0.3333333333333333,
              "#9c179e"
             ],
             [
              0.4444444444444444,
              "#bd3786"
             ],
             [
              0.5555555555555556,
              "#d8576b"
             ],
             [
              0.6666666666666666,
              "#ed7953"
             ],
             [
              0.7777777777777778,
              "#fb9f3a"
             ],
             [
              0.8888888888888888,
              "#fdca26"
             ],
             [
              1,
              "#f0f921"
             ]
            ],
            "type": "histogram2d"
           }
          ],
          "histogram2dcontour": [
           {
            "colorbar": {
             "outlinewidth": 0,
             "ticks": ""
            },
            "colorscale": [
             [
              0,
              "#0d0887"
             ],
             [
              0.1111111111111111,
              "#46039f"
             ],
             [
              0.2222222222222222,
              "#7201a8"
             ],
             [
              0.3333333333333333,
              "#9c179e"
             ],
             [
              0.4444444444444444,
              "#bd3786"
             ],
             [
              0.5555555555555556,
              "#d8576b"
             ],
             [
              0.6666666666666666,
              "#ed7953"
             ],
             [
              0.7777777777777778,
              "#fb9f3a"
             ],
             [
              0.8888888888888888,
              "#fdca26"
             ],
             [
              1,
              "#f0f921"
             ]
            ],
            "type": "histogram2dcontour"
           }
          ],
          "mesh3d": [
           {
            "colorbar": {
             "outlinewidth": 0,
             "ticks": ""
            },
            "type": "mesh3d"
           }
          ],
          "parcoords": [
           {
            "line": {
             "colorbar": {
              "outlinewidth": 0,
              "ticks": ""
             }
            },
            "type": "parcoords"
           }
          ],
          "pie": [
           {
            "automargin": true,
            "type": "pie"
           }
          ],
          "scatter": [
           {
            "fillpattern": {
             "fillmode": "overlay",
             "size": 10,
             "solidity": 0.2
            },
            "type": "scatter"
           }
          ],
          "scatter3d": [
           {
            "line": {
             "colorbar": {
              "outlinewidth": 0,
              "ticks": ""
             }
            },
            "marker": {
             "colorbar": {
              "outlinewidth": 0,
              "ticks": ""
             }
            },
            "type": "scatter3d"
           }
          ],
          "scattercarpet": [
           {
            "marker": {
             "colorbar": {
              "outlinewidth": 0,
              "ticks": ""
             }
            },
            "type": "scattercarpet"
           }
          ],
          "scattergeo": [
           {
            "marker": {
             "colorbar": {
              "outlinewidth": 0,
              "ticks": ""
             }
            },
            "type": "scattergeo"
           }
          ],
          "scattergl": [
           {
            "marker": {
             "colorbar": {
              "outlinewidth": 0,
              "ticks": ""
             }
            },
            "type": "scattergl"
           }
          ],
          "scattermap": [
           {
            "marker": {
             "colorbar": {
              "outlinewidth": 0,
              "ticks": ""
             }
            },
            "type": "scattermap"
           }
          ],
          "scattermapbox": [
           {
            "marker": {
             "colorbar": {
              "outlinewidth": 0,
              "ticks": ""
             }
            },
            "type": "scattermapbox"
           }
          ],
          "scatterpolar": [
           {
            "marker": {
             "colorbar": {
              "outlinewidth": 0,
              "ticks": ""
             }
            },
            "type": "scatterpolar"
           }
          ],
          "scatterpolargl": [
           {
            "marker": {
             "colorbar": {
              "outlinewidth": 0,
              "ticks": ""
             }
            },
            "type": "scatterpolargl"
           }
          ],
          "scatterternary": [
           {
            "marker": {
             "colorbar": {
              "outlinewidth": 0,
              "ticks": ""
             }
            },
            "type": "scatterternary"
           }
          ],
          "surface": [
           {
            "colorbar": {
             "outlinewidth": 0,
             "ticks": ""
            },
            "colorscale": [
             [
              0,
              "#0d0887"
             ],
             [
              0.1111111111111111,
              "#46039f"
             ],
             [
              0.2222222222222222,
              "#7201a8"
             ],
             [
              0.3333333333333333,
              "#9c179e"
             ],
             [
              0.4444444444444444,
              "#bd3786"
             ],
             [
              0.5555555555555556,
              "#d8576b"
             ],
             [
              0.6666666666666666,
              "#ed7953"
             ],
             [
              0.7777777777777778,
              "#fb9f3a"
             ],
             [
              0.8888888888888888,
              "#fdca26"
             ],
             [
              1,
              "#f0f921"
             ]
            ],
            "type": "surface"
           }
          ],
          "table": [
           {
            "cells": {
             "fill": {
              "color": "#EBF0F8"
             },
             "line": {
              "color": "white"
             }
            },
            "header": {
             "fill": {
              "color": "#C8D4E3"
             },
             "line": {
              "color": "white"
             }
            },
            "type": "table"
           }
          ]
         },
         "layout": {
          "annotationdefaults": {
           "arrowcolor": "#2a3f5f",
           "arrowhead": 0,
           "arrowwidth": 1
          },
          "autotypenumbers": "strict",
          "coloraxis": {
           "colorbar": {
            "outlinewidth": 0,
            "ticks": ""
           }
          },
          "colorscale": {
           "diverging": [
            [
             0,
             "#8e0152"
            ],
            [
             0.1,
             "#c51b7d"
            ],
            [
             0.2,
             "#de77ae"
            ],
            [
             0.3,
             "#f1b6da"
            ],
            [
             0.4,
             "#fde0ef"
            ],
            [
             0.5,
             "#f7f7f7"
            ],
            [
             0.6,
             "#e6f5d0"
            ],
            [
             0.7,
             "#b8e186"
            ],
            [
             0.8,
             "#7fbc41"
            ],
            [
             0.9,
             "#4d9221"
            ],
            [
             1,
             "#276419"
            ]
           ],
           "sequential": [
            [
             0,
             "#0d0887"
            ],
            [
             0.1111111111111111,
             "#46039f"
            ],
            [
             0.2222222222222222,
             "#7201a8"
            ],
            [
             0.3333333333333333,
             "#9c179e"
            ],
            [
             0.4444444444444444,
             "#bd3786"
            ],
            [
             0.5555555555555556,
             "#d8576b"
            ],
            [
             0.6666666666666666,
             "#ed7953"
            ],
            [
             0.7777777777777778,
             "#fb9f3a"
            ],
            [
             0.8888888888888888,
             "#fdca26"
            ],
            [
             1,
             "#f0f921"
            ]
           ],
           "sequentialminus": [
            [
             0,
             "#0d0887"
            ],
            [
             0.1111111111111111,
             "#46039f"
            ],
            [
             0.2222222222222222,
             "#7201a8"
            ],
            [
             0.3333333333333333,
             "#9c179e"
            ],
            [
             0.4444444444444444,
             "#bd3786"
            ],
            [
             0.5555555555555556,
             "#d8576b"
            ],
            [
             0.6666666666666666,
             "#ed7953"
            ],
            [
             0.7777777777777778,
             "#fb9f3a"
            ],
            [
             0.8888888888888888,
             "#fdca26"
            ],
            [
             1,
             "#f0f921"
            ]
           ]
          },
          "colorway": [
           "#636efa",
           "#EF553B",
           "#00cc96",
           "#ab63fa",
           "#FFA15A",
           "#19d3f3",
           "#FF6692",
           "#B6E880",
           "#FF97FF",
           "#FECB52"
          ],
          "font": {
           "color": "#2a3f5f"
          },
          "geo": {
           "bgcolor": "white",
           "lakecolor": "white",
           "landcolor": "#E5ECF6",
           "showlakes": true,
           "showland": true,
           "subunitcolor": "white"
          },
          "hoverlabel": {
           "align": "left"
          },
          "hovermode": "closest",
          "mapbox": {
           "style": "light"
          },
          "paper_bgcolor": "white",
          "plot_bgcolor": "#E5ECF6",
          "polar": {
           "angularaxis": {
            "gridcolor": "white",
            "linecolor": "white",
            "ticks": ""
           },
           "bgcolor": "#E5ECF6",
           "radialaxis": {
            "gridcolor": "white",
            "linecolor": "white",
            "ticks": ""
           }
          },
          "scene": {
           "xaxis": {
            "backgroundcolor": "#E5ECF6",
            "gridcolor": "white",
            "gridwidth": 2,
            "linecolor": "white",
            "showbackground": true,
            "ticks": "",
            "zerolinecolor": "white"
           },
           "yaxis": {
            "backgroundcolor": "#E5ECF6",
            "gridcolor": "white",
            "gridwidth": 2,
            "linecolor": "white",
            "showbackground": true,
            "ticks": "",
            "zerolinecolor": "white"
           },
           "zaxis": {
            "backgroundcolor": "#E5ECF6",
            "gridcolor": "white",
            "gridwidth": 2,
            "linecolor": "white",
            "showbackground": true,
            "ticks": "",
            "zerolinecolor": "white"
           }
          },
          "shapedefaults": {
           "line": {
            "color": "#2a3f5f"
           }
          },
          "ternary": {
           "aaxis": {
            "gridcolor": "white",
            "linecolor": "white",
            "ticks": ""
           },
           "baxis": {
            "gridcolor": "white",
            "linecolor": "white",
            "ticks": ""
           },
           "bgcolor": "#E5ECF6",
           "caxis": {
            "gridcolor": "white",
            "linecolor": "white",
            "ticks": ""
           }
          },
          "title": {
           "x": 0.05
          },
          "xaxis": {
           "automargin": true,
           "gridcolor": "white",
           "linecolor": "white",
           "ticks": "",
           "title": {
            "standoff": 15
           },
           "zerolinecolor": "white",
           "zerolinewidth": 2
          },
          "yaxis": {
           "automargin": true,
           "gridcolor": "white",
           "linecolor": "white",
           "ticks": "",
           "title": {
            "standoff": 15
           },
           "zerolinecolor": "white",
           "zerolinewidth": 2
          }
         }
        },
        "title": {
         "text": "Visit Time vs Popularity Score"
        },
        "xaxis": {
         "anchor": "y",
         "autorange": true,
         "domain": [
          0,
          1
         ],
         "range": [
          1.4421387976349993,
          8.63212171619614
         ],
         "title": {
          "text": "visit_time_(hrs)"
         },
         "type": "linear"
        },
        "yaxis": {
         "anchor": "x",
         "autorange": true,
         "domain": [
          0,
          1
         ],
         "range": [
          37.94700670891035,
          107.6012079678986
         ],
         "title": {
          "text": "popularity"
         },
         "type": "linear"
        }
       }
      }
     },
     "metadata": {},
     "output_type": "display_data"
    }
   ],
   "source": [
    "# Create a scatter plot to compare the relationship between visit time and popularity\n",
    "fig = px.scatter(\n",
    "    df,\n",
    "    x='visit_time_(hrs)', # visit time on the x-axis\n",
    "    y='popularity', # popularity score on the y-axis\n",
    "    color='type', # color based on landmark type\n",
    "    hover_name='landmark', # show landmark name on hover\n",
    "    title='Visit Time vs Popularity Score', \n",
    "    size='reviews_photos', # bubble size represents number of reviews_photos\n",
    "    size_max=20 # max size for the bubbles\n",
    ")\n",
    "\n",
    "fig.show()\n",
    "\n",
    "# Save the figure as PNG\n",
    "fig.write_image('visit_popular.png')"
   ]
  },
  {
   "cell_type": "markdown",
   "id": "22b721c8-9147-4b81-94be-616673fcf5b4",
   "metadata": {},
   "source": [
    "## 2. Modeling"
   ]
  },
  {
   "cell_type": "markdown",
   "id": "14da7b37-fb18-4e2e-ad63-eff6bd51ec60",
   "metadata": {},
   "source": [
    "### 2.1 Baseline Model"
   ]
  },
  {
   "cell_type": "markdown",
   "id": "8e2514f9-50ad-44d5-b2fb-9c6ee62dec47",
   "metadata": {},
   "source": [
    "We started by creating an initial route where the next landmark was selected at random, ensuring that each location was visited only once. This route served as our baseline model, allowing us to calculate the total distance traveled without any optimization. The baseline distance provides a reference point for comparing the performance of our optimization algorithms.\n",
    "\n",
    "To accurately measure the distance between landmarks, we manually implemented the haversine formula, which calculates the shortest distance between two points on the Earth's surface using latitude and longitude. This calculation was incorporated into our compute_total_distance function, making it a reusable component for assessing route lengths throughout the project."
   ]
  },
  {
   "cell_type": "code",
   "execution_count": 238,
   "id": "22fc62c6-9d35-423e-983f-6e9958f7c467",
   "metadata": {},
   "outputs": [],
   "source": [
    "# Shuffle the data \n",
    "baseline_route = df.sample(frac=1, random_state=42).reset_index(drop=True)"
   ]
  },
  {
   "cell_type": "code",
   "execution_count": 239,
   "id": "371d3e8f-f95c-49ad-a690-cb9458ba3a40",
   "metadata": {},
   "outputs": [
    {
     "data": {
      "text/html": [
       "<div>\n",
       "<style scoped>\n",
       "    .dataframe tbody tr th:only-of-type {\n",
       "        vertical-align: middle;\n",
       "    }\n",
       "\n",
       "    .dataframe tbody tr th {\n",
       "        vertical-align: top;\n",
       "    }\n",
       "\n",
       "    .dataframe thead th {\n",
       "        text-align: right;\n",
       "    }\n",
       "</style>\n",
       "<table border=\"1\" class=\"dataframe\">\n",
       "  <thead>\n",
       "    <tr style=\"text-align: right;\">\n",
       "      <th></th>\n",
       "      <th>city</th>\n",
       "      <th>state</th>\n",
       "      <th>landmark</th>\n",
       "      <th>latitude</th>\n",
       "      <th>longitude</th>\n",
       "      <th>type</th>\n",
       "      <th>visit_time_(hrs)</th>\n",
       "      <th>average_user_rating</th>\n",
       "      <th>reviews_photos</th>\n",
       "      <th>annual_visitors</th>\n",
       "      <th>rating_factor</th>\n",
       "      <th>reviews_factor</th>\n",
       "      <th>visitors_factor</th>\n",
       "      <th>popularity</th>\n",
       "    </tr>\n",
       "  </thead>\n",
       "  <tbody>\n",
       "    <tr>\n",
       "      <th>0</th>\n",
       "      <td>new_york</td>\n",
       "      <td>new_york</td>\n",
       "      <td>statue_of_liberty</td>\n",
       "      <td>40.6892</td>\n",
       "      <td>-74.0445</td>\n",
       "      <td>historical_architectural</td>\n",
       "      <td>4</td>\n",
       "      <td>4.7</td>\n",
       "      <td>30000</td>\n",
       "      <td>4300000</td>\n",
       "      <td>94.0</td>\n",
       "      <td>35.294118</td>\n",
       "      <td>7.413793</td>\n",
       "      <td>50</td>\n",
       "    </tr>\n",
       "    <tr>\n",
       "      <th>1</th>\n",
       "      <td>orlando</td>\n",
       "      <td>florida</td>\n",
       "      <td>disney_world</td>\n",
       "      <td>28.3852</td>\n",
       "      <td>-81.5639</td>\n",
       "      <td>amusement_park</td>\n",
       "      <td>8</td>\n",
       "      <td>4.7</td>\n",
       "      <td>85000</td>\n",
       "      <td>58000000</td>\n",
       "      <td>94.0</td>\n",
       "      <td>100.000000</td>\n",
       "      <td>100.000000</td>\n",
       "      <td>98</td>\n",
       "    </tr>\n",
       "    <tr>\n",
       "      <th>2</th>\n",
       "      <td>st._louis</td>\n",
       "      <td>missouri</td>\n",
       "      <td>gateway_arch</td>\n",
       "      <td>38.6247</td>\n",
       "      <td>-90.1848</td>\n",
       "      <td>architectural</td>\n",
       "      <td>2</td>\n",
       "      <td>4.7</td>\n",
       "      <td>15000</td>\n",
       "      <td>2000000</td>\n",
       "      <td>94.0</td>\n",
       "      <td>17.647059</td>\n",
       "      <td>3.448276</td>\n",
       "      <td>44</td>\n",
       "    </tr>\n",
       "    <tr>\n",
       "      <th>3</th>\n",
       "      <td>keystone</td>\n",
       "      <td>south_dakota</td>\n",
       "      <td>mount_rushmore</td>\n",
       "      <td>43.8791</td>\n",
       "      <td>-103.4591</td>\n",
       "      <td>historical_architectural</td>\n",
       "      <td>2</td>\n",
       "      <td>4.7</td>\n",
       "      <td>25000</td>\n",
       "      <td>2000000</td>\n",
       "      <td>94.0</td>\n",
       "      <td>29.411765</td>\n",
       "      <td>3.448276</td>\n",
       "      <td>47</td>\n",
       "    </tr>\n",
       "    <tr>\n",
       "      <th>4</th>\n",
       "      <td>san_francisco</td>\n",
       "      <td>california</td>\n",
       "      <td>golden_gate_bridge</td>\n",
       "      <td>37.8199</td>\n",
       "      <td>-122.4783</td>\n",
       "      <td>architectural</td>\n",
       "      <td>2</td>\n",
       "      <td>4.8</td>\n",
       "      <td>45000</td>\n",
       "      <td>10000000</td>\n",
       "      <td>96.0</td>\n",
       "      <td>52.941176</td>\n",
       "      <td>17.241379</td>\n",
       "      <td>59</td>\n",
       "    </tr>\n",
       "  </tbody>\n",
       "</table>\n",
       "</div>"
      ],
      "text/plain": [
       "            city         state            landmark  latitude  longitude  \\\n",
       "0       new_york      new_york   statue_of_liberty   40.6892   -74.0445   \n",
       "1        orlando       florida        disney_world   28.3852   -81.5639   \n",
       "2      st._louis      missouri        gateway_arch   38.6247   -90.1848   \n",
       "3       keystone  south_dakota      mount_rushmore   43.8791  -103.4591   \n",
       "4  san_francisco    california  golden_gate_bridge   37.8199  -122.4783   \n",
       "\n",
       "                       type  visit_time_(hrs)  average_user_rating  \\\n",
       "0  historical_architectural                 4                  4.7   \n",
       "1            amusement_park                 8                  4.7   \n",
       "2             architectural                 2                  4.7   \n",
       "3  historical_architectural                 2                  4.7   \n",
       "4             architectural                 2                  4.8   \n",
       "\n",
       "   reviews_photos  annual_visitors  rating_factor  reviews_factor  \\\n",
       "0           30000          4300000           94.0       35.294118   \n",
       "1           85000         58000000           94.0      100.000000   \n",
       "2           15000          2000000           94.0       17.647059   \n",
       "3           25000          2000000           94.0       29.411765   \n",
       "4           45000         10000000           96.0       52.941176   \n",
       "\n",
       "   visitors_factor  popularity  \n",
       "0         7.413793          50  \n",
       "1       100.000000          98  \n",
       "2         3.448276          44  \n",
       "3         3.448276          47  \n",
       "4        17.241379          59  "
      ]
     },
     "execution_count": 239,
     "metadata": {},
     "output_type": "execute_result"
    }
   ],
   "source": [
    "# View the baseline route\n",
    "baseline_route"
   ]
  },
  {
   "cell_type": "code",
   "execution_count": 240,
   "id": "2ca432bc-d958-406e-bd57-a3c86f0283f3",
   "metadata": {},
   "outputs": [
    {
     "data": {
      "text/html": [
       "<div>\n",
       "<style scoped>\n",
       "    .dataframe tbody tr th:only-of-type {\n",
       "        vertical-align: middle;\n",
       "    }\n",
       "\n",
       "    .dataframe tbody tr th {\n",
       "        vertical-align: top;\n",
       "    }\n",
       "\n",
       "    .dataframe thead th {\n",
       "        text-align: right;\n",
       "    }\n",
       "</style>\n",
       "<table border=\"1\" class=\"dataframe\">\n",
       "  <thead>\n",
       "    <tr style=\"text-align: right;\">\n",
       "      <th></th>\n",
       "      <th>From</th>\n",
       "      <th>To</th>\n",
       "      <th>Distance (km)</th>\n",
       "    </tr>\n",
       "  </thead>\n",
       "  <tbody>\n",
       "    <tr>\n",
       "      <th>0</th>\n",
       "      <td>statue_of_liberty</td>\n",
       "      <td>disney_world</td>\n",
       "      <td>1530.22</td>\n",
       "    </tr>\n",
       "    <tr>\n",
       "      <th>1</th>\n",
       "      <td>disney_world</td>\n",
       "      <td>gateway_arch</td>\n",
       "      <td>1389.59</td>\n",
       "    </tr>\n",
       "    <tr>\n",
       "      <th>2</th>\n",
       "      <td>gateway_arch</td>\n",
       "      <td>mount_rushmore</td>\n",
       "      <td>1252.02</td>\n",
       "    </tr>\n",
       "    <tr>\n",
       "      <th>3</th>\n",
       "      <td>mount_rushmore</td>\n",
       "      <td>golden_gate_bridge</td>\n",
       "      <td>1730.68</td>\n",
       "    </tr>\n",
       "  </tbody>\n",
       "</table>\n",
       "</div>"
      ],
      "text/plain": [
       "                From                  To  Distance (km)\n",
       "0  statue_of_liberty        disney_world        1530.22\n",
       "1       disney_world        gateway_arch        1389.59\n",
       "2       gateway_arch      mount_rushmore        1252.02\n",
       "3     mount_rushmore  golden_gate_bridge        1730.68"
      ]
     },
     "execution_count": 240,
     "metadata": {},
     "output_type": "execute_result"
    }
   ],
   "source": [
    "# Create an empty list \n",
    "distance_list = []\n",
    "\n",
    "# Loop through each pair of consecutive landmarks for the baseline route\n",
    "for i in range(len(baseline_route) - 1):\n",
    "    landmark_from = baseline_route.loc[i, 'landmark']\n",
    "    landmark_to = baseline_route.loc[i + 1, 'landmark']\n",
    "    \n",
    "    loc1 = (baseline_route.loc[i, 'latitude'], baseline_route.loc[i, 'longitude'])\n",
    "    loc2 = (baseline_route.loc[i + 1, 'latitude'], baseline_route.loc[i + 1, 'longitude'])\n",
    "    \n",
    "    distance_km = haversine(loc1, loc2)\n",
    "    \n",
    "    # Append results as a dictionary\n",
    "    distance_list.append({\n",
    "        'From': landmark_from,\n",
    "        'To': landmark_to,\n",
    "        'Distance (km)': round(distance_km, 2)\n",
    "    })\n",
    "\n",
    "# Convert the list to a DataFrame\n",
    "baseline_distances_df = pd.DataFrame(distance_list)\n",
    "\n",
    "# Display the DataFrame\n",
    "baseline_distances_df"
   ]
  },
  {
   "cell_type": "markdown",
   "id": "6577cccf-360a-4d22-bd79-0ac15519d472",
   "metadata": {},
   "source": [
    "Since we were having issues with pip, we created a distance function using Python’s math library so we could continue testing.\n",
    "\n",
    "We also wrote a function called 'best_route' that takes a starting latitude and longitude, then finds the route with the shortest total distance by using the 'compute_total_distance' function we already built. The output shows both the shortest distance and the order of locations in the best route, including the starting and ending at a predetermined \"home\" location. "
   ]
  },
  {
   "cell_type": "code",
   "execution_count": 242,
   "id": "3f33b815-465b-4a2b-845d-fff26237f2b5",
   "metadata": {},
   "outputs": [],
   "source": [
    "# Manual harversine function\n",
    "def distance(lat1, lon1, lat2, lon2):\n",
    "    lat1r = lat1*((math.pi)/180) #converts lats and lons to radians for formula\n",
    "    lat2r = lat2*((math.pi)/180)\n",
    "    lon1r = lon1*((math.pi)/180)\n",
    "    lon2r = lon2*((math.pi)/180)\n",
    "    delta_lat = lat2r - lat1r\n",
    "    delta_lon = lon2r - lon1r\n",
    "    R = 6378\n",
    "    hav = ((math.sin((delta_lat)/2))**2) + (math.cos(lat1r))*(math.cos(lat2r))*((math.sin((delta_lon)/2))**2)\n",
    "    distance = 2*R*math.asin(hav**0.5)\n",
    "    return distance"
   ]
  },
  {
   "cell_type": "code",
   "execution_count": 243,
   "id": "7fd6ab61-15e6-4d8a-b5f9-a8d5576ea8b8",
   "metadata": {},
   "outputs": [],
   "source": [
    "# Made with manual harversine function\n",
    "def compute_total_distance(route_df):\n",
    "    total_distance = 0  #initialize total distance\n",
    "\n",
    "    # Loop through each pair of consecutive locations in the route\n",
    "    for i in range(len(route_df) - 1):\n",
    "        lat1 = route_df.loc[i, 'latitude']\n",
    "        lon1 = route_df.loc[i, 'longitude'] # Get the coordinates for the current location\n",
    "        lat2 = route_df.loc[i+1, 'latitude']\n",
    "        lon2 = route_df.loc[i+1, 'longitude'] # Get the coordinates of the next location in the route\n",
    "        total_distance += distance(lat1, lon1, lat2, lon2) # Calculate the distance between loc1 and loc2 using haversine formula\n",
    "    return total_distance  # Return total accumulated distance for the route"
   ]
  },
  {
   "cell_type": "code",
   "execution_count": 244,
   "id": "71f4d65b-f1fb-49a3-940a-844cd058f101",
   "metadata": {},
   "outputs": [
    {
     "name": "stdout",
     "output_type": "stream",
     "text": [
      "Baseline Random Route Total Distance: 5908.99 km\n"
     ]
    }
   ],
   "source": [
    "# Calculate distance for the random baseline route\n",
    "baseline_distance = compute_total_distance(baseline_route)\n",
    "\n",
    "print(f\"Baseline Random Route Total Distance: {baseline_distance:.2f} km\")"
   ]
  },
  {
   "cell_type": "markdown",
   "id": "ff0fb90a-e459-48a9-8841-60936fe668aa",
   "metadata": {},
   "source": [
    "### 2.2 Optimized Model"
   ]
  },
  {
   "cell_type": "markdown",
   "id": "9be5961a-4607-4847-96a5-99d960fdd97a",
   "metadata": {},
   "source": [
    "The next step is to create a method that improves the route by reducing the total distance traveled. Here, the total distance acts as the objective function, and our aim is to minimize it. We plan to build an algorithm that chooses each subsequent stop based on proximity, making sure every landmark is visited only once.\n",
    "\n",
    "Once the optimization is complete, we will calculate the total distance of the optimized route and record the time required to generate it. To clearly show the impact of the optimization, both the original baseline route and the optimized route will be displayed side by side for comparison.\n",
    "\n",
    "-------"
   ]
  },
  {
   "cell_type": "markdown",
   "id": "d972d418-629b-40b8-a6de-fbda7f32805e",
   "metadata": {},
   "source": [
    "The \"best_route\" function begins by accepting latitude and longitude coordinates and creates a single-row DataFrame that places those values in the appropriate columns, while the remaining fields are filled with placeholder data. This row acts as the designated starting location. A duplicate of this DataFrame is also prepared to represent the ending location.\n",
    "\n",
    "To explore all possible travel routes, the function generates a list of every permutation of the landmarks' index positions from the main DataFrame. For each possible arrangement, a temporary route is created by reordering the landmarks according to the current permutation. This reordered DataFrame is placed between the starting and ending point DataFrames and combined into a single route with the index reset. The total travel distance for this combined route is then calculated using the compute_total_distance function.\n",
    "\n",
    "After each distance is computed, it is compared against the currently recorded best distance, and if it is shorter, both the distance and the corresponding route are saved. The function keeps track of the optimal route by recording the landmark sequence in a clean, readable list. Once all permutations have been checked, the function returns the shortest distance found and the final ordered list of landmarks representing the most efficient route.\n",
    "\n",
    "**Be aware that the longitudes for American locations are \"West\" direction. Therefore they should be negative values.**"
   ]
  },
  {
   "cell_type": "code",
   "execution_count": 248,
   "id": "9aa15abb",
   "metadata": {},
   "outputs": [],
   "source": [
    "# Function to calculate total distance and best route by latitude and longitude inputs\n",
    "def best_route(lat, lon):\n",
    "    best_dist = 1000000 #about half the earth's circumference\n",
    "    best_route = None\n",
    "    location_order = []\n",
    "    cols = df.columns\n",
    "    fill = [['home', 'home', 'home', lat, lon, 'home', 0, 0, 0, 0, 0, 0, 0, 0]]\n",
    "    home = pd.DataFrame(data=fill, columns=cols)\n",
    "    home2 = home.copy()\n",
    "    permutations = list(itertools.permutations(df.index))\n",
    "    for i, perm in enumerate(permutations):\n",
    "        route = df.loc[list(perm)].reset_index(drop=True)\n",
    "        complete_route = pd.concat([home, route, home2], axis='index').reset_index(drop=True)\n",
    "        dist = compute_total_distance(complete_route)\n",
    "        if dist < best_dist:\n",
    "            best_dist = dist\n",
    "            best_route = complete_route\n",
    "    for p in best_route['landmark']:\n",
    "        location_order.append(p)\n",
    "    return f\"Total Distance: {best_dist}, Best Route {location_order}\""
   ]
  },
  {
   "cell_type": "code",
   "execution_count": 249,
   "id": "f6507f7b-2569-4150-897c-b8f55655f821",
   "metadata": {},
   "outputs": [
    {
     "name": "stdout",
     "output_type": "stream",
     "text": [
      "Total Distance: 9841.965626634103, Best Route ['home', 'gateway_arch', 'mount_rushmore', 'golden_gate_bridge', 'disney_world', 'statue_of_liberty', 'home']\n",
      "The model calculated the optimal route in 0.16 seconds.\n"
     ]
    }
   ],
   "source": [
    "start_time = time.time()\n",
    "\n",
    "# Test locations\n",
    "print(best_route(40.0061, -83.0283)) # Ohio State University\n",
    "\n",
    "end_time = time.time()\n",
    "\n",
    "elapsed_time = end_time - start_time\n",
    "print(f\"The model calculated the optimal route in {elapsed_time:.2f} seconds.\")"
   ]
  },
  {
   "cell_type": "code",
   "execution_count": 250,
   "id": "ff3f46aa-99ad-4096-afdd-585a50792fee",
   "metadata": {},
   "outputs": [
    {
     "name": "stdout",
     "output_type": "stream",
     "text": [
      "Total Distance: 10493.58176190254, Best Route ['home', 'mount_rushmore', 'gateway_arch', 'statue_of_liberty', 'disney_world', 'golden_gate_bridge', 'home']\n",
      "The model calculated the optimal route in 0.17 seconds.\n"
     ]
    }
   ],
   "source": [
    "start_time = time.time()\n",
    "\n",
    "# Test locations\n",
    "print(best_route(45.5152, -122.6784)) #Portland, Oregon\n",
    "\n",
    "end_time = time.time()\n",
    "\n",
    "elapsed_time = end_time - start_time\n",
    "print(f\"The model calculated the optimal route in {elapsed_time:.2f} seconds.\")"
   ]
  },
  {
   "cell_type": "code",
   "execution_count": 251,
   "id": "27bb5dba-0765-4101-b1b4-7179d145778b",
   "metadata": {},
   "outputs": [
    {
     "name": "stdout",
     "output_type": "stream",
     "text": [
      "Total Distance: 9921.111202227685, Best Route ['home', 'golden_gate_bridge', 'mount_rushmore', 'gateway_arch', 'statue_of_liberty', 'disney_world', 'home']\n",
      "The model calculated the optimal route in 0.17 seconds.\n"
     ]
    }
   ],
   "source": [
    "start_time = time.time()\n",
    "\n",
    "# Test locations\n",
    "print(best_route(29.7601, -95.3701)) #Houston, Texas\n",
    "\n",
    "end_time = time.time()\n",
    "\n",
    "elapsed_time = end_time - start_time\n",
    "print(f\"The model calculated the optimal route in {elapsed_time:.2f} seconds.\")"
   ]
  },
  {
   "cell_type": "code",
   "execution_count": 252,
   "id": "2e2555ba-45f1-420a-9b12-1b1a9d7508ec",
   "metadata": {},
   "outputs": [
    {
     "name": "stdout",
     "output_type": "stream",
     "text": [
      "Total Distance: 10013.82989959652, Best Route ['home', 'golden_gate_bridge', 'mount_rushmore', 'gateway_arch', 'statue_of_liberty', 'disney_world', 'home']\n",
      "The model calculated the optimal route in 0.16 seconds.\n"
     ]
    }
   ],
   "source": [
    "start_time = time.time()\n",
    "\n",
    "# Test locations\n",
    "print(best_route(34.0549, -118.2426)) #Los Angeles, California\n",
    "\n",
    "end_time = time.time()\n",
    "\n",
    "elapsed_time = end_time - start_time\n",
    "print(f\"The model calculated the optimal route in {elapsed_time:.2f} seconds.\")"
   ]
  },
  {
   "cell_type": "markdown",
   "id": "1012afe0-0058-4620-8728-2638ccfd5cb0",
   "metadata": {},
   "source": [
    "<div style=\"background-color: #d4edda; padding: 10px; border-left: 5px solid green;\">\n",
    "For an accurate comparision, we updated the baseline model to have the same 'home', starting and ending point, as the 'best_route' model.\n",
    "</div>"
   ]
  },
  {
   "cell_type": "code",
   "execution_count": 254,
   "id": "96ee525d-9ec6-4ed8-acf6-46c5bdd98636",
   "metadata": {},
   "outputs": [
    {
     "data": {
      "text/html": [
       "<div>\n",
       "<style scoped>\n",
       "    .dataframe tbody tr th:only-of-type {\n",
       "        vertical-align: middle;\n",
       "    }\n",
       "\n",
       "    .dataframe tbody tr th {\n",
       "        vertical-align: top;\n",
       "    }\n",
       "\n",
       "    .dataframe thead th {\n",
       "        text-align: right;\n",
       "    }\n",
       "</style>\n",
       "<table border=\"1\" class=\"dataframe\">\n",
       "  <thead>\n",
       "    <tr style=\"text-align: right;\">\n",
       "      <th></th>\n",
       "      <th>From</th>\n",
       "      <th>To</th>\n",
       "      <th>Distance (km)</th>\n",
       "    </tr>\n",
       "  </thead>\n",
       "  <tbody>\n",
       "    <tr>\n",
       "      <th>0</th>\n",
       "      <td>statue_of_liberty</td>\n",
       "      <td>disney_world</td>\n",
       "      <td>1530.22</td>\n",
       "    </tr>\n",
       "    <tr>\n",
       "      <th>1</th>\n",
       "      <td>disney_world</td>\n",
       "      <td>gateway_arch</td>\n",
       "      <td>1389.59</td>\n",
       "    </tr>\n",
       "    <tr>\n",
       "      <th>2</th>\n",
       "      <td>gateway_arch</td>\n",
       "      <td>mount_rushmore</td>\n",
       "      <td>1252.02</td>\n",
       "    </tr>\n",
       "    <tr>\n",
       "      <th>3</th>\n",
       "      <td>mount_rushmore</td>\n",
       "      <td>golden_gate_bridge</td>\n",
       "      <td>1730.68</td>\n",
       "    </tr>\n",
       "  </tbody>\n",
       "</table>\n",
       "</div>"
      ],
      "text/plain": [
       "                From                  To  Distance (km)\n",
       "0  statue_of_liberty        disney_world        1530.22\n",
       "1       disney_world        gateway_arch        1389.59\n",
       "2       gateway_arch      mount_rushmore        1252.02\n",
       "3     mount_rushmore  golden_gate_bridge        1730.68"
      ]
     },
     "execution_count": 254,
     "metadata": {},
     "output_type": "execute_result"
    }
   ],
   "source": [
    "# THIS CODE WILL BE EDITED TO HAVE A HOME STARTING AND ENDING POINT\n",
    "# View the baseline route\n",
    "baseline_route\n",
    "\n",
    "# Create an empty list \n",
    "distance_list = []\n",
    "\n",
    "# Loop through each pair of consecutive landmarks for the baseline route\n",
    "for i in range(len(baseline_route) - 1):\n",
    "    landmark_from = baseline_route.loc[i, 'landmark']\n",
    "    landmark_to = baseline_route.loc[i + 1, 'landmark']\n",
    "    \n",
    "    loc1 = (baseline_route.loc[i, 'latitude'], baseline_route.loc[i, 'longitude'])\n",
    "    loc2 = (baseline_route.loc[i + 1, 'latitude'], baseline_route.loc[i + 1, 'longitude'])\n",
    "    \n",
    "    distance_km = haversine(loc1, loc2)\n",
    "    \n",
    "    # Append results as a dictionary\n",
    "    distance_list.append({\n",
    "        'From': landmark_from,\n",
    "        'To': landmark_to,\n",
    "        'Distance (km)': round(distance_km, 2)\n",
    "    })\n",
    "\n",
    "# Convert the list to a DataFrame\n",
    "baseline_distances_df = pd.DataFrame(distance_list)\n",
    "\n",
    "# Display the DataFrame\n",
    "baseline_distances_df"
   ]
  },
  {
   "cell_type": "markdown",
   "id": "38d694cc-7ad6-4557-845a-ad2f1da38a30",
   "metadata": {},
   "source": [
    "To improve the model, we will add a geocoder converter that takes an address as input then converts it into latitude and longitude. Then, the function will convert the address into latitude and longitude and return the optimized route and total distance."
   ]
  },
  {
   "cell_type": "code",
   "execution_count": 256,
   "id": "b89f08f2-14ce-43fa-a51d-86e4a4f5a5f9",
   "metadata": {},
   "outputs": [],
   "source": [
    "# Converts address to latitude & longitude using Geopy\n",
    "def geocode_address(address):\n",
    "    geolocator = Nominatim(user_agent=\"brute_force_route_optimizer\")\n",
    "    location = geolocator.geocode(address)\n",
    "    if location:\n",
    "        return location.latitude, location.longitude\n",
    "    else:\n",
    "        raise ValueError(f\"Address not found: {address}\")"
   ]
  },
  {
   "cell_type": "code",
   "execution_count": 257,
   "id": "6624e798-16a5-405c-8588-abc0d8383608",
   "metadata": {},
   "outputs": [],
   "source": [
    "# Takes address as an input and outputs total distance and the best route based off the input\n",
    "def best_route1(address, df): #input of latitude and longitude coordinates\n",
    "\n",
    "    # FIRST, Geocode the input for the address\n",
    "    lat, lon = geocode_address(address) \n",
    "    \n",
    "    best_dist = 1000000 # a million for comparison\n",
    "    best_route = None # setting a variable for best route\n",
    "    location_order = [] # blank list to append to later for neatness\n",
    "    \n",
    "    cols = df.columns # acquiring columns from location dataframe\n",
    "\n",
    "    # SECOND, create dataframe row for home/starting point\n",
    "    fill = [['home', 'home', 'home', lat, lon, 'home', 0, 0, 0, 0, 0, 0, 0, 0]] #list of values for dataframe creation\n",
    "    home = pd.DataFrame(data=fill, columns=cols) #home dataframe\n",
    "    home2 = home.copy() #copy\n",
    "    \n",
    "    # THIRD, check all permutations of landmark order\n",
    "    permutations = list(itertools.permutations(df.index)) #all permutations of index\n",
    "    \n",
    "    for i, perm in enumerate(permutations): # for loop to try all permutations with home location at start and finish\n",
    "        route = df.loc[list(perm)].reset_index(drop=True) # new order of df\n",
    "        complete_route = pd.concat([home, route, home2], axis='index').reset_index(drop=True) # concat\n",
    "        dist = compute_total_distance(complete_route) # calculate total distance\n",
    "        if dist < best_dist: # check if the distance is shorter\n",
    "            best_dist = dist\n",
    "            best_route = complete_route\n",
    "    \n",
    "    # FOURTH, extract order of landmark names for display\n",
    "    for p in best_route['landmark']: # appending loactions for neatness\n",
    "        location_order.append(p)\n",
    "    \n",
    "    return f\"Total Distance: {best_dist}, Best Route {location_order}\""
   ]
  },
  {
   "cell_type": "code",
   "execution_count": 258,
   "id": "1aa4a6d0-dea0-47a2-a5bd-a8f34010914d",
   "metadata": {},
   "outputs": [
    {
     "name": "stdout",
     "output_type": "stream",
     "text": [
      "Total Distance: 9848.683985131469, Best Route ['home', 'gateway_arch', 'statue_of_liberty', 'disney_world', 'golden_gate_bridge', 'mount_rushmore', 'home']\n",
      "The model calculated the optimal route in 1.27 seconds.\n"
     ]
    }
   ],
   "source": [
    "# Geocoder works best with street address, city and state at a minimum\n",
    "address = '1417 Columbus Drive St. Louis Mo'\n",
    "\n",
    "start_time = time.time()\n",
    "\n",
    "result = best_route1(address, df)\n",
    "print(result)\n",
    "\n",
    "end_time = time.time()\n",
    "\n",
    "elapsed_time = end_time - start_time\n",
    "print(f\"The model calculated the optimal route in {elapsed_time:.2f} seconds.\")"
   ]
  },
  {
   "cell_type": "markdown",
   "id": "0b2533f0-e98e-421f-995b-fd8fb4768d9a",
   "metadata": {},
   "source": [
    "## 3. Visualizations"
   ]
  },
  {
   "cell_type": "markdown",
   "id": "8a6002ba-ad55-4ff9-a70b-340730c3726d",
   "metadata": {},
   "source": [
    "The visualizations for this project are designed to be interactive, allowing users to engage with the data through elements like hover pop-ups. These features help users explore location statistics, travel times, and route details more effectively. Using libraries such as Plotly, the visualizations will highlight key information, including a map that displays the landmarks and the optimized travel route. They will also show both the initial and optimized total distances, along with the time the model needed to calculate the best route, giving users a clear comparison of the model’s performance."
   ]
  },
  {
   "cell_type": "markdown",
   "id": "f9fb818f-c634-4a2b-b38c-151850719c65",
   "metadata": {},
   "source": [
    "### 3.1 Baseline Route Visualization"
   ]
  },
  {
   "cell_type": "markdown",
   "id": "710a1646-c77c-48a5-97cc-7ba41c55cc0f",
   "metadata": {},
   "source": [
    "This visualization presents the baseline route, featuring interactive pop-ups that appear when hovering over each landmark. The pop-ups display the landmark's name, the next destination in the route, and the distance between them."
   ]
  },
  {
   "cell_type": "code",
   "execution_count": 263,
   "id": "36dedb3b-83fb-4fb6-a32d-ca478ff9b9d6",
   "metadata": {
    "scrolled": true
   },
   "outputs": [
    {
     "data": {
      "application/vnd.plotly.v1+json": {
       "config": {
        "plotlyServerURL": "https://plot.ly"
       },
       "data": [
        {
         "hoverinfo": "text",
         "lat": {
          "_inputArray": {
           "0": 40.6892,
           "1": 28.3852,
           "2": 38.6247,
           "3": 43.8791,
           "4": 37.8199,
           "bdata": "nDOitDdYREBRa5p3nGI8QNXnaiv2T0NA8fRKWYbwRUDF/rJ78uhCQA==",
           "dtype": "f8",
           "shape": "5"
          },
          "bdata": "nDOitDdYREBRa5p3nGI8QNXnaiv2T0NA8fRKWYbwRUDF/rJ78uhCQA==",
          "dtype": "f8"
         },
         "line": {
          "color": "blue",
          "width": 2
         },
         "lon": {
          "_inputArray": {
           "0": -74.0445,
           "1": -81.5639,
           "2": -90.1848,
           "3": -103.4591,
           "4": -122.4783,
           "bdata": "AiuHFtmCUsC5jQbwFmRUwEATYcPTi1bA/mX35GHdWcBRa5p3nJ5ewA==",
           "dtype": "f8",
           "shape": "5"
          },
          "bdata": "AiuHFtmCUsC5jQbwFmRUwEATYcPTi1bA/mX35GHdWcBRa5p3nJ5ewA==",
          "dtype": "f8"
         },
         "marker": {
          "color": "blue",
          "size": 10
         },
         "mode": "lines+markers+text",
         "name": "Random Route",
         "text": [
          "statue_of_liberty",
          "disney_world",
          "gateway_arch",
          "mount_rushmore",
          "golden_gate_bridge"
         ],
         "type": "scattermap"
        },
        {
         "hoverinfo": "text",
         "lat": [
          40.6892,
          28.3852
         ],
         "line": {
          "color": "blue",
          "width": 2
         },
         "lon": [
          -74.0445,
          -81.5639
         ],
         "mode": "lines",
         "showlegend": false,
         "text": [
          "statue_of_liberty → disney_world<br>Distance: 1530.22 km"
         ],
         "type": "scattermap"
        },
        {
         "hoverinfo": "text",
         "lat": [
          28.3852,
          38.6247
         ],
         "line": {
          "color": "blue",
          "width": 2
         },
         "lon": [
          -81.5639,
          -90.1848
         ],
         "mode": "lines",
         "showlegend": false,
         "text": [
          "disney_world → gateway_arch<br>Distance: 1389.59 km"
         ],
         "type": "scattermap"
        },
        {
         "hoverinfo": "text",
         "lat": [
          38.6247,
          43.8791
         ],
         "line": {
          "color": "blue",
          "width": 2
         },
         "lon": [
          -90.1848,
          -103.4591
         ],
         "mode": "lines",
         "showlegend": false,
         "text": [
          "gateway_arch → mount_rushmore<br>Distance: 1252.02 km"
         ],
         "type": "scattermap"
        },
        {
         "hoverinfo": "text",
         "lat": [
          43.8791,
          37.8199
         ],
         "line": {
          "color": "blue",
          "width": 2
         },
         "lon": [
          -103.4591,
          -122.4783
         ],
         "mode": "lines",
         "showlegend": false,
         "text": [
          "mount_rushmore → golden_gate_bridge<br>Distance: 1730.68 km"
         ],
         "type": "scattermap"
        }
       ],
       "layout": {
        "autosize": true,
        "map": {},
        "mapbox": {
         "center": {
          "lat": 37.879619999999996,
          "lon": -94.34612
         },
         "style": "open-street-map",
         "zoom": 3
        },
        "template": {
         "data": {
          "bar": [
           {
            "error_x": {
             "color": "#2a3f5f"
            },
            "error_y": {
             "color": "#2a3f5f"
            },
            "marker": {
             "line": {
              "color": "#E5ECF6",
              "width": 0.5
             },
             "pattern": {
              "fillmode": "overlay",
              "size": 10,
              "solidity": 0.2
             }
            },
            "type": "bar"
           }
          ],
          "barpolar": [
           {
            "marker": {
             "line": {
              "color": "#E5ECF6",
              "width": 0.5
             },
             "pattern": {
              "fillmode": "overlay",
              "size": 10,
              "solidity": 0.2
             }
            },
            "type": "barpolar"
           }
          ],
          "carpet": [
           {
            "aaxis": {
             "endlinecolor": "#2a3f5f",
             "gridcolor": "white",
             "linecolor": "white",
             "minorgridcolor": "white",
             "startlinecolor": "#2a3f5f"
            },
            "baxis": {
             "endlinecolor": "#2a3f5f",
             "gridcolor": "white",
             "linecolor": "white",
             "minorgridcolor": "white",
             "startlinecolor": "#2a3f5f"
            },
            "type": "carpet"
           }
          ],
          "choropleth": [
           {
            "colorbar": {
             "outlinewidth": 0,
             "ticks": ""
            },
            "type": "choropleth"
           }
          ],
          "contour": [
           {
            "colorbar": {
             "outlinewidth": 0,
             "ticks": ""
            },
            "colorscale": [
             [
              0,
              "#0d0887"
             ],
             [
              0.1111111111111111,
              "#46039f"
             ],
             [
              0.2222222222222222,
              "#7201a8"
             ],
             [
              0.3333333333333333,
              "#9c179e"
             ],
             [
              0.4444444444444444,
              "#bd3786"
             ],
             [
              0.5555555555555556,
              "#d8576b"
             ],
             [
              0.6666666666666666,
              "#ed7953"
             ],
             [
              0.7777777777777778,
              "#fb9f3a"
             ],
             [
              0.8888888888888888,
              "#fdca26"
             ],
             [
              1,
              "#f0f921"
             ]
            ],
            "type": "contour"
           }
          ],
          "contourcarpet": [
           {
            "colorbar": {
             "outlinewidth": 0,
             "ticks": ""
            },
            "type": "contourcarpet"
           }
          ],
          "heatmap": [
           {
            "colorbar": {
             "outlinewidth": 0,
             "ticks": ""
            },
            "colorscale": [
             [
              0,
              "#0d0887"
             ],
             [
              0.1111111111111111,
              "#46039f"
             ],
             [
              0.2222222222222222,
              "#7201a8"
             ],
             [
              0.3333333333333333,
              "#9c179e"
             ],
             [
              0.4444444444444444,
              "#bd3786"
             ],
             [
              0.5555555555555556,
              "#d8576b"
             ],
             [
              0.6666666666666666,
              "#ed7953"
             ],
             [
              0.7777777777777778,
              "#fb9f3a"
             ],
             [
              0.8888888888888888,
              "#fdca26"
             ],
             [
              1,
              "#f0f921"
             ]
            ],
            "type": "heatmap"
           }
          ],
          "histogram": [
           {
            "marker": {
             "pattern": {
              "fillmode": "overlay",
              "size": 10,
              "solidity": 0.2
             }
            },
            "type": "histogram"
           }
          ],
          "histogram2d": [
           {
            "colorbar": {
             "outlinewidth": 0,
             "ticks": ""
            },
            "colorscale": [
             [
              0,
              "#0d0887"
             ],
             [
              0.1111111111111111,
              "#46039f"
             ],
             [
              0.2222222222222222,
              "#7201a8"
             ],
             [
              0.3333333333333333,
              "#9c179e"
             ],
             [
              0.4444444444444444,
              "#bd3786"
             ],
             [
              0.5555555555555556,
              "#d8576b"
             ],
             [
              0.6666666666666666,
              "#ed7953"
             ],
             [
              0.7777777777777778,
              "#fb9f3a"
             ],
             [
              0.8888888888888888,
              "#fdca26"
             ],
             [
              1,
              "#f0f921"
             ]
            ],
            "type": "histogram2d"
           }
          ],
          "histogram2dcontour": [
           {
            "colorbar": {
             "outlinewidth": 0,
             "ticks": ""
            },
            "colorscale": [
             [
              0,
              "#0d0887"
             ],
             [
              0.1111111111111111,
              "#46039f"
             ],
             [
              0.2222222222222222,
              "#7201a8"
             ],
             [
              0.3333333333333333,
              "#9c179e"
             ],
             [
              0.4444444444444444,
              "#bd3786"
             ],
             [
              0.5555555555555556,
              "#d8576b"
             ],
             [
              0.6666666666666666,
              "#ed7953"
             ],
             [
              0.7777777777777778,
              "#fb9f3a"
             ],
             [
              0.8888888888888888,
              "#fdca26"
             ],
             [
              1,
              "#f0f921"
             ]
            ],
            "type": "histogram2dcontour"
           }
          ],
          "mesh3d": [
           {
            "colorbar": {
             "outlinewidth": 0,
             "ticks": ""
            },
            "type": "mesh3d"
           }
          ],
          "parcoords": [
           {
            "line": {
             "colorbar": {
              "outlinewidth": 0,
              "ticks": ""
             }
            },
            "type": "parcoords"
           }
          ],
          "pie": [
           {
            "automargin": true,
            "type": "pie"
           }
          ],
          "scatter": [
           {
            "fillpattern": {
             "fillmode": "overlay",
             "size": 10,
             "solidity": 0.2
            },
            "type": "scatter"
           }
          ],
          "scatter3d": [
           {
            "line": {
             "colorbar": {
              "outlinewidth": 0,
              "ticks": ""
             }
            },
            "marker": {
             "colorbar": {
              "outlinewidth": 0,
              "ticks": ""
             }
            },
            "type": "scatter3d"
           }
          ],
          "scattercarpet": [
           {
            "marker": {
             "colorbar": {
              "outlinewidth": 0,
              "ticks": ""
             }
            },
            "type": "scattercarpet"
           }
          ],
          "scattergeo": [
           {
            "marker": {
             "colorbar": {
              "outlinewidth": 0,
              "ticks": ""
             }
            },
            "type": "scattergeo"
           }
          ],
          "scattergl": [
           {
            "marker": {
             "colorbar": {
              "outlinewidth": 0,
              "ticks": ""
             }
            },
            "type": "scattergl"
           }
          ],
          "scattermap": [
           {
            "marker": {
             "colorbar": {
              "outlinewidth": 0,
              "ticks": ""
             }
            },
            "type": "scattermap"
           }
          ],
          "scattermapbox": [
           {
            "marker": {
             "colorbar": {
              "outlinewidth": 0,
              "ticks": ""
             }
            },
            "type": "scattermapbox"
           }
          ],
          "scatterpolar": [
           {
            "marker": {
             "colorbar": {
              "outlinewidth": 0,
              "ticks": ""
             }
            },
            "type": "scatterpolar"
           }
          ],
          "scatterpolargl": [
           {
            "marker": {
             "colorbar": {
              "outlinewidth": 0,
              "ticks": ""
             }
            },
            "type": "scatterpolargl"
           }
          ],
          "scatterternary": [
           {
            "marker": {
             "colorbar": {
              "outlinewidth": 0,
              "ticks": ""
             }
            },
            "type": "scatterternary"
           }
          ],
          "surface": [
           {
            "colorbar": {
             "outlinewidth": 0,
             "ticks": ""
            },
            "colorscale": [
             [
              0,
              "#0d0887"
             ],
             [
              0.1111111111111111,
              "#46039f"
             ],
             [
              0.2222222222222222,
              "#7201a8"
             ],
             [
              0.3333333333333333,
              "#9c179e"
             ],
             [
              0.4444444444444444,
              "#bd3786"
             ],
             [
              0.5555555555555556,
              "#d8576b"
             ],
             [
              0.6666666666666666,
              "#ed7953"
             ],
             [
              0.7777777777777778,
              "#fb9f3a"
             ],
             [
              0.8888888888888888,
              "#fdca26"
             ],
             [
              1,
              "#f0f921"
             ]
            ],
            "type": "surface"
           }
          ],
          "table": [
           {
            "cells": {
             "fill": {
              "color": "#EBF0F8"
             },
             "line": {
              "color": "white"
             }
            },
            "header": {
             "fill": {
              "color": "#C8D4E3"
             },
             "line": {
              "color": "white"
             }
            },
            "type": "table"
           }
          ]
         },
         "layout": {
          "annotationdefaults": {
           "arrowcolor": "#2a3f5f",
           "arrowhead": 0,
           "arrowwidth": 1
          },
          "autotypenumbers": "strict",
          "coloraxis": {
           "colorbar": {
            "outlinewidth": 0,
            "ticks": ""
           }
          },
          "colorscale": {
           "diverging": [
            [
             0,
             "#8e0152"
            ],
            [
             0.1,
             "#c51b7d"
            ],
            [
             0.2,
             "#de77ae"
            ],
            [
             0.3,
             "#f1b6da"
            ],
            [
             0.4,
             "#fde0ef"
            ],
            [
             0.5,
             "#f7f7f7"
            ],
            [
             0.6,
             "#e6f5d0"
            ],
            [
             0.7,
             "#b8e186"
            ],
            [
             0.8,
             "#7fbc41"
            ],
            [
             0.9,
             "#4d9221"
            ],
            [
             1,
             "#276419"
            ]
           ],
           "sequential": [
            [
             0,
             "#0d0887"
            ],
            [
             0.1111111111111111,
             "#46039f"
            ],
            [
             0.2222222222222222,
             "#7201a8"
            ],
            [
             0.3333333333333333,
             "#9c179e"
            ],
            [
             0.4444444444444444,
             "#bd3786"
            ],
            [
             0.5555555555555556,
             "#d8576b"
            ],
            [
             0.6666666666666666,
             "#ed7953"
            ],
            [
             0.7777777777777778,
             "#fb9f3a"
            ],
            [
             0.8888888888888888,
             "#fdca26"
            ],
            [
             1,
             "#f0f921"
            ]
           ],
           "sequentialminus": [
            [
             0,
             "#0d0887"
            ],
            [
             0.1111111111111111,
             "#46039f"
            ],
            [
             0.2222222222222222,
             "#7201a8"
            ],
            [
             0.3333333333333333,
             "#9c179e"
            ],
            [
             0.4444444444444444,
             "#bd3786"
            ],
            [
             0.5555555555555556,
             "#d8576b"
            ],
            [
             0.6666666666666666,
             "#ed7953"
            ],
            [
             0.7777777777777778,
             "#fb9f3a"
            ],
            [
             0.8888888888888888,
             "#fdca26"
            ],
            [
             1,
             "#f0f921"
            ]
           ]
          },
          "colorway": [
           "#636efa",
           "#EF553B",
           "#00cc96",
           "#ab63fa",
           "#FFA15A",
           "#19d3f3",
           "#FF6692",
           "#B6E880",
           "#FF97FF",
           "#FECB52"
          ],
          "font": {
           "color": "#2a3f5f"
          },
          "geo": {
           "bgcolor": "white",
           "lakecolor": "white",
           "landcolor": "#E5ECF6",
           "showlakes": true,
           "showland": true,
           "subunitcolor": "white"
          },
          "hoverlabel": {
           "align": "left"
          },
          "hovermode": "closest",
          "mapbox": {
           "style": "light"
          },
          "paper_bgcolor": "white",
          "plot_bgcolor": "#E5ECF6",
          "polar": {
           "angularaxis": {
            "gridcolor": "white",
            "linecolor": "white",
            "ticks": ""
           },
           "bgcolor": "#E5ECF6",
           "radialaxis": {
            "gridcolor": "white",
            "linecolor": "white",
            "ticks": ""
           }
          },
          "scene": {
           "xaxis": {
            "backgroundcolor": "#E5ECF6",
            "gridcolor": "white",
            "gridwidth": 2,
            "linecolor": "white",
            "showbackground": true,
            "ticks": "",
            "zerolinecolor": "white"
           },
           "yaxis": {
            "backgroundcolor": "#E5ECF6",
            "gridcolor": "white",
            "gridwidth": 2,
            "linecolor": "white",
            "showbackground": true,
            "ticks": "",
            "zerolinecolor": "white"
           },
           "zaxis": {
            "backgroundcolor": "#E5ECF6",
            "gridcolor": "white",
            "gridwidth": 2,
            "linecolor": "white",
            "showbackground": true,
            "ticks": "",
            "zerolinecolor": "white"
           }
          },
          "shapedefaults": {
           "line": {
            "color": "#2a3f5f"
           }
          },
          "ternary": {
           "aaxis": {
            "gridcolor": "white",
            "linecolor": "white",
            "ticks": ""
           },
           "baxis": {
            "gridcolor": "white",
            "linecolor": "white",
            "ticks": ""
           },
           "bgcolor": "#E5ECF6",
           "caxis": {
            "gridcolor": "white",
            "linecolor": "white",
            "ticks": ""
           }
          },
          "title": {
           "x": 0.05
          },
          "xaxis": {
           "automargin": true,
           "gridcolor": "white",
           "linecolor": "white",
           "ticks": "",
           "title": {
            "standoff": 15
           },
           "zerolinecolor": "white",
           "zerolinewidth": 2
          },
          "yaxis": {
           "automargin": true,
           "gridcolor": "white",
           "linecolor": "white",
           "ticks": "",
           "title": {
            "standoff": 15
           },
           "zerolinecolor": "white",
           "zerolinewidth": 2
          }
         }
        },
        "title": {
         "text": "Baseline Random Route — Total Distance: 5908.99 km"
        }
       }
      },
      "image/png": "[encoded data removed]"
     },
     "metadata": {},
     "output_type": "display_data"
    }
   ],
   "source": [
    "# Make a copy of the baseline route DataFrame \n",
    "route_map = baseline_route.copy()\n",
    "\n",
    "# Initialize plotly figure\n",
    "fig = go.Figure()\n",
    "\n",
    "# Add a trace (layer) to the figure for the route line and markers\n",
    "fig.add_trace(go.Scattermap(\n",
    "    mode=\"lines+markers+text\",  # Show lines connecting points, markers, and text labels\n",
    "    lon=route_map['longitude'],  # Longitude values for the map points\n",
    "    lat=route_map['latitude'],   # Latitude values for the map points\n",
    "    text=route_map['landmark'],  # Landmark names appear on hover\n",
    "    marker={'size': 10, 'color': 'blue'},  # Marker appearance \n",
    "    line={'width': 2, 'color': 'blue'},    # Line appearance \n",
    "    hoverinfo='text',  # Show text on hover\n",
    "    name='Random Route'  # Legend name\n",
    "))\n",
    "\n",
    "# Add line segments with hover text showing the distance\n",
    "for i in range(len(route_map) - 1):\n",
    "    loc1 = (route_map.loc[i, 'latitude'], route_map.loc[i, 'longitude'])\n",
    "    loc2 = (route_map.loc[i + 1, 'latitude'], route_map.loc[i + 1, 'longitude'])\n",
    "    \n",
    "    distance_km = haversine(loc1, loc2)\n",
    "    \n",
    "    fig.add_trace(go.Scattermap(\n",
    "        mode=\"lines\",\n",
    "        lon=[loc1[1], loc2[1]],\n",
    "        lat=[loc1[0], loc2[0]],\n",
    "        line={'width': 2, 'color': 'blue'},\n",
    "        text=[f\"{route_map.loc[i, 'landmark']} → {route_map.loc[i + 1, 'landmark']}<br>Distance: {distance_km:.2f} km\"],\n",
    "        hoverinfo='text',\n",
    "        showlegend=False\n",
    "    ))\n",
    "\n",
    "# Update the map layout\n",
    "fig.update_layout(\n",
    "    mapbox_style=\"open-street-map\",  # The base map style\n",
    "    mapbox_zoom=3,  # Set initial zoom level\n",
    "    mapbox_center={  # Center the map based on average of all latitudes and longitudes\n",
    "        \"lat\": route_map['latitude'].mean(),\n",
    "        \"lon\": route_map['longitude'].mean()\n",
    "    },\n",
    "    title=f\"Baseline Random Route — Total Distance: {baseline_distance:.2f} km\",  # Title includes total distance\n",
    "    height=600  # Set figure height\n",
    ")\n",
    "\n",
    "# Display the interactive map\n",
    "fig.show()\n",
    "\n",
    "# Save the figure as PNG\n",
    "fig.write_image('baseline_route.png')"
   ]
  },
  {
   "cell_type": "markdown",
   "id": "54d9281a-b216-4a28-a899-2b3355b1f09c",
   "metadata": {},
   "source": [
    "### 3.2 Optimized Route Visualization"
   ]
  },
  {
   "cell_type": "markdown",
   "id": "42dc7ee0-b302-4665-beac-7494c32947b1",
   "metadata": {},
   "source": [
    "This function calculates the optimized route by taking latitude and longitude coordinates of a predetermined starting and ending point called 'home'.  This function is the same as the best_route(lat,lon) function except it produces the output as a dataframe to be used solely for creating the visualization below. "
   ]
  },
  {
   "cell_type": "code",
   "execution_count": 266,
   "id": "ac8a7729-cfd1-4c92-9676-c7deb26cf439",
   "metadata": {},
   "outputs": [],
   "source": [
    "def best_route3(lat, lon):\n",
    "    best_dist = 1000000 #about half the earth's circumference\n",
    "    best_route = None\n",
    "    location_order = []\n",
    "    cols = df.columns\n",
    "    fill = [['home', 'home', 'home', lat, lon, 'home', 0, 0, 0, 0, 0, 0, 0, 0]]\n",
    "    home = pd.DataFrame(data=fill, columns=cols)\n",
    "    home2 = home.copy()\n",
    "    permutations = list(itertools.permutations(df.index))\n",
    "    for i, perm in enumerate(permutations):\n",
    "        route = df.loc[list(perm)].reset_index(drop=True)\n",
    "        complete_route = pd.concat([home, route, home2], axis='index').reset_index(drop=True)\n",
    "        dist = compute_total_distance(complete_route)\n",
    "        if dist < best_dist:\n",
    "            best_dist = dist\n",
    "            best_route = complete_route\n",
    "    return best_route"
   ]
  },
  {
   "cell_type": "code",
   "execution_count": 267,
   "id": "b4d77243-85a1-498e-8e7a-9e0e887d1485",
   "metadata": {},
   "outputs": [
    {
     "name": "stdout",
     "output_type": "stream",
     "text": [
      "The model calculated the optimal route in 0.16 seconds.\n"
     ]
    }
   ],
   "source": [
    "# Calculate the time the model needs to calculate the best route\n",
    "\n",
    "start_time = time.time()\n",
    "\n",
    "route_map = best_route3(40.0061, -83.0283)\n",
    "\n",
    "end_time = time.time()\n",
    "\n",
    "elapsed_time = end_time - start_time\n",
    "print(f\"The model calculated the optimal route in {elapsed_time:.2f} seconds.\")"
   ]
  },
  {
   "cell_type": "code",
   "execution_count": 268,
   "id": "ff55f779-00a1-41db-b614-8367faeff726",
   "metadata": {},
   "outputs": [
    {
     "data": {
      "application/vnd.plotly.v1+json": {
       "config": {
        "plotlyServerURL": "https://plot.ly"
       },
       "data": [
        {
         "hoverinfo": "text",
         "lat": {
          "_inputArray": {
           "0": 40.0061,
           "1": 38.6247,
           "2": 43.8791,
           "3": 37.8199,
           "4": 28.3852,
           "5": 40.6892,
           "6": 40.0061,
           "bdata": "uECC4scAREDV52or9k9DQPH0SlmG8EVAxf6ye/LoQkBRa5p3nGI8QJwzorQ3WERAuECC4scAREA=",
           "dtype": "f8",
           "shape": "7"
          },
          "bdata": "uECC4scAREDV52or9k9DQPH0SlmG8EVAxf6ye/LoQkBRa5p3nGI8QJwzorQ3WERAuECC4scAREA=",
          "dtype": "f8"
         },
         "line": {
          "color": "blue",
          "width": 2
         },
         "lon": {
          "_inputArray": {
           "0": -83.0283,
           "1": -90.1848,
           "2": -103.4591,
           "3": -122.4783,
           "4": -81.5639,
           "5": -74.0445,
           "6": -83.0283,
           "bdata": "hJ7Nqs/BVMBAE2HD04tWwP5l9+Rh3VnAUWuad5yeXsC5jQbwFmRUwAIrhxbZglLAhJ7Nqs/BVMA=",
           "dtype": "f8",
           "shape": "7"
          },
          "bdata": "hJ7Nqs/BVMBAE2HD04tWwP5l9+Rh3VnAUWuad5yeXsC5jQbwFmRUwAIrhxbZglLAhJ7Nqs/BVMA=",
          "dtype": "f8"
         },
         "marker": {
          "color": "blue",
          "size": 10
         },
         "mode": "lines+markers+text",
         "name": "Route",
         "text": [
          "home",
          "gateway_arch",
          "mount_rushmore",
          "golden_gate_bridge",
          "disney_world",
          "statue_of_liberty",
          "home"
         ],
         "type": "scattermap"
        },
        {
         "hoverinfo": "text",
         "lat": [
          40.0061,
          38.6247
         ],
         "line": {
          "color": "blue",
          "width": 2
         },
         "lon": [
          -83.0283,
          -90.1848
         ],
         "mode": "lines",
         "showlegend": false,
         "text": [
          "home → gateway_arch<br>Distance: 9841.97 km"
         ],
         "type": "scattermap"
        },
        {
         "hoverinfo": "text",
         "lat": [
          38.6247,
          43.8791
         ],
         "line": {
          "color": "blue",
          "width": 2
         },
         "lon": [
          -90.1848,
          -103.4591
         ],
         "mode": "lines",
         "showlegend": false,
         "text": [
          "gateway_arch → mount_rushmore<br>Distance: 9841.97 km"
         ],
         "type": "scattermap"
        },
        {
         "hoverinfo": "text",
         "lat": [
          43.8791,
          37.8199
         ],
         "line": {
          "color": "blue",
          "width": 2
         },
         "lon": [
          -103.4591,
          -122.4783
         ],
         "mode": "lines",
         "showlegend": false,
         "text": [
          "mount_rushmore → golden_gate_bridge<br>Distance: 9841.97 km"
         ],
         "type": "scattermap"
        },
        {
         "hoverinfo": "text",
         "lat": [
          37.8199,
          28.3852
         ],
         "line": {
          "color": "blue",
          "width": 2
         },
         "lon": [
          -122.4783,
          -81.5639
         ],
         "mode": "lines",
         "showlegend": false,
         "text": [
          "golden_gate_bridge → disney_world<br>Distance: 9841.97 km"
         ],
         "type": "scattermap"
        },
        {
         "hoverinfo": "text",
         "lat": [
          28.3852,
          40.6892
         ],
         "line": {
          "color": "blue",
          "width": 2
         },
         "lon": [
          -81.5639,
          -74.0445
         ],
         "mode": "lines",
         "showlegend": false,
         "text": [
          "disney_world → statue_of_liberty<br>Distance: 9841.97 km"
         ],
         "type": "scattermap"
        },
        {
         "hoverinfo": "text",
         "lat": [
          40.6892,
          40.0061
         ],
         "line": {
          "color": "blue",
          "width": 2
         },
         "lon": [
          -74.0445,
          -83.0283
         ],
         "mode": "lines",
         "showlegend": false,
         "text": [
          "statue_of_liberty → home<br>Distance: 9841.97 km"
         ],
         "type": "scattermap"
        }
       ],
       "layout": {
        "autosize": true,
        "map": {},
        "mapbox": {
         "center": {
          "lat": 38.487185714285715,
          "lon": -91.11245714285714
         },
         "style": "open-street-map",
         "zoom": 3
        },
        "template": {
         "data": {
          "bar": [
           {
            "error_x": {
             "color": "#2a3f5f"
            },
            "error_y": {
             "color": "#2a3f5f"
            },
            "marker": {
             "line": {
              "color": "#E5ECF6",
              "width": 0.5
             },
             "pattern": {
              "fillmode": "overlay",
              "size": 10,
              "solidity": 0.2
             }
            },
            "type": "bar"
           }
          ],
          "barpolar": [
           {
            "marker": {
             "line": {
              "color": "#E5ECF6",
              "width": 0.5
             },
             "pattern": {
              "fillmode": "overlay",
              "size": 10,
              "solidity": 0.2
             }
            },
            "type": "barpolar"
           }
          ],
          "carpet": [
           {
            "aaxis": {
             "endlinecolor": "#2a3f5f",
             "gridcolor": "white",
             "linecolor": "white",
             "minorgridcolor": "white",
             "startlinecolor": "#2a3f5f"
            },
            "baxis": {
             "endlinecolor": "#2a3f5f",
             "gridcolor": "white",
             "linecolor": "white",
             "minorgridcolor": "white",
             "startlinecolor": "#2a3f5f"
            },
            "type": "carpet"
           }
          ],
          "choropleth": [
           {
            "colorbar": {
             "outlinewidth": 0,
             "ticks": ""
            },
            "type": "choropleth"
           }
          ],
          "contour": [
           {
            "colorbar": {
             "outlinewidth": 0,
             "ticks": ""
            },
            "colorscale": [
             [
              0,
              "#0d0887"
             ],
             [
              0.1111111111111111,
              "#46039f"
             ],
             [
              0.2222222222222222,
              "#7201a8"
             ],
             [
              0.3333333333333333,
              "#9c179e"
             ],
             [
              0.4444444444444444,
              "#bd3786"
             ],
             [
              0.5555555555555556,
              "#d8576b"
             ],
             [
              0.6666666666666666,
              "#ed7953"
             ],
             [
              0.7777777777777778,
              "#fb9f3a"
             ],
             [
              0.8888888888888888,
              "#fdca26"
             ],
             [
              1,
              "#f0f921"
             ]
            ],
            "type": "contour"
           }
          ],
          "contourcarpet": [
           {
            "colorbar": {
             "outlinewidth": 0,
             "ticks": ""
            },
            "type": "contourcarpet"
           }
          ],
          "heatmap": [
           {
            "colorbar": {
             "outlinewidth": 0,
             "ticks": ""
            },
            "colorscale": [
             [
              0,
              "#0d0887"
             ],
             [
              0.1111111111111111,
              "#46039f"
             ],
             [
              0.2222222222222222,
              "#7201a8"
             ],
             [
              0.3333333333333333,
              "#9c179e"
             ],
             [
              0.4444444444444444,
              "#bd3786"
             ],
             [
              0.5555555555555556,
              "#d8576b"
             ],
             [
              0.6666666666666666,
              "#ed7953"
             ],
             [
              0.7777777777777778,
              "#fb9f3a"
             ],
             [
              0.8888888888888888,
              "#fdca26"
             ],
             [
              1,
              "#f0f921"
             ]
            ],
            "type": "heatmap"
           }
          ],
          "histogram": [
           {
            "marker": {
             "pattern": {
              "fillmode": "overlay",
              "size": 10,
              "solidity": 0.2
             }
            },
            "type": "histogram"
           }
          ],
          "histogram2d": [
           {
            "colorbar": {
             "outlinewidth": 0,
             "ticks": ""
            },
            "colorscale": [
             [
              0,
              "#0d0887"
             ],
             [
              0.1111111111111111,
              "#46039f"
             ],
             [
              0.2222222222222222,
              "#7201a8"
             ],
             [
              0.3333333333333333,
              "#9c179e"
             ],
             [
              0.4444444444444444,
              "#bd3786"
             ],
             [
              0.5555555555555556,
              "#d8576b"
             ],
             [
              0.6666666666666666,
              "#ed7953"
             ],
             [
              0.7777777777777778,
              "#fb9f3a"
             ],
             [
              0.8888888888888888,
              "#fdca26"
             ],
             [
              1,
              "#f0f921"
             ]
            ],
            "type": "histogram2d"
           }
          ],
          "histogram2dcontour": [
           {
            "colorbar": {
             "outlinewidth": 0,
             "ticks": ""
            },
            "colorscale": [
             [
              0,
              "#0d0887"
             ],
             [
              0.1111111111111111,
              "#46039f"
             ],
             [
              0.2222222222222222,
              "#7201a8"
             ],
             [
              0.3333333333333333,
              "#9c179e"
             ],
             [
              0.4444444444444444,
              "#bd3786"
             ],
             [
              0.5555555555555556,
              "#d8576b"
             ],
             [
              0.6666666666666666,
              "#ed7953"
             ],
             [
              0.7777777777777778,
              "#fb9f3a"
             ],
             [
              0.8888888888888888,
              "#fdca26"
             ],
             [
              1,
              "#f0f921"
             ]
            ],
            "type": "histogram2dcontour"
           }
          ],
          "mesh3d": [
           {
            "colorbar": {
             "outlinewidth": 0,
             "ticks": ""
            },
            "type": "mesh3d"
           }
          ],
          "parcoords": [
           {
            "line": {
             "colorbar": {
              "outlinewidth": 0,
              "ticks": ""
             }
            },
            "type": "parcoords"
           }
          ],
          "pie": [
           {
            "automargin": true,
            "type": "pie"
           }
          ],
          "scatter": [
           {
            "fillpattern": {
             "fillmode": "overlay",
             "size": 10,
             "solidity": 0.2
            },
            "type": "scatter"
           }
          ],
          "scatter3d": [
           {
            "line": {
             "colorbar": {
              "outlinewidth": 0,
              "ticks": ""
             }
            },
            "marker": {
             "colorbar": {
              "outlinewidth": 0,
              "ticks": ""
             }
            },
            "type": "scatter3d"
           }
          ],
          "scattercarpet": [
           {
            "marker": {
             "colorbar": {
              "outlinewidth": 0,
              "ticks": ""
             }
            },
            "type": "scattercarpet"
           }
          ],
          "scattergeo": [
           {
            "marker": {
             "colorbar": {
              "outlinewidth": 0,
              "ticks": ""
             }
            },
            "type": "scattergeo"
           }
          ],
          "scattergl": [
           {
            "marker": {
             "colorbar": {
              "outlinewidth": 0,
              "ticks": ""
             }
            },
            "type": "scattergl"
           }
          ],
          "scattermap": [
           {
            "marker": {
             "colorbar": {
              "outlinewidth": 0,
              "ticks": ""
             }
            },
            "type": "scattermap"
           }
          ],
          "scattermapbox": [
           {
            "marker": {
             "colorbar": {
              "outlinewidth": 0,
              "ticks": ""
             }
            },
            "type": "scattermapbox"
           }
          ],
          "scatterpolar": [
           {
            "marker": {
             "colorbar": {
              "outlinewidth": 0,
              "ticks": ""
             }
            },
            "type": "scatterpolar"
           }
          ],
          "scatterpolargl": [
           {
            "marker": {
             "colorbar": {
              "outlinewidth": 0,
              "ticks": ""
             }
            },
            "type": "scatterpolargl"
           }
          ],
          "scatterternary": [
           {
            "marker": {
             "colorbar": {
              "outlinewidth": 0,
              "ticks": ""
             }
            },
            "type": "scatterternary"
           }
          ],
          "surface": [
           {
            "colorbar": {
             "outlinewidth": 0,
             "ticks": ""
            },
            "colorscale": [
             [
              0,
              "#0d0887"
             ],
             [
              0.1111111111111111,
              "#46039f"
             ],
             [
              0.2222222222222222,
              "#7201a8"
             ],
             [
              0.3333333333333333,
              "#9c179e"
             ],
             [
              0.4444444444444444,
              "#bd3786"
             ],
             [
              0.5555555555555556,
              "#d8576b"
             ],
             [
              0.6666666666666666,
              "#ed7953"
             ],
             [
              0.7777777777777778,
              "#fb9f3a"
             ],
             [
              0.8888888888888888,
              "#fdca26"
             ],
             [
              1,
              "#f0f921"
             ]
            ],
            "type": "surface"
           }
          ],
          "table": [
           {
            "cells": {
             "fill": {
              "color": "#EBF0F8"
             },
             "line": {
              "color": "white"
             }
            },
            "header": {
             "fill": {
              "color": "#C8D4E3"
             },
             "line": {
              "color": "white"
             }
            },
            "type": "table"
           }
          ]
         },
         "layout": {
          "annotationdefaults": {
           "arrowcolor": "#2a3f5f",
           "arrowhead": 0,
           "arrowwidth": 1
          },
          "autotypenumbers": "strict",
          "coloraxis": {
           "colorbar": {
            "outlinewidth": 0,
            "ticks": ""
           }
          },
          "colorscale": {
           "diverging": [
            [
             0,
             "#8e0152"
            ],
            [
             0.1,
             "#c51b7d"
            ],
            [
             0.2,
             "#de77ae"
            ],
            [
             0.3,
             "#f1b6da"
            ],
            [
             0.4,
             "#fde0ef"
            ],
            [
             0.5,
             "#f7f7f7"
            ],
            [
             0.6,
             "#e6f5d0"
            ],
            [
             0.7,
             "#b8e186"
            ],
            [
             0.8,
             "#7fbc41"
            ],
            [
             0.9,
             "#4d9221"
            ],
            [
             1,
             "#276419"
            ]
           ],
           "sequential": [
            [
             0,
             "#0d0887"
            ],
            [
             0.1111111111111111,
             "#46039f"
            ],
            [
             0.2222222222222222,
             "#7201a8"
            ],
            [
             0.3333333333333333,
             "#9c179e"
            ],
            [
             0.4444444444444444,
             "#bd3786"
            ],
            [
             0.5555555555555556,
             "#d8576b"
            ],
            [
             0.6666666666666666,
             "#ed7953"
            ],
            [
             0.7777777777777778,
             "#fb9f3a"
            ],
            [
             0.8888888888888888,
             "#fdca26"
            ],
            [
             1,
             "#f0f921"
            ]
           ],
           "sequentialminus": [
            [
             0,
             "#0d0887"
            ],
            [
             0.1111111111111111,
             "#46039f"
            ],
            [
             0.2222222222222222,
             "#7201a8"
            ],
            [
             0.3333333333333333,
             "#9c179e"
            ],
            [
             0.4444444444444444,
             "#bd3786"
            ],
            [
             0.5555555555555556,
             "#d8576b"
            ],
            [
             0.6666666666666666,
             "#ed7953"
            ],
            [
             0.7777777777777778,
             "#fb9f3a"
            ],
            [
             0.8888888888888888,
             "#fdca26"
            ],
            [
             1,
             "#f0f921"
            ]
           ]
          },
          "colorway": [
           "#636efa",
           "#EF553B",
           "#00cc96",
           "#ab63fa",
           "#FFA15A",
           "#19d3f3",
           "#FF6692",
           "#B6E880",
           "#FF97FF",
           "#FECB52"
          ],
          "font": {
           "color": "#2a3f5f"
          },
          "geo": {
           "bgcolor": "white",
           "lakecolor": "white",
           "landcolor": "#E5ECF6",
           "showlakes": true,
           "showland": true,
           "subunitcolor": "white"
          },
          "hoverlabel": {
           "align": "left"
          },
          "hovermode": "closest",
          "mapbox": {
           "style": "light"
          },
          "paper_bgcolor": "white",
          "plot_bgcolor": "#E5ECF6",
          "polar": {
           "angularaxis": {
            "gridcolor": "white",
            "linecolor": "white",
            "ticks": ""
           },
           "bgcolor": "#E5ECF6",
           "radialaxis": {
            "gridcolor": "white",
            "linecolor": "white",
            "ticks": ""
           }
          },
          "scene": {
           "xaxis": {
            "backgroundcolor": "#E5ECF6",
            "gridcolor": "white",
            "gridwidth": 2,
            "linecolor": "white",
            "showbackground": true,
            "ticks": "",
            "zerolinecolor": "white"
           },
           "yaxis": {
            "backgroundcolor": "#E5ECF6",
            "gridcolor": "white",
            "gridwidth": 2,
            "linecolor": "white",
            "showbackground": true,
            "ticks": "",
            "zerolinecolor": "white"
           },
           "zaxis": {
            "backgroundcolor": "#E5ECF6",
            "gridcolor": "white",
            "gridwidth": 2,
            "linecolor": "white",
            "showbackground": true,
            "ticks": "",
            "zerolinecolor": "white"
           }
          },
          "shapedefaults": {
           "line": {
            "color": "#2a3f5f"
           }
          },
          "ternary": {
           "aaxis": {
            "gridcolor": "white",
            "linecolor": "white",
            "ticks": ""
           },
           "baxis": {
            "gridcolor": "white",
            "linecolor": "white",
            "ticks": ""
           },
           "bgcolor": "#E5ECF6",
           "caxis": {
            "gridcolor": "white",
            "linecolor": "white",
            "ticks": ""
           }
          },
          "title": {
           "x": 0.05
          },
          "xaxis": {
           "automargin": true,
           "gridcolor": "white",
           "linecolor": "white",
           "ticks": "",
           "title": {
            "standoff": 15
           },
           "zerolinecolor": "white",
           "zerolinewidth": 2
          },
          "yaxis": {
           "automargin": true,
           "gridcolor": "white",
           "linecolor": "white",
           "ticks": "",
           "title": {
            "standoff": 15
           },
           "zerolinecolor": "white",
           "zerolinewidth": 2
          }
         }
        },
        "title": {
         "text": "Optimized Route — Total Distance: 9841.97 km"
        }
       }
      }
     },
     "metadata": {},
     "output_type": "display_data"
    }
   ],
   "source": [
    "# Initialize plotly figure\n",
    "fig = go.Figure()\n",
    "\n",
    "# Add a trace (layer) to the figure for the route line and markers\n",
    "fig.add_trace(go.Scattermap(\n",
    "    mode=\"lines+markers+text\",  # Show lines connecting points, markers, and text labels\n",
    "    lon=route_map['longitude'],  # Longitude values for the map points\n",
    "    lat=route_map['latitude'],   # Latitude values for the map points\n",
    "    text=route_map['landmark'],  # Landmark names appear on hover\n",
    "    marker={'size': 10, 'color': 'blue'},  # Marker appearance \n",
    "    line={'width': 2, 'color': 'blue'},    # Line appearance \n",
    "    hoverinfo='text',  # Show text on hover\n",
    "    name='Route'  # Legend name\n",
    "))\n",
    "\n",
    "# Add line segments with hover text showing the distance\n",
    "for i in range(len(route_map) - 1):\n",
    "    lat1 = route_map.loc[i, 'latitude']\n",
    "    lon1 = route_map.loc[i, 'longitude'] \n",
    "    lat2 = route_map.loc[i+1, 'latitude']\n",
    "    lon2 = route_map.loc[i+1, 'longitude']\n",
    "    \n",
    "    distance_km = compute_total_distance(route_map)\n",
    "    \n",
    "    fig.add_trace(go.Scattermap(\n",
    "        mode=\"lines\",\n",
    "        lon=[lon1, lon2],\n",
    "        lat=[lat1, lat2],\n",
    "        line={'width': 2, 'color': 'blue'},\n",
    "        text=[f\"{route_map.loc[i, 'landmark']} → {route_map.loc[i + 1, 'landmark']}<br>Distance: {distance_km:.2f} km\"],\n",
    "        hoverinfo='text',\n",
    "        showlegend=False\n",
    "    ))\n",
    "\n",
    "# Update the map layout\n",
    "fig.update_layout(\n",
    "    mapbox_style=\"open-street-map\",  # The base map style\n",
    "    mapbox_zoom=3,  # Set initial zoom level\n",
    "    mapbox_center={  # Center the map based on average of all latitudes and longitudes\n",
    "        \"lat\": route_map['latitude'].mean(),\n",
    "        \"lon\": route_map['longitude'].mean()\n",
    "    },\n",
    "    title=f\"Optimized Route — Total Distance: {distance_km:.2f} km\",  # Title includes total distance\n",
    "    height=600  # Set figure height\n",
    ")\n",
    "\n",
    "# Display the interactive map\n",
    "fig.show()\n",
    "\n",
    "# Save the figure as PNG\n",
    "fig.write_image('optimized_route.png')"
   ]
  },
  {
   "cell_type": "markdown",
   "id": "d4c06028-990c-4cdf-9b8c-e7578d2c29c6",
   "metadata": {},
   "source": [
    "### 3.3 Baseline vs. Optimized Route Visualization"
   ]
  },
  {
   "cell_type": "code",
   "execution_count": 270,
   "id": "b1a92475-b6bb-41d4-a65d-6a470ef0d0a2",
   "metadata": {},
   "outputs": [],
   "source": [
    "#Visualization for baseline vs. optimized route that require a predetermined home starting and ending point"
   ]
  },
  {
   "cell_type": "markdown",
   "id": "fb74cd8a-22a8-4b40-8899-450f547e1990",
   "metadata": {},
   "source": [
    "### 3.4 Optimized Route w/ Geocoder Visualization"
   ]
  },
  {
   "cell_type": "markdown",
   "id": "bc7cc5a8-ccd4-4bb8-8718-16eba19c4a75",
   "metadata": {},
   "source": [
    "This is the final function that requires an address as input and returns the best route with total distance, a list of the order of the landmarks based on the best route, and a visualization of the best route that includes a pop-up when hovering over each landmark. The pop-up includes the landmark name, type, visit time, popularity score, and the distance to the next destination."
   ]
  },
  {
   "cell_type": "code",
   "execution_count": 273,
   "id": "275d0697-7183-45c6-82e4-cd264f56bb2f",
   "metadata": {},
   "outputs": [],
   "source": [
    "def best_route_map(address, df):\n",
    "    # Step 1 — Geocode address\n",
    "    lat, lon = geocode_address(address)\n",
    "    \n",
    "    best_dist = float('inf')\n",
    "    best_route_df = None\n",
    "    \n",
    "    cols = df.columns\n",
    "    home_data = [['home', 'home', 'home', lat, lon, 'home', 0, 0, 0, 0, 0, 0, 0, 0]]\n",
    "    home = pd.DataFrame(data=home_data, columns=cols)\n",
    "    home2 = home.copy()\n",
    "    \n",
    "    # Step 2 — Brute-force all permutations\n",
    "    permutations = list(itertools.permutations(df.index))\n",
    "    for perm in permutations:\n",
    "        route = df.loc[list(perm)].reset_index(drop=True)\n",
    "        complete_route = pd.concat([home, route, home2], ignore_index=True)\n",
    "        dist = compute_total_distance(complete_route)\n",
    "        if dist < best_dist:\n",
    "            best_dist = dist\n",
    "            best_route_df = complete_route\n",
    "\n",
    "    # Step 3 — Create hover text with next leg distance\n",
    "    hover_texts = []\n",
    "    for i in range(len(best_route_df)):\n",
    "        row = best_route_df.loc[i]\n",
    "        if i < len(best_route_df) - 1:\n",
    "            loc1 = (row['latitude'], row['longitude'])\n",
    "            loc2 = (best_route_df.loc[i + 1, 'latitude'], best_route_df.loc[i + 1, 'longitude'])\n",
    "            next_leg_distance = haversine(loc1, loc2)\n",
    "            next_leg_info = f\"Next Leg Distance: {next_leg_distance:.2f} km\"\n",
    "        else:\n",
    "            next_leg_info = \"End of Route\"\n",
    "        \n",
    "        hover_texts.append(\n",
    "            f\"<b>{row['landmark']}</b><br>\"\n",
    "            f\"Type: {row['type']}<br>\"\n",
    "            f\"Visit Time: {row['visit_time_(hrs)']} hrs<br>\"\n",
    "            f\"Popularity Score: {row['popularity']}<br>\"\n",
    "            f\"{next_leg_info}\"\n",
    "        )\n",
    "\n",
    "    # Step 4 — Plotting with Plotly\n",
    "    fig = go.Figure()\n",
    "\n",
    "    # Add lines between landmarks with distance info\n",
    "    for i in range(len(best_route_df) - 1):\n",
    "        loc1 = (best_route_df.loc[i, 'latitude'], best_route_df.loc[i, 'longitude'])\n",
    "        loc2 = (best_route_df.loc[i + 1, 'latitude'], best_route_df.loc[i + 1, 'longitude'])\n",
    "        fig.add_trace(go.Scattermap(\n",
    "            mode=\"lines\",\n",
    "            lon=[loc1[1], loc2[1]],\n",
    "            lat=[loc1[0], loc2[0]],\n",
    "            line={'width': 2, 'color': 'green'},\n",
    "            text=[f\"{best_route_df.loc[i, 'landmark']} → {best_route_df.loc[i + 1, 'landmark']}<br>Distance: {haversine(loc1, loc2):.2f} km\"],\n",
    "            hoverinfo='text',\n",
    "            showlegend=False\n",
    "        ))\n",
    "\n",
    "       # Add markers with hover text\n",
    "    fig.add_trace(go.Scattermap(\n",
    "        mode=\"markers\",  # Only markers, no always-visible text\n",
    "        lon=best_route_df['longitude'],\n",
    "        lat=best_route_df['latitude'],\n",
    "        text=hover_texts,\n",
    "        marker={'size': 10, 'color': 'green'},\n",
    "        hoverinfo='text',\n",
    "        name='Optimized Route'\n",
    "    ))\n",
    "    \n",
    "    fig.update_layout(\n",
    "        mapbox_style=\"open-street-map\",\n",
    "        mapbox_zoom=4,\n",
    "        mapbox_center={\"lat\": best_route_df['latitude'].mean(), \"lon\": best_route_df['longitude'].mean()},\n",
    "        title=f\"Optimized Route — Total Distance: {best_dist:.2f} km\",\n",
    "        height=600\n",
    "    )\n",
    "\n",
    "    fig.show()\n",
    "\n",
    "    # Step 5 — Return route summary\n",
    "    location_order = best_route_df['landmark'].tolist()\n",
    "    return f\"Total Distance: {best_dist:.2f} km, Best Route: {location_order}\"\n",
    "    "
   ]
  },
  {
   "cell_type": "code",
   "execution_count": 274,
   "id": "14efc24f-3d76-44b9-86ee-a63cf9c2c02f",
   "metadata": {},
   "outputs": [
    {
     "data": {
      "application/vnd.plotly.v1+json": {
       "config": {
        "plotlyServerURL": "https://plot.ly"
       },
       "data": [
        {
         "hoverinfo": "text",
         "lat": [
          38.7942232,
          38.6247
         ],
         "line": {
          "color": "green",
          "width": 2
         },
         "lon": [
          -90.2097252,
          -90.1848
         ],
         "mode": "lines",
         "showlegend": false,
         "text": [
          "home → gateway_arch<br>Distance: 18.97 km"
         ],
         "type": "scattermap"
        },
        {
         "hoverinfo": "text",
         "lat": [
          38.6247,
          40.6892
         ],
         "line": {
          "color": "green",
          "width": 2
         },
         "lon": [
          -90.1848,
          -74.0445
         ],
         "mode": "lines",
         "showlegend": false,
         "text": [
          "gateway_arch → statue_of_liberty<br>Distance: 1398.59 km"
         ],
         "type": "scattermap"
        },
        {
         "hoverinfo": "text",
         "lat": [
          40.6892,
          28.3852
         ],
         "line": {
          "color": "green",
          "width": 2
         },
         "lon": [
          -74.0445,
          -81.5639
         ],
         "mode": "lines",
         "showlegend": false,
         "text": [
          "statue_of_liberty → disney_world<br>Distance: 1530.22 km"
         ],
         "type": "scattermap"
        },
        {
         "hoverinfo": "text",
         "lat": [
          28.3852,
          37.8199
         ],
         "line": {
          "color": "green",
          "width": 2
         },
         "lon": [
          -81.5639,
          -122.4783
         ],
         "mode": "lines",
         "showlegend": false,
         "text": [
          "disney_world → golden_gate_bridge<br>Distance: 3919.15 km"
         ],
         "type": "scattermap"
        },
        {
         "hoverinfo": "text",
         "lat": [
          37.8199,
          43.8791
         ],
         "line": {
          "color": "green",
          "width": 2
         },
         "lon": [
          -122.4783,
          -103.4591
         ],
         "mode": "lines",
         "showlegend": false,
         "text": [
          "golden_gate_bridge → mount_rushmore<br>Distance: 1730.68 km"
         ],
         "type": "scattermap"
        },
        {
         "hoverinfo": "text",
         "lat": [
          43.8791,
          38.7942232
         ],
         "line": {
          "color": "green",
          "width": 2
         },
         "lon": [
          -103.4591,
          -90.2097252
         ],
         "mode": "lines",
         "showlegend": false,
         "text": [
          "mount_rushmore → home<br>Distance: 1240.28 km"
         ],
         "type": "scattermap"
        },
        {
         "hoverinfo": "text",
         "lat": {
          "_inputArray": {
           "0": 38.7942232,
           "1": 38.6247,
           "2": 40.6892,
           "3": 28.3852,
           "4": 37.8199,
           "5": 43.8791,
           "6": 38.7942232,
           "bdata": "u9wWG6llQ0DV52or9k9DQJwzorQ3WERAUWuad5xiPEDF/rJ78uhCQPH0SlmG8EVAu9wWG6llQ0A=",
           "dtype": "f8",
           "shape": "7"
          },
          "bdata": "u9wWG6llQ0DV52or9k9DQJwzorQ3WERAUWuad5xiPEDF/rJ78uhCQPH0SlmG8EVAu9wWG6llQ0A=",
          "dtype": "f8"
         },
         "lon": {
          "_inputArray": {
           "0": -90.2097252,
           "1": -90.1848,
           "2": -74.0445,
           "3": -81.5639,
           "4": -122.4783,
           "5": -103.4591,
           "6": -90.2097252,
           "bdata": "ack+I2yNVsBAE2HD04tWwAIrhxbZglLAuY0G8BZkVMBRa5p3nJ5ewP5l9+Rh3VnAack+I2yNVsA=",
           "dtype": "f8",
           "shape": "7"
          },
          "bdata": "ack+I2yNVsBAE2HD04tWwAIrhxbZglLAuY0G8BZkVMBRa5p3nJ5ewP5l9+Rh3VnAack+I2yNVsA=",
          "dtype": "f8"
         },
         "marker": {
          "color": "green",
          "size": 10
         },
         "mode": "markers",
         "name": "Optimized Route",
         "text": [
          "<b>home</b><br>Type: home<br>Visit Time: 0 hrs<br>Popularity Score: 0<br>Next Leg Distance: 18.97 km",
          "<b>gateway_arch</b><br>Type: architectural<br>Visit Time: 2 hrs<br>Popularity Score: 44<br>Next Leg Distance: 1398.59 km",
          "<b>statue_of_liberty</b><br>Type: historical_architectural<br>Visit Time: 4 hrs<br>Popularity Score: 50<br>Next Leg Distance: 1530.22 km",
          "<b>disney_world</b><br>Type: amusement_park<br>Visit Time: 8 hrs<br>Popularity Score: 98<br>Next Leg Distance: 3919.15 km",
          "<b>golden_gate_bridge</b><br>Type: architectural<br>Visit Time: 2 hrs<br>Popularity Score: 59<br>Next Leg Distance: 1730.68 km",
          "<b>mount_rushmore</b><br>Type: historical_architectural<br>Visit Time: 2 hrs<br>Popularity Score: 47<br>Next Leg Distance: 1240.28 km",
          "<b>home</b><br>Type: home<br>Visit Time: 0 hrs<br>Popularity Score: 0<br>End of Route"
         ],
         "type": "scattermap"
        }
       ],
       "layout": {
        "autosize": true,
        "map": {
         "bearing": 0,
         "center": {
          "lat": -20.323514113010773,
          "lon": 138.03246639806662
         },
         "pitch": 0,
         "zoom": -0.004035434005095221
        },
        "mapbox": {
         "center": {
          "lat": 38.140935199999994,
          "lon": -93.16429291428571
         },
         "style": "open-street-map",
         "zoom": 4
        },
        "template": {
         "data": {
          "bar": [
           {
            "error_x": {
             "color": "#2a3f5f"
            },
            "error_y": {
             "color": "#2a3f5f"
            },
            "marker": {
             "line": {
              "color": "#E5ECF6",
              "width": 0.5
             },
             "pattern": {
              "fillmode": "overlay",
              "size": 10,
              "solidity": 0.2
             }
            },
            "type": "bar"
           }
          ],
          "barpolar": [
           {
            "marker": {
             "line": {
              "color": "#E5ECF6",
              "width": 0.5
             },
             "pattern": {
              "fillmode": "overlay",
              "size": 10,
              "solidity": 0.2
             }
            },
            "type": "barpolar"
           }
          ],
          "carpet": [
           {
            "aaxis": {
             "endlinecolor": "#2a3f5f",
             "gridcolor": "white",
             "linecolor": "white",
             "minorgridcolor": "white",
             "startlinecolor": "#2a3f5f"
            },
            "baxis": {
             "endlinecolor": "#2a3f5f",
             "gridcolor": "white",
             "linecolor": "white",
             "minorgridcolor": "white",
             "startlinecolor": "#2a3f5f"
            },
            "type": "carpet"
           }
          ],
          "choropleth": [
           {
            "colorbar": {
             "outlinewidth": 0,
             "ticks": ""
            },
            "type": "choropleth"
           }
          ],
          "contour": [
           {
            "colorbar": {
             "outlinewidth": 0,
             "ticks": ""
            },
            "colorscale": [
             [
              0,
              "#0d0887"
             ],
             [
              0.1111111111111111,
              "#46039f"
             ],
             [
              0.2222222222222222,
              "#7201a8"
             ],
             [
              0.3333333333333333,
              "#9c179e"
             ],
             [
              0.4444444444444444,
              "#bd3786"
             ],
             [
              0.5555555555555556,
              "#d8576b"
             ],
             [
              0.6666666666666666,
              "#ed7953"
             ],
             [
              0.7777777777777778,
              "#fb9f3a"
             ],
             [
              0.8888888888888888,
              "#fdca26"
             ],
             [
              1,
              "#f0f921"
             ]
            ],
            "type": "contour"
           }
          ],
          "contourcarpet": [
           {
            "colorbar": {
             "outlinewidth": 0,
             "ticks": ""
            },
            "type": "contourcarpet"
           }
          ],
          "heatmap": [
           {
            "colorbar": {
             "outlinewidth": 0,
             "ticks": ""
            },
            "colorscale": [
             [
              0,
              "#0d0887"
             ],
             [
              0.1111111111111111,
              "#46039f"
             ],
             [
              0.2222222222222222,
              "#7201a8"
             ],
             [
              0.3333333333333333,
              "#9c179e"
             ],
             [
              0.4444444444444444,
              "#bd3786"
             ],
             [
              0.5555555555555556,
              "#d8576b"
             ],
             [
              0.6666666666666666,
              "#ed7953"
             ],
             [
              0.7777777777777778,
              "#fb9f3a"
             ],
             [
              0.8888888888888888,
              "#fdca26"
             ],
             [
              1,
              "#f0f921"
             ]
            ],
            "type": "heatmap"
           }
          ],
          "histogram": [
           {
            "marker": {
             "pattern": {
              "fillmode": "overlay",
              "size": 10,
              "solidity": 0.2
             }
            },
            "type": "histogram"
           }
          ],
          "histogram2d": [
           {
            "colorbar": {
             "outlinewidth": 0,
             "ticks": ""
            },
            "colorscale": [
             [
              0,
              "#0d0887"
             ],
             [
              0.1111111111111111,
              "#46039f"
             ],
             [
              0.2222222222222222,
              "#7201a8"
             ],
             [
              0.3333333333333333,
              "#9c179e"
             ],
             [
              0.4444444444444444,
              "#bd3786"
             ],
             [
              0.5555555555555556,
              "#d8576b"
             ],
             [
              0.6666666666666666,
              "#ed7953"
             ],
             [
              0.7777777777777778,
              "#fb9f3a"
             ],
             [
              0.8888888888888888,
              "#fdca26"
             ],
             [
              1,
              "#f0f921"
             ]
            ],
            "type": "histogram2d"
           }
          ],
          "histogram2dcontour": [
           {
            "colorbar": {
             "outlinewidth": 0,
             "ticks": ""
            },
            "colorscale": [
             [
              0,
              "#0d0887"
             ],
             [
              0.1111111111111111,
              "#46039f"
             ],
             [
              0.2222222222222222,
              "#7201a8"
             ],
             [
              0.3333333333333333,
              "#9c179e"
             ],
             [
              0.4444444444444444,
              "#bd3786"
             ],
             [
              0.5555555555555556,
              "#d8576b"
             ],
             [
              0.6666666666666666,
              "#ed7953"
             ],
             [
              0.7777777777777778,
              "#fb9f3a"
             ],
             [
              0.8888888888888888,
              "#fdca26"
             ],
             [
              1,
              "#f0f921"
             ]
            ],
            "type": "histogram2dcontour"
           }
          ],
          "mesh3d": [
           {
            "colorbar": {
             "outlinewidth": 0,
             "ticks": ""
            },
            "type": "mesh3d"
           }
          ],
          "parcoords": [
           {
            "line": {
             "colorbar": {
              "outlinewidth": 0,
              "ticks": ""
             }
            },
            "type": "parcoords"
           }
          ],
          "pie": [
           {
            "automargin": true,
            "type": "pie"
           }
          ],
          "scatter": [
           {
            "fillpattern": {
             "fillmode": "overlay",
             "size": 10,
             "solidity": 0.2
            },
            "type": "scatter"
           }
          ],
          "scatter3d": [
           {
            "line": {
             "colorbar": {
              "outlinewidth": 0,
              "ticks": ""
             }
            },
            "marker": {
             "colorbar": {
              "outlinewidth": 0,
              "ticks": ""
             }
            },
            "type": "scatter3d"
           }
          ],
          "scattercarpet": [
           {
            "marker": {
             "colorbar": {
              "outlinewidth": 0,
              "ticks": ""
             }
            },
            "type": "scattercarpet"
           }
          ],
          "scattergeo": [
           {
            "marker": {
             "colorbar": {
              "outlinewidth": 0,
              "ticks": ""
             }
            },
            "type": "scattergeo"
           }
          ],
          "scattergl": [
           {
            "marker": {
             "colorbar": {
              "outlinewidth": 0,
              "ticks": ""
             }
            },
            "type": "scattergl"
           }
          ],
          "scattermap": [
           {
            "marker": {
             "colorbar": {
              "outlinewidth": 0,
              "ticks": ""
             }
            },
            "type": "scattermap"
           }
          ],
          "scattermapbox": [
           {
            "marker": {
             "colorbar": {
              "outlinewidth": 0,
              "ticks": ""
             }
            },
            "type": "scattermapbox"
           }
          ],
          "scatterpolar": [
           {
            "marker": {
             "colorbar": {
              "outlinewidth": 0,
              "ticks": ""
             }
            },
            "type": "scatterpolar"
           }
          ],
          "scatterpolargl": [
           {
            "marker": {
             "colorbar": {
              "outlinewidth": 0,
              "ticks": ""
             }
            },
            "type": "scatterpolargl"
           }
          ],
          "scatterternary": [
           {
            "marker": {
             "colorbar": {
              "outlinewidth": 0,
              "ticks": ""
             }
            },
            "type": "scatterternary"
           }
          ],
          "surface": [
           {
            "colorbar": {
             "outlinewidth": 0,
             "ticks": ""
            },
            "colorscale": [
             [
              0,
              "#0d0887"
             ],
             [
              0.1111111111111111,
              "#46039f"
             ],
             [
              0.2222222222222222,
              "#7201a8"
             ],
             [
              0.3333333333333333,
              "#9c179e"
             ],
             [
              0.4444444444444444,
              "#bd3786"
             ],
             [
              0.5555555555555556,
              "#d8576b"
             ],
             [
              0.6666666666666666,
              "#ed7953"
             ],
             [
              0.7777777777777778,
              "#fb9f3a"
             ],
             [
              0.8888888888888888,
              "#fdca26"
             ],
             [
              1,
              "#f0f921"
             ]
            ],
            "type": "surface"
           }
          ],
          "table": [
           {
            "cells": {
             "fill": {
              "color": "#EBF0F8"
             },
             "line": {
              "color": "white"
             }
            },
            "header": {
             "fill": {
              "color": "#C8D4E3"
             },
             "line": {
              "color": "white"
             }
            },
            "type": "table"
           }
          ]
         },
         "layout": {
          "annotationdefaults": {
           "arrowcolor": "#2a3f5f",
           "arrowhead": 0,
           "arrowwidth": 1
          },
          "autotypenumbers": "strict",
          "coloraxis": {
           "colorbar": {
            "outlinewidth": 0,
            "ticks": ""
           }
          },
          "colorscale": {
           "diverging": [
            [
             0,
             "#8e0152"
            ],
            [
             0.1,
             "#c51b7d"
            ],
            [
             0.2,
             "#de77ae"
            ],
            [
             0.3,
             "#f1b6da"
            ],
            [
             0.4,
             "#fde0ef"
            ],
            [
             0.5,
             "#f7f7f7"
            ],
            [
             0.6,
             "#e6f5d0"
            ],
            [
             0.7,
             "#b8e186"
            ],
            [
             0.8,
             "#7fbc41"
            ],
            [
             0.9,
             "#4d9221"
            ],
            [
             1,
             "#276419"
            ]
           ],
           "sequential": [
            [
             0,
             "#0d0887"
            ],
            [
             0.1111111111111111,
             "#46039f"
            ],
            [
             0.2222222222222222,
             "#7201a8"
            ],
            [
             0.3333333333333333,
             "#9c179e"
            ],
            [
             0.4444444444444444,
             "#bd3786"
            ],
            [
             0.5555555555555556,
             "#d8576b"
            ],
            [
             0.6666666666666666,
             "#ed7953"
            ],
            [
             0.7777777777777778,
             "#fb9f3a"
            ],
            [
             0.8888888888888888,
             "#fdca26"
            ],
            [
             1,
             "#f0f921"
            ]
           ],
           "sequentialminus": [
            [
             0,
             "#0d0887"
            ],
            [
             0.1111111111111111,
             "#46039f"
            ],
            [
             0.2222222222222222,
             "#7201a8"
            ],
            [
             0.3333333333333333,
             "#9c179e"
            ],
            [
             0.4444444444444444,
             "#bd3786"
            ],
            [
             0.5555555555555556,
             "#d8576b"
            ],
            [
             0.6666666666666666,
             "#ed7953"
            ],
            [
             0.7777777777777778,
             "#fb9f3a"
            ],
            [
             0.8888888888888888,
             "#fdca26"
            ],
            [
             1,
             "#f0f921"
            ]
           ]
          },
          "colorway": [
           "#636efa",
           "#EF553B",
           "#00cc96",
           "#ab63fa",
           "#FFA15A",
           "#19d3f3",
           "#FF6692",
           "#B6E880",
           "#FF97FF",
           "#FECB52"
          ],
          "font": {
           "color": "#2a3f5f"
          },
          "geo": {
           "bgcolor": "white",
           "lakecolor": "white",
           "landcolor": "#E5ECF6",
           "showlakes": true,
           "showland": true,
           "subunitcolor": "white"
          },
          "hoverlabel": {
           "align": "left"
          },
          "hovermode": "closest",
          "mapbox": {
           "style": "light"
          },
          "paper_bgcolor": "white",
          "plot_bgcolor": "#E5ECF6",
          "polar": {
           "angularaxis": {
            "gridcolor": "white",
            "linecolor": "white",
            "ticks": ""
           },
           "bgcolor": "#E5ECF6",
           "radialaxis": {
            "gridcolor": "white",
            "linecolor": "white",
            "ticks": ""
           }
          },
          "scene": {
           "xaxis": {
            "backgroundcolor": "#E5ECF6",
            "gridcolor": "white",
            "gridwidth": 2,
            "linecolor": "white",
            "showbackground": true,
            "ticks": "",
            "zerolinecolor": "white"
           },
           "yaxis": {
            "backgroundcolor": "#E5ECF6",
            "gridcolor": "white",
            "gridwidth": 2,
            "linecolor": "white",
            "showbackground": true,
            "ticks": "",
            "zerolinecolor": "white"
           },
           "zaxis": {
            "backgroundcolor": "#E5ECF6",
            "gridcolor": "white",
            "gridwidth": 2,
            "linecolor": "white",
            "showbackground": true,
            "ticks": "",
            "zerolinecolor": "white"
           }
          },
          "shapedefaults": {
           "line": {
            "color": "#2a3f5f"
           }
          },
          "ternary": {
           "aaxis": {
            "gridcolor": "white",
            "linecolor": "white",
            "ticks": ""
           },
           "baxis": {
            "gridcolor": "white",
            "linecolor": "white",
            "ticks": ""
           },
           "bgcolor": "#E5ECF6",
           "caxis": {
            "gridcolor": "white",
            "linecolor": "white",
            "ticks": ""
           }
          },
          "title": {
           "x": 0.05
          },
          "xaxis": {
           "automargin": true,
           "gridcolor": "white",
           "linecolor": "white",
           "ticks": "",
           "title": {
            "standoff": 15
           },
           "zerolinecolor": "white",
           "zerolinewidth": 2
          },
          "yaxis": {
           "automargin": true,
           "gridcolor": "white",
           "linecolor": "white",
           "ticks": "",
           "title": {
            "standoff": 15
           },
           "zerolinecolor": "white",
           "zerolinewidth": 2
          }
         }
        },
        "title": {
         "text": "Optimized Route — Total Distance: 9848.68 km"
        }
       }
      },
      "image/png": "[encoded data removed]"
     },
     "metadata": {},
     "output_type": "display_data"
    },
    {
     "name": "stdout",
     "output_type": "stream",
     "text": [
      "The model calculated the optimal route and produced a visualization in 1.23 seconds.\n"
     ]
    }
   ],
   "source": [
    "# Geocoder works best with street address, city and state at a minimum\n",
    "address = '1417 Columbus Drive St. Louis Mo'\n",
    "\n",
    "# Calculate the time the model needs to calculate the best route\n",
    "\n",
    "start_time = time.time()\n",
    "\n",
    "result = best_route_map(address, df)\n",
    "\n",
    "end_time = time.time()\n",
    "\n",
    "elapsed_time = end_time - start_time\n",
    "print(f\"The model calculated the optimal route and produced a visualization in {elapsed_time:.2f} seconds.\")"
   ]
  },
  {
   "cell_type": "markdown",
   "id": "ecde856a-2f42-49f4-bcce-8cb0c44b6c22",
   "metadata": {},
   "source": [
    "## Conclusion"
   ]
  },
  {
   "cell_type": "code",
   "execution_count": null,
   "id": "b7e2ef28-0525-444f-a608-a8c2a218cc3b",
   "metadata": {},
   "outputs": [],
   "source": []
  }
 ],
 "metadata": {
  "kernelspec": {
   "display_name": "Python [conda env:base] *",
   "language": "python",
   "name": "conda-base-py"
  },
  "language_info": {
   "codemirror_mode": {
    "name": "ipython",
    "version": 3
   },
   "file_extension": ".py",
   "mimetype": "text/x-python",
   "name": "python",
   "nbconvert_exporter": "python",
   "pygments_lexer": "ipython3",
   "version": "3.12.7"
  }
 },
 "nbformat": 4,
 "nbformat_minor": 5
}
