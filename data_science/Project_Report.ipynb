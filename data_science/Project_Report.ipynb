{
 "cells": [
  {
   "cell_type": "markdown",
   "id": "54165985-2a80-4cf5-93bd-ee2fc5c72736",
   "metadata": {},
   "source": [
    "# Sunchaser: Roadtrip Route Optimizer  | Project Report\n",
    "\n",
    "Our project set out to create a meaningful sightseeing experience by developing a model that helps travelers plan efficient road trips through some of the most iconic landmarks in the United States. We began by collecting data manually through web searches, gathering key details like landmark names, locations, types, average user ratings, visit times, reviews, and annual visitor numbers. Although the original dataset included nine columns and a variety of landmarks, we narrowed our focus to five nationally recognized destinations, giving us a manageable yet relevant sample for route optimization.\n",
    "\n",
    "To prepare the data, we standardized text formats, cleaned up inconsistencies, and engineered a popularity score that blended user ratings, reviews, and visitor counts into a single metric. This popularity score allowed us to rank landmarks objectively and use that ranking to inform route planning and analysis. We explored patterns in landmark popularity and visit times through interactive visualizations, which highlighted trends such as Disney World’s standout popularity and the Gateway Arch ranking lowest among the five selected landmarks.\n",
    "\n",
    "Our analysis began with a baseline model that randomly ordered the landmarks and calculated the total travel distance without any optimization. To measure these distances accurately, we implemented the haversine formula, using it in a reusable function that became the foundation for all route calculations. Once we had a working baseline, we developed a brute-force optimization algorithm designed to test every possible route permutation, seeking the shortest possible travel path while ensuring each landmark was visited only once. To support user interaction, we included a geocoding feature that converts addresses into latitude and longitude, allowing the model to adapt routes based on the user’s starting location.\n",
    "\n",
    "The comparison between the baseline and optimized routes revealed that our optimization reduced the total travel distance by about 224 kilometers, with the optimized route covering approximately 9,849 kilometers compared to the baseline’s 10,072 kilometers. Though the baseline route was computed almost instantly, the optimized route—calculated in just over a second—demonstrated that thoughtful route planning can yield significant travel efficiency.\n",
    "\n",
    "Throughout the project, we emphasized the importance of visualizing both data and outcomes. We built interactive maps that not only displayed the route but also offered detailed hover pop-ups for each landmark, showing information like the landmark’s name, type, popularity score, visit time, and the distance to the next stop. This interactivity enhanced user engagement and made the route data more accessible. Other visualizations, like popularity rankings and visit time comparisons, offered deeper insights into how landmark features influence travel planning.\n",
    "\n",
    "Ultimately, this project showed that data science techniques—when combined with thoughtful visualization and interactive design—can transform how travelers approach trip planning. While our study focused on a select group of landmarks, the methodology lays the groundwork for scaling to larger datasets and integrating real-time factors like traffic or weather. This foundation not only highlights the value of optimized routing but also opens opportunities for future enhancements in user experience and practical application."
   ]
  },
  {
   "cell_type": "code",
   "execution_count": null,
   "id": "8bcad425-0b68-4bae-84b3-78766fae4d60",
   "metadata": {},
   "outputs": [],
   "source": []
  }
 ],
 "metadata": {
  "kernelspec": {
   "display_name": "Python [conda env:base] *",
   "language": "python",
   "name": "conda-base-py"
  },
  "language_info": {
   "codemirror_mode": {
    "name": "ipython",
    "version": 3
   },
   "file_extension": ".py",
   "mimetype": "text/x-python",
   "name": "python",
   "nbconvert_exporter": "python",
   "pygments_lexer": "ipython3",
   "version": "3.12.7"
  }
 },
 "nbformat": 4,
 "nbformat_minor": 5
}
